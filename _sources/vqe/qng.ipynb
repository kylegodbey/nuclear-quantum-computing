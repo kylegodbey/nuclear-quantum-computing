{
 "cells": [
  {
   "cell_type": "markdown",
   "metadata": {},
   "source": [
    "# Quantum Natural Gradient\n",
    "\n",
    "Author(s): Kyle Godbey\n",
    "\n",
    "Maintainer: Kyle Godbey\n",
    "\n",
    "For this last application, let's think of a way to improve our VQE algorithm by exploiting some features of our quantum computing architecture. What we'll do is, instead of computing the gradient of the variational parameters of our ansatz, we'll instead compute the so-called Quantum Natural Gradient. This is an extension of the standard natural gradient which moves in the steepest descent direction of the information geometry, using something like the Fisher metric. For these quantum systems, we'll instead use the Fubini-Study metric (real part of the quantum geometric tensor) to determine the most optimal step in the ansatz parameters. For more details you should have a look at the [Quantum Natural Gradient](https://quantum-journal.org/papers/q-2020-05-25-269/) paper published in 2020.\n",
    "\n",
    "While it's not too difficult to calculate this measure yourself by constructing the Hessian using [parameter shift rules](https://pennylane.ai/qml/glossary/parameter_shift.html), we'll be using a built in pennylane method to make our lives easier. \n",
    "\n",
    "Most of this will be the same as the N=3 case, so we'll toss it all in a cell together -- be sure to check that you know what's happening though!"
   ]
  },
  {
   "cell_type": "code",
   "execution_count": 2,
   "metadata": {},
   "outputs": [],
   "source": [
    "%matplotlib inline\n",
    "\n",
    "import matplotlib.pyplot as plt\n",
    "from pennylane import numpy as np\n",
    "import pennylane as qml\n",
    "import warnings\n",
    "warnings.filterwarnings('ignore')\n",
    "\n",
    "# In this case we now need 3 qubits\n",
    "\n",
    "dev = qml.device(\"default.qubit\", wires=3)\n",
    "\n",
    "# Defining our ansatz circuit for the N=3 case\n",
    "\n",
    "def circuit(params,wires):\n",
    "    t0 = params[0]\n",
    "    t1 = params[1]\n",
    "    qml.PauliX(wires=0)\n",
    "    qml.RY(t1, wires=1)\n",
    "    qml.RY(t0, wires=2)\n",
    "    qml.CNOT(wires=[2,0])\n",
    "    qml.CNOT(wires=[0,1])\n",
    "    qml.RY(-t1, wires=1)\n",
    "    qml.CNOT(wires=[0,1])\n",
    "    qml.CNOT(wires=[1,0])\n",
    "\n",
    "# And building our Hamiltonian for the N=3 case\n",
    "\n",
    "coeffs = [15.531709 ,-2.1433, -2.1433, 0.21829, -6.125, -9.625, -3.91, -3.91]\n",
    "obs = [qml.Identity(0),qml.PauliX(0) @ qml.PauliX(1), qml.PauliY(0) @ qml.PauliY(1),qml.PauliZ(0),qml.PauliZ(1),qml.PauliZ(2),qml.PauliX(1) @ qml.PauliX(2),qml.PauliY(1) @ qml.PauliY(2)]\n",
    "\n",
    "H = qml.Hamiltonian(coeffs, obs)\n",
    "cost_fn = qml.ExpvalCost(circuit, H, dev)\n"
   ]
  },
  {
   "cell_type": "markdown",
   "metadata": {},
   "source": [
    "Now we'll still set up what we need for our VQE procedure, but we'll be running it twice, so setting the initial parameters is a necessity for the sake of fairness."
   ]
  },
  {
   "cell_type": "code",
   "execution_count": 3,
   "metadata": {},
   "outputs": [],
   "source": [
    "# Hand-picked, small-batch initialization\n",
    "\n",
    "init_params = np.array([2.5,4.5])\n",
    "\n",
    "# Convergence information and step size\n",
    "\n",
    "max_iterations = 500\n",
    "conv_tol = 1e-06\n",
    "step_size = 0.01"
   ]
  },
  {
   "cell_type": "markdown",
   "metadata": {},
   "source": [
    "For the VQE block, we'll run two one after another. First up is the same thing we had before, good ol' gradient descent."
   ]
  },
  {
   "cell_type": "code",
   "execution_count": 9,
   "metadata": {},
   "outputs": [
    {
     "name": "stdout",
     "output_type": "stream",
     "text": [
      "Iteration = 0,  Energy = 22.73185830 MeV,  Convergence parameter = 0.16533643 MeV\n",
      "Iteration = 20,  Energy = 13.86733622 MeV,  Convergence parameter = 0.85950160 MeV\n",
      "Iteration = 40,  Energy = 0.66226895 MeV,  Convergence parameter = 0.41277410 MeV\n",
      "Iteration = 60,  Energy = -1.94958676 MeV,  Convergence parameter = 0.01827050 MeV\n",
      "Iteration = 80,  Energy = -2.04226133 MeV,  Convergence parameter = 0.00054725 MeV\n",
      "Iteration = 100,  Energy = -2.04502496 MeV,  Convergence parameter = 0.00001629 MeV\n",
      "\n",
      "Final value of the energy = -2.04510468 MeV\n",
      "Number of iterations =  116\n"
     ]
    }
   ],
   "source": [
    "opt = qml.GradientDescentOptimizer(stepsize=step_size)\n",
    "\n",
    "params = init_params\n",
    "\n",
    "gd_param_history = [params]\n",
    "gd_cost_history = []\n",
    "\n",
    "for n in range(max_iterations):\n",
    "\n",
    "    # Take a step in parameter space and record your energy\n",
    "    params, prev_energy = opt.step_and_cost(cost_fn, params)\n",
    "\n",
    "    # This keeps track of our energy for plotting at comparisons\n",
    "    gd_param_history.append(params)\n",
    "    gd_cost_history.append(prev_energy)\n",
    "\n",
    "    # Here we see what the energy of our system is with the new parameters\n",
    "    energy = cost_fn(params)\n",
    "\n",
    "    # Calculate difference between new and old energies\n",
    "    conv = np.abs(energy - prev_energy)\n",
    "\n",
    "    if n % 20 == 0:\n",
    "        print(\n",
    "            \"Iteration = {:},  Energy = {:.8f} MeV,  Convergence parameter = {\"\n",
    "            \":.8f} MeV\".format(n, energy, conv)\n",
    "        )\n",
    "\n",
    "    if conv <= conv_tol:\n",
    "        break\n",
    "\n",
    "print()\n",
    "print(\"Final value of the energy = {:.8f} MeV\".format(energy))\n",
    "print(\"Number of iterations = \", n)"
   ]
  },
  {
   "cell_type": "markdown",
   "metadata": {},
   "source": [
    "Looks the same as before, that's a good sign. Now let's try the QNG!"
   ]
  },
  {
   "cell_type": "code",
   "execution_count": 7,
   "metadata": {},
   "outputs": [
    {
     "name": "stdout",
     "output_type": "stream",
     "text": [
      "Iteration = 0,  Energy = 22.30149608 MeV,  Convergence parameter = 0.59569865 MeV\n",
      "Iteration = 20,  Energy = -2.03927628 MeV,  Convergence parameter = 0.00595511 MeV\n",
      "\n",
      "Final value of the energy = -2.04510917 MeV\n",
      "Number of iterations =  33\n"
     ]
    }
   ],
   "source": [
    "opt = qml.QNGOptimizer(stepsize=step_size)\n",
    "\n",
    "params = init_params\n",
    "\n",
    "qng_param_history = [params]\n",
    "qng_cost_history = []\n",
    "\n",
    "for n in range(max_iterations):\n",
    "\n",
    "    # Take a step in parameter space and record your energy\n",
    "    params, prev_energy = opt.step_and_cost(cost_fn, params)\n",
    "\n",
    "    # This keeps track of our energy for plotting at comparisons\n",
    "    qng_param_history.append(params)\n",
    "    qng_cost_history.append(prev_energy)\n",
    "\n",
    "    # Here we see what the energy of our system is with the new parameters\n",
    "    energy = cost_fn(params)\n",
    "\n",
    "    # Calculate difference between new and old energies\n",
    "    conv = np.abs(energy - prev_energy)\n",
    "\n",
    "    if n % 20 == 0:\n",
    "        print(\n",
    "            \"Iteration = {:},  Energy = {:.8f} MeV,  Convergence parameter = {\"\n",
    "            \":.8f} MeV\".format(n, energy, conv)\n",
    "        )\n",
    "\n",
    "    if conv <= conv_tol:\n",
    "        break\n",
    "\n",
    "print()\n",
    "print(\"Final value of the energy = {:.8f} MeV\".format(energy))\n",
    "print(\"Number of iterations = \", n)"
   ]
  },
  {
   "cell_type": "markdown",
   "metadata": {},
   "source": [
    "Very nice! We sped things up a good bit, but let's check the convergence plot to see the behavior over the iterations."
   ]
  },
  {
   "cell_type": "code",
   "execution_count": 11,
   "metadata": {},
   "outputs": [
    {
     "data": {
      "image/png": "[encoded data removed]",
      "text/plain": [
       "<Figure size 576x396 with 1 Axes>"
      ]
     },
     "metadata": {},
     "output_type": "display_data"
    }
   ],
   "source": [
    "plt.style.use(\"seaborn\")\n",
    "\n",
    "plt.plot(gd_cost_history, \"b\", label=\"Gradient descent\")\n",
    "plt.plot(qng_cost_history, \"g\", label=\"Quantum Natural Gradient\")\n",
    "\n",
    "plt.ylabel(\"Energy (MeV)\")\n",
    "plt.xlabel(\"Optimization steps\")\n",
    "plt.legend()\n",
    "plt.show()"
   ]
  },
  {
   "cell_type": "markdown",
   "metadata": {},
   "source": [
    "Wow! It seems taking a more intelligent step in parameter space can work wonders towards finding an optimal solution. This works much better than simply adding a variable time step, like we did for the general case. Try implementing the QNG optimizer for higher dimensions and check the performance!\n",
    "\n",
    "Finally, we can plot how we trace the potential energy surface (PES) as we find a solution. It's a little more exciting now that we have two paths -- let's imagine they're racing through the mountains.\n",
    "\n",
    "If you're running this yourself, you can either generate the surface yourself or put this code in a cell to download it locally:\n",
    "\n",
    "`!wget https://github.com/kylegodbey/nuclear-quantum-computing/raw/main/nuclear-qc/vqe/deut_pes_n3.npy`"
   ]
  },
  {
   "cell_type": "code",
   "execution_count": 13,
   "metadata": {},
   "outputs": [
    {
     "data": {
      "image/png": "[encoded data removed]",
      "text/plain": [
       "<Figure size 432x432 with 1 Axes>"
      ]
     },
     "metadata": {},
     "output_type": "display_data"
    }
   ],
   "source": [
    "# Discretize the parameter space\n",
    "theta0 = np.linspace(0.0, 2.0 * np.pi, 100)\n",
    "theta1 = np.linspace(0.0, 2.0 * np.pi, 100)\n",
    "\n",
    "# Load energy value at each point in parameter space\n",
    "pes = np.load(\"deut_pes_n3.npy\")\n",
    "\n",
    "# Get the minimum of the PES\n",
    "minloc=np.unravel_index(pes.argmin(),pes.shape)\n",
    "\n",
    "# Plot energy landscape\n",
    "fig, axes = plt.subplots(figsize=(6, 6))\n",
    "\n",
    "cmap = plt.cm.get_cmap(\"coolwarm\")\n",
    "contour_plot = plt.contourf(theta0, theta1, pes.T, cmap=cmap)\n",
    "\n",
    "plt.xlabel(r\"$\\theta_0$\")\n",
    "plt.ylabel(r\"$\\theta_1$\")\n",
    "\n",
    "plt.plot(theta0[minloc[0]],theta1[minloc[1]],\"r*\",markersize=20,label=\"Minimum\")\n",
    "\n",
    "# Plot optimization path for gradient descent. Plot every 10th point.\n",
    "gd_color = \"b\"\n",
    "\n",
    "plt.plot(\n",
    "    np.array(gd_param_history)[::10, 0],\n",
    "    np.array(gd_param_history)[::10, 1],\n",
    "    \".\",markersize=12,\n",
    "    color=gd_color,\n",
    "    linewidth=2,\n",
    "    label=\"Gradient descent\",\n",
    ")\n",
    "plt.plot(\n",
    "    np.array(gd_param_history)[:, 0],\n",
    "    np.array(gd_param_history)[:, 1],\n",
    "    \"-\",\n",
    "    color=gd_color,\n",
    "    linewidth=1,\n",
    ")\n",
    "\n",
    "# Plot optimization path for qng. Plot every 10th point.\n",
    "qng_color = \"g\"\n",
    "\n",
    "plt.plot(\n",
    "    np.array(qng_param_history)[::10, 0],\n",
    "    np.array(qng_param_history)[::10, 1],\n",
    "    \".\",markersize=12,\n",
    "    color=qng_color,\n",
    "    linewidth=2,\n",
    "    label=\"Quantum Natural Gradient\",\n",
    ")\n",
    "plt.plot(\n",
    "    np.array(qng_param_history)[:, 0],\n",
    "    np.array(qng_param_history)[:, 1],\n",
    "    \"-\",\n",
    "    color=qng_color,\n",
    "    linewidth=1,\n",
    ")\n",
    "\n",
    "plt.legend()\n",
    "plt.show()"
   ]
  },
  {
   "cell_type": "markdown",
   "metadata": {},
   "source": [
    "You can see that the paths are not massively different, but the QNG results in a much sharper gradient in the parameter space. Exemplified by the spacing between the points along the line, showing the value every ten time steps. This steeper landscape leads to bigger steps towards the minimum without risking overshooting, making it an excellent fit in situations where you can make use of it!\n",
    "\n",
    "This concludes our exploration of playing with VQE ad nauseam, next up we'll explore what happens when things get a bit more noisy."
   ]
  }
 ],
 "metadata": {
  "kernelspec": {
   "display_name": "Python 3.10.4 64-bit",
   "language": "python",
   "name": "python3"
  },
  "language_info": {
   "codemirror_mode": {
    "name": "ipython",
    "version": 3
   },
   "file_extension": ".py",
   "mimetype": "text/x-python",
   "name": "python",
   "nbconvert_exporter": "python",
   "pygments_lexer": "ipython3",
   "version": "3.10.4"
  },
  "orig_nbformat": 4,
  "vscode": {
   "interpreter": {
    "hash": "e7370f93d1d0cde622a1f8e1c04877d8463912d04d973331ad4851f04de6915a"
   }
  }
 },
 "nbformat": 4,
 "nbformat_minor": 2
}
