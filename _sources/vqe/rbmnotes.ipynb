{
 "cells": [
  {
   "cell_type": "markdown",
   "metadata": {},
   "source": [
    "# A General Case\n",
    "\n",
    "Author(s): Kyle Godbey\n",
    "\n",
    "Maintainer: Kyle Godbey\n",
    "\n",
    "To take this particular problem to its natural conclusion, we will be now devising a way to automatically generate our Hamiltonian and ansatz circuits based on what basis dimension we want to calculate.\n",
    "\n",
    "To do this in the most straightforward manner, I will first implement the Hamiltonian in second quantization before mapping it to a Pauli representation. To help out, I'll be importing some tools from qiskit as well as pennylane, proving that frameworks can indeed work together!"
   ]
  },
  {
   "cell_type": "code",
   "execution_count": 1,
   "metadata": {},
   "outputs": [],
   "source": [
    "%matplotlib inline\n",
    "\n",
    "import matplotlib.pyplot as plt\n",
    "from pennylane import numpy as np\n",
    "import pennylane as qml\n",
    "from qiskit_nature.operators.second_quantization import FermionicOp\n",
    "from qiskit_nature.mappers.second_quantization import JordanWignerMapper, ParityMapper\n",
    "import time\n",
    "from functools import partial\n",
    "import warnings\n",
    "warnings.filterwarnings('ignore')"
   ]
  },
  {
   "cell_type": "markdown",
   "metadata": {},
   "source": [
    "We'll also need some helper functions to parse Pauli strings and construct our pennylane Hamiltonian, so I'll just dump them here."
   ]
  },
  {
   "cell_type": "code",
   "execution_count": 2,
   "metadata": {},
   "outputs": [],
   "source": [
    "def pauli_token_to_operator(token):\n",
    "    qubit_terms = []\n",
    "\n",
    "    for term in range(len(token)):\n",
    "        # Special case of identity\n",
    "        if token[term] == \"I\":\n",
    "            pass\n",
    "        else:\n",
    "            #pauli, qubit_idx = term, term\n",
    "            if token[term] == \"X\":\n",
    "                qubit_terms.append(qml.PauliX(int(term)))\n",
    "            elif token[term] == \"Y\":\n",
    "                qubit_terms.append(qml.PauliY(int(term)))\n",
    "            elif token[term] == \"Z\":\n",
    "                qubit_terms.append(qml.PauliZ(int(term)))\n",
    "            else:\n",
    "                print(\"Invalid input.\")\n",
    "    if(qubit_terms==[]):\n",
    "            qubit_terms.append(qml.Identity(0))\n",
    "    full_term = qubit_terms[0]\n",
    "    for term in qubit_terms[1:]:\n",
    "        full_term = full_term @ term\n",
    "\n",
    "    return full_term\n",
    "\n",
    "\n",
    "def parse_hamiltonian_input(input_data):\n",
    "    # Get the input\n",
    "    coeffs = []\n",
    "    pauli_terms = []\n",
    "    chunks = input_data.split(\"\\n\")\n",
    "    # Go through line by line and build up the Hamiltonian\n",
    "    for line in chunks:\n",
    "        #line = line.strip()\n",
    "        tokens = line.split(\" \")\n",
    "        # Parse coefficients\n",
    "        sign, value = tokens[0][0], tokens[1]\n",
    "\n",
    "        coeff = float(value)\n",
    "        if sign == \"-\":\n",
    "            coeff *= -1\n",
    "        coeffs.append(coeff)\n",
    "\n",
    "        # Parse Pauli component\n",
    "        pauli = tokens[3]\n",
    "        \n",
    "        pauli_terms.append(pauli_token_to_operator(pauli))\n",
    "\n",
    "    return qml.Hamiltonian(coeffs, pauli_terms)\n"
   ]
  },
  {
   "cell_type": "markdown",
   "metadata": {},
   "source": [
    "Something else that will be very important is a function to compute the matrix elements $\\langle n' | (\\hat{T} + \\hat{V}) | n \\rangle$ needed for our Hamiltonian."
   ]
  },
  {
   "cell_type": "code",
   "execution_count": 7,
   "metadata": {},
   "outputs": [],
   "source": [
    "def kron(i,j):\n",
    "    if(i==j):\n",
    "        return 1\n",
    "    else:\n",
    "        return 0\n",
    "\n",
    "def matrix_element(i,j):\n",
    "    \n",
    "    ele = 0.0\n",
    "    \n",
    "    ele = ((2.0*i + 1.5)*kron(i,j) - np.sqrt(i*(i+0.5))*kron(i,j+1) \\\n",
    "    - np.sqrt((i+1)*(i+1.5))*kron(i,j-1)) * 3.5\n",
    "    \n",
    "    ele += -5.68658111 * kron(i,0) * kron(i,j)\n",
    "    \n",
    "    \n",
    "    return ele\n"
   ]
  },
  {
   "cell_type": "markdown",
   "metadata": {},
   "source": [
    "Lastly, we'll make a function that returns a pennylane compatible Hamiltonian given a requested basis dimension, N."
   ]
  },
  {
   "cell_type": "code",
   "execution_count": 16,
   "metadata": {},
   "outputs": [],
   "source": [
    "def deuteron_ham(N,mapper=JordanWignerMapper):\n",
    "    # Start out by zeroing what will be our fermionic operator\n",
    "    op = 0\n",
    "    for i in range(N):\n",
    "        for j in range(N):\n",
    "            # Construct the terms of the Hamiltonian in terms of creation/annihilation operators \n",
    "            op += matrix_element(i,j) * \\\n",
    "            FermionicOp([([(\"+\", i),(\"-\", j)], 1.0)])\n",
    "\n",
    "    hamstr = \"+ \"+str(mapper().map(second_q_op=op))\n",
    "\n",
    "    hamiltonian = parse_hamiltonian_input(hamstr)\n",
    "\n",
    "    return hamiltonian\n",
    "\n",
    "def rbm_ham(N,mapper=JordanWignerMapper):\n",
    "    # Start out by zeroing what will be our fermionic operator\n",
    "    op = 0\n",
    "    mat_ele = [[1.11112788,-0.72634078],[-0.72634078,5.81663726]]\n",
    "    #mat_ele[0,0] = 1.11112788\n",
    "    #mat_ele[0,1] = -0.72634078\n",
    "    #mat_ele[1,0] = -0.72634078\n",
    "    #mat_ele[1,1] = 5.81663726\n",
    "    for i in range(N):\n",
    "        for j in range(N):\n",
    "            # Construct the terms of the Hamiltonian in terms of creation/annihilation operators \n",
    "            op +=  mat_ele[i][j] * \\\n",
    "            FermionicOp([([(\"+\", i),(\"-\", j)], 1.0)])\n",
    "\n",
    "    hamstr = \"+ \"+str(mapper().map(second_q_op=op))\n",
    "\n",
    "    hamiltonian = parse_hamiltonian_input(hamstr)\n",
    "\n",
    "    return hamiltonian \n"
   ]
  },
  {
   "cell_type": "markdown",
   "metadata": {},
   "source": [
    "Let's take a look at our new Hamiltonian generator in the next code block. We'll start by setting the basis dimension to 3 so we can compare our two Hamiltonians: handcrafted and computer generated."
   ]
  },
  {
   "cell_type": "code",
   "execution_count": 14,
   "metadata": {},
   "outputs": [
    {
     "name": "stdout",
     "output_type": "stream",
     "text": [
      "Original Hamiltonian: \n",
      "   (-9.625) [Z2]\n",
      "+ (-6.125) [Z1]\n",
      "+ (0.21829) [Z0]\n",
      "+ (15.531709) [I0]\n",
      "+ (-3.91) [X1 X2]\n",
      "+ (-3.91) [Y1 Y2]\n",
      "+ (-2.1433) [X0 X1]\n",
      "+ (-2.1433) [Y0 Y1]\n",
      "0 0\n",
      "0 1\n",
      "1 0\n",
      "1 1\n",
      "Generated Hamiltonian: \n",
      "   (-2.90831863) [Z0]\n",
      "+ (-0.55556394) [Z1]\n",
      "+ (3.46388257) [I0]\n",
      "+ (-0.36317039) [Y0 Y1]\n",
      "+ (-0.36317039) [X0 X1]\n"
     ]
    }
   ],
   "source": [
    "dim = 2\n",
    "\n",
    "# Building our Hamiltonian for the N=3 case, as before\n",
    "\n",
    "coeffs = [15.531709 ,-2.1433, -2.1433, 0.21829, -6.125, -9.625, -3.91, -3.91]\n",
    "obs = [qml.Identity(0),qml.PauliX(0) @ qml.PauliX(1), qml.PauliY(0) @ qml.PauliY(1),qml.PauliZ(0),qml.PauliZ(1),qml.PauliZ(2),qml.PauliX(1) @ qml.PauliX(2),qml.PauliY(1) @ qml.PauliY(2)]\n",
    "\n",
    "ham = qml.Hamiltonian(coeffs, obs)\n",
    "\n",
    "# Let's print it out\n",
    "\n",
    "print(\"Original Hamiltonian: \\n\",ham)\n",
    "\n",
    "# Let's now use our new function!\n",
    "\n",
    "H = rbm_ham(dim)\n",
    "\n",
    "print(\"Generated Hamiltonian: \\n\",H)"
   ]
  },
  {
   "cell_type": "markdown",
   "metadata": {},
   "source": [
    "We still need to define our device and circuit, so we'll let them be general as well."
   ]
  },
  {
   "cell_type": "code",
   "execution_count": 83,
   "metadata": {},
   "outputs": [],
   "source": [
    "# Set the order you'd like to go to\n",
    "\n",
    "dim = 2\n",
    "\n",
    "dev = qml.device(\"default.qubit\", wires=dim)\n",
    "\n",
    "# Define a general ansatz for arbitrary numbers of dimensions\n",
    "\n",
    "particles = 1\n",
    "\n",
    "ref_state = qml.qchem.hf_state(particles, dim)\n",
    "\n",
    "gen_ansatz = partial(qml.ParticleConservingU2, init_state=ref_state)\n",
    "\n",
    "layers = dim \n",
    "\n",
    "def ansatz(params,wires):\n",
    "    t0 = params[0]\n",
    "    qml.PauliX(wires=0)\n",
    "    qml.RY(t0, wires=1)\n",
    "    qml.CNOT(wires=[1,0])\n",
    "\n",
    "# generate the cost function\n",
    "@qml.qnode(dev)\n",
    "def prob_circuit(params,ansatz):\n",
    "    ansatz(params, wires=dev.wires)\n",
    "    return qml.expval(qml.PauliX(1)@qml.PauliX(0))\n",
    "    #return qml.probs(wires=dev.wires)\n",
    "\n",
    "# Defining Hamiltonian\n",
    "\n",
    "H = rbm_ham(dim)\n",
    "\n",
    "cost_fn = qml.ExpvalCost(ansatz, H, dev)\n"
   ]
  },
  {
   "cell_type": "markdown",
   "metadata": {},
   "source": [
    "Amazing! That's an even better looking Hamiltonian!\n",
    "\n",
    "Now we'll set up what we'll need for the VQE procedure, this time doing a loop over how many parameters we'll need."
   ]
  },
  {
   "cell_type": "code",
   "execution_count": 63,
   "metadata": {},
   "outputs": [
    {
     "name": "stdout",
     "output_type": "stream",
     "text": [
      "[2.5]\n"
     ]
    }
   ],
   "source": [
    "# Our parameter array\n",
    "\n",
    "#init_params = np.random.uniform(low=-np.pi / 2, high=np.pi / 2, size=qml.ParticleConservingU2.shape(n_layers=layers, n_wires=dim))\n",
    "init_params = np.array([2.5,])\n",
    "print(init_params)\n",
    "# Convergence information and step size\n",
    "\n",
    "max_iterations = 500\n",
    "conv_tol = 1e-05\n",
    "step_size = 0.1"
   ]
  },
  {
   "cell_type": "markdown",
   "metadata": {},
   "source": [
    "Finally, the VQE block. We're still using the standard gradient descent optimizer since it worked so well before, but soon the time will come to shop around for better options. I have also added a quick and dirty variable step size just to speed things up slightly."
   ]
  },
  {
   "cell_type": "code",
   "execution_count": 64,
   "metadata": {},
   "outputs": [
    {
     "name": "stdout",
     "output_type": "stream",
     "text": [
      "It = 0,  Energy = 1.08402934 MeV,  Conv = 0.06026410 MeV, Time Elapsed = 0.034 s\n",
      "It = 1,  Energy = 1.04887358 MeV,  Conv = 0.03515576 MeV, Time Elapsed = 0.024 s\n",
      "It = 2,  Energy = 1.02859261 MeV,  Conv = 0.02028097 MeV, Time Elapsed = 0.025 s\n",
      "It = 3,  Energy = 1.01696853 MeV,  Conv = 0.01162407 MeV, Time Elapsed = 0.023 s\n",
      "It = 4,  Energy = 1.01033109 MeV,  Conv = 0.00663744 MeV, Time Elapsed = 0.025 s\n",
      "It = 5,  Energy = 1.00654918 MeV,  Conv = 0.00378191 MeV, Time Elapsed = 0.024 s\n",
      "It = 6,  Energy = 1.00439695 MeV,  Conv = 0.00215223 MeV, Time Elapsed = 0.027 s\n",
      "It = 7,  Energy = 1.00317300 MeV,  Conv = 0.00122395 MeV, Time Elapsed = 0.023 s\n",
      "It = 8,  Energy = 1.00247723 MeV,  Conv = 0.00069577 MeV, Time Elapsed = 0.022 s\n",
      "It = 9,  Energy = 1.00208180 MeV,  Conv = 0.00039543 MeV, Time Elapsed = 0.025 s\n",
      "It = 10,  Energy = 1.00185709 MeV,  Conv = 0.00022471 MeV, Time Elapsed = 0.024 s\n",
      "It = 11,  Energy = 1.00172940 MeV,  Conv = 0.00012768 MeV, Time Elapsed = 0.025 s\n",
      "It = 12,  Energy = 1.00165072 MeV,  Conv = 0.00007868 MeV, Time Elapsed = 0.023 s\n",
      "It = 13,  Energy = 1.00160542 MeV,  Conv = 0.00004530 MeV, Time Elapsed = 0.022 s\n",
      "It = 14,  Energy = 1.00158129 MeV,  Conv = 0.00002413 MeV, Time Elapsed = 0.022 s\n",
      "It = 15,  Energy = 1.00156953 MeV,  Conv = 0.00001176 MeV, Time Elapsed = 0.022 s\n",
      "It = 16,  Energy = 1.00156436 MeV,  Conv = 0.00000517 MeV, Time Elapsed = 0.023 s\n",
      "\n",
      "Final value of the energy = 1.00156436 MeV\n",
      "Number of iterations =  16\n"
     ]
    }
   ],
   "source": [
    "opt = qml.GradientDescentOptimizer(stepsize=step_size)\n",
    "\n",
    "params = init_params\n",
    "\n",
    "gd_param_history = [params]\n",
    "gd_cost_history = []\n",
    "\n",
    "accel = 0\n",
    "prev_conv = -1.0\n",
    "\n",
    "start = time.time()\n",
    "\n",
    "for n in range(max_iterations):\n",
    "    fac = (1.0)\n",
    "    opt = qml.GradientDescentOptimizer(stepsize=step_size)\n",
    "\n",
    "    # Take a step in parameter space and record your energy\n",
    "    params, prev_energy = opt.step_and_cost(cost_fn, params)\n",
    "\n",
    "    # This keeps track of our energy for plotting at comparisons\n",
    "    gd_param_history.append(params)\n",
    "    gd_cost_history.append(prev_energy)\n",
    "\n",
    "    # Here we see what the energy of our system is with the new parameters\n",
    "    energy = cost_fn(params)\n",
    "\n",
    "    # Calculate difference between new and old energies\n",
    "    conv = np.abs(energy - prev_energy)\n",
    "\n",
    "    if(energy - prev_energy > 0.0 and step_size > 0.001):\n",
    "        #print(\"Lowering!\")\n",
    "        accel = 0\n",
    "        step_size = 0.5*step_size\n",
    "\n",
    "    if(conv < prev_conv): accel += 1\n",
    "    prev_conv = conv\n",
    "    \n",
    "    if(accel > 10 and step_size < 1.0):\n",
    "        #print(\"Accelerating!\")\n",
    "        step_size = 1.1*step_size\n",
    "    end = time.time()\n",
    "\n",
    "    if n % 1 == 0:\n",
    "        print(\n",
    "            \"It = {:},  Energy = {:.8f} MeV,  Conv = {\"\n",
    "            \":.8f} MeV, Time Elapsed = {:.3f} s\".format(n, energy, conv,end-start)\n",
    "        )\n",
    "        start = time.time()\n",
    "\n",
    "\n",
    "    if conv <= conv_tol:\n",
    "        break\n",
    "\n",
    "print()\n",
    "print(\"Final value of the energy = {:.8f} MeV\".format(energy))\n",
    "print(\"Number of iterations = \", n)"
   ]
  },
  {
   "cell_type": "markdown",
   "metadata": {},
   "source": [
    "If you choose a bigger basis, you do a better job! This is to be expected, but notice that we've taken quite the performance hit by going to a more general representation. We'll explore how to do better at this in the optimization section, but for now let's check the convergence."
   ]
  },
  {
   "cell_type": "code",
   "execution_count": 84,
   "metadata": {},
   "outputs": [
    {
     "data": {
      "image/png": "[encoded data removed]",
      "text/plain": [
       "<Figure size 576x396 with 1 Axes>"
      ]
     },
     "metadata": {},
     "output_type": "display_data"
    },
    {
     "name": "stdout",
     "output_type": "stream",
     "text": [
      "[2.84060445]\n",
      "0.2964641282522704\n"
     ]
    }
   ],
   "source": [
    "plt.style.use(\"seaborn\")\n",
    "plt.plot(gd_cost_history, \"b\", label=\"Gradient descent\")\n",
    "\n",
    "plt.ylabel(\"Energy (MeV)\")\n",
    "plt.xlabel(\"Optimization steps\")\n",
    "plt.legend()\n",
    "plt.show()\n",
    "\n",
    "print(params)\n",
    "\n",
    "print(prob_circuit(params,ansatz))"
   ]
  },
  {
   "cell_type": "code",
   "execution_count": 61,
   "metadata": {},
   "outputs": [
    {
     "ename": "TypeError",
     "evalue": "prob_circuit() missing 1 required positional argument: 'ansatz'",
     "output_type": "error",
     "traceback": [
      "\u001b[0;31m---------------------------------------------------------------------------\u001b[0m",
      "\u001b[0;31mTypeError\u001b[0m                                 Traceback (most recent call last)",
      "\u001b[1;32m/home/kyle/code/quantum-computing-tutorial/nuclear-qc/vqe/general copy.ipynb Cell 19'\u001b[0m in \u001b[0;36m<cell line: 1>\u001b[0;34m()\u001b[0m\n\u001b[0;32m----> <a href='vscode-notebook-cell:/home/kyle/code/quantum-computing-tutorial/nuclear-qc/vqe/general%20copy.ipynb#ch0000020?line=0'>1</a>\u001b[0m prob_circuit(params)\n\u001b[1;32m      <a href='vscode-notebook-cell:/home/kyle/code/quantum-computing-tutorial/nuclear-qc/vqe/general%20copy.ipynb#ch0000020?line=2'>3</a>\u001b[0m qnode \u001b[39m=\u001b[39m qml\u001b[39m.\u001b[39mQNode(prob_circuit(params,gen_ansatz), dev)\n\u001b[1;32m      <a href='vscode-notebook-cell:/home/kyle/code/quantum-computing-tutorial/nuclear-qc/vqe/general%20copy.ipynb#ch0000020?line=3'>4</a>\u001b[0m qnode(params,shots\u001b[39m=\u001b[39m\u001b[39m10000\u001b[39m)\n",
      "File \u001b[0;32m~/.local/lib/python3.10/site-packages/pennylane/qnode.py:609\u001b[0m, in \u001b[0;36mQNode.__call__\u001b[0;34m(self, *args, **kwargs)\u001b[0m\n\u001b[1;32m    606\u001b[0m         set_shots(\u001b[39mself\u001b[39m\u001b[39m.\u001b[39m_original_device, override_shots)(\u001b[39mself\u001b[39m\u001b[39m.\u001b[39m_update_gradient_fn)()\n\u001b[1;32m    608\u001b[0m \u001b[39m# construct the tape\u001b[39;00m\n\u001b[0;32m--> 609\u001b[0m \u001b[39mself\u001b[39;49m\u001b[39m.\u001b[39;49mconstruct(args, kwargs)\n\u001b[1;32m    611\u001b[0m cache \u001b[39m=\u001b[39m \u001b[39mself\u001b[39m\u001b[39m.\u001b[39mexecute_kwargs\u001b[39m.\u001b[39mget(\u001b[39m\"\u001b[39m\u001b[39mcache\u001b[39m\u001b[39m\"\u001b[39m, \u001b[39mFalse\u001b[39;00m)\n\u001b[1;32m    612\u001b[0m using_custom_cache \u001b[39m=\u001b[39m (\n\u001b[1;32m    613\u001b[0m     \u001b[39mhasattr\u001b[39m(cache, \u001b[39m\"\u001b[39m\u001b[39m__getitem__\u001b[39m\u001b[39m\"\u001b[39m)\n\u001b[1;32m    614\u001b[0m     \u001b[39mand\u001b[39;00m \u001b[39mhasattr\u001b[39m(cache, \u001b[39m\"\u001b[39m\u001b[39m__setitem__\u001b[39m\u001b[39m\"\u001b[39m)\n\u001b[1;32m    615\u001b[0m     \u001b[39mand\u001b[39;00m \u001b[39mhasattr\u001b[39m(cache, \u001b[39m\"\u001b[39m\u001b[39m__delitem__\u001b[39m\u001b[39m\"\u001b[39m)\n\u001b[1;32m    616\u001b[0m )\n",
      "File \u001b[0;32m~/.local/lib/python3.10/site-packages/pennylane/qnode.py:526\u001b[0m, in \u001b[0;36mQNode.construct\u001b[0;34m(self, args, kwargs)\u001b[0m\n\u001b[1;32m    523\u001b[0m \u001b[39mself\u001b[39m\u001b[39m.\u001b[39m_tape \u001b[39m=\u001b[39m qml\u001b[39m.\u001b[39mtape\u001b[39m.\u001b[39mQuantumTape()\n\u001b[1;32m    525\u001b[0m \u001b[39mwith\u001b[39;00m \u001b[39mself\u001b[39m\u001b[39m.\u001b[39mtape:\n\u001b[0;32m--> 526\u001b[0m     \u001b[39mself\u001b[39m\u001b[39m.\u001b[39m_qfunc_output \u001b[39m=\u001b[39m \u001b[39mself\u001b[39;49m\u001b[39m.\u001b[39;49mfunc(\u001b[39m*\u001b[39;49margs, \u001b[39m*\u001b[39;49m\u001b[39m*\u001b[39;49mkwargs)\n\u001b[1;32m    527\u001b[0m \u001b[39mself\u001b[39m\u001b[39m.\u001b[39m_tape\u001b[39m.\u001b[39m_qfunc_output \u001b[39m=\u001b[39m \u001b[39mself\u001b[39m\u001b[39m.\u001b[39m_qfunc_output\n\u001b[1;32m    529\u001b[0m params \u001b[39m=\u001b[39m \u001b[39mself\u001b[39m\u001b[39m.\u001b[39mtape\u001b[39m.\u001b[39mget_parameters(trainable_only\u001b[39m=\u001b[39m\u001b[39mFalse\u001b[39;00m)\n",
      "\u001b[0;31mTypeError\u001b[0m: prob_circuit() missing 1 required positional argument: 'ansatz'"
     ]
    }
   ],
   "source": [
    "prob_circuit(params)\n",
    "\n",
    "qnode = qml.QNode(prob_circuit(params,gen_ansatz), dev)\n",
    "qnode(params,shots=10000)"
   ]
  },
  {
   "cell_type": "markdown",
   "metadata": {},
   "source": [
    "Since we are now allowed to move in higher dimensions, making a general PES plotter gets a little tricky, but feel free to play around and see if you can think of clever ways to plot how your solution explores the space!\n",
    "\n",
    "This pretty much concludes our exploration of quantum computing for the deuteron from the point of view of Hamiltonian and state preparation, but there's plenty of other things that can be tried to improve performance! One approach would involce optimizing the ansatz instead of using a generic form, which could be a fun challenge. We'll explore a few general options in the next section, but another approach is to speed up the VQE algorithm itself by being clever with how we iterate. All this and more in our next chapter!"
   ]
  },
  {
   "cell_type": "code",
   "execution_count": null,
   "metadata": {},
   "outputs": [],
   "source": [
    "# Discretize the parameter space\n",
    "theta0 = np.linspace(0.0, 2.0 * np.pi, 100)\n",
    "\n",
    "# Load energy value at each point in parameter space\n",
    "pes = np.load(\"deut_pes_n2.npy\")\n",
    "\n",
    "# Get the minimum of the PES\n",
    "minloc=np.unravel_index(pes.argmin(),pes.shape)\n",
    "\n",
    "# Plot energy landscape\n",
    "fig, axes = plt.subplots(figsize=(6, 6))\n",
    "\n",
    "plt.plot(theta0,pes[:,0],label=\"Underlying Surface (MeV)\")\n",
    "\n",
    "plt.xlabel(r\"$\\theta_0$\")\n",
    "plt.ylabel(r\"Energy (MeV)\")\n",
    "plt.plot(theta0[minloc[0]],cost_fn([theta0[minloc[0]],]),\"r*\",markersize=20,label=\"Minimum\")\n",
    "\n",
    "# Plot optimization path for gradient descent. Plot every 10th point.\n",
    "gd_color = \"g\"\n",
    "\n",
    "plt.plot(\n",
    "    np.array(gd_param_history)[::10, 0],\n",
    "    np.array(gd_cost_history)[::10],\n",
    "    \".\",markersize=12,\n",
    "    color=gd_color,\n",
    "    linewidth=2,\n",
    "    label=\"Gradient descent\",\n",
    ")\n",
    "plt.plot(\n",
    "    np.array(gd_param_history)[:-1, 0],\n",
    "    np.array(gd_cost_history)[:],\n",
    "    \"-\",\n",
    "    color=gd_color,\n",
    "    linewidth=1,\n",
    ")\n",
    "\n",
    "\n",
    "plt.legend()\n",
    "plt.show()"
   ]
  }
 ],
 "metadata": {
  "interpreter": {
   "hash": "e7370f93d1d0cde622a1f8e1c04877d8463912d04d973331ad4851f04de6915a"
  },
  "kernelspec": {
   "display_name": "Python 3.10.4 64-bit",
   "language": "python",
   "name": "python3"
  },
  "language_info": {
   "codemirror_mode": {
    "name": "ipython",
    "version": 3
   },
   "file_extension": ".py",
   "mimetype": "text/x-python",
   "name": "python",
   "nbconvert_exporter": "python",
   "pygments_lexer": "ipython3",
   "version": "3.10.4"
  },
  "orig_nbformat": 4,
  "vscode": {
   "interpreter": {
    "hash": "e7370f93d1d0cde622a1f8e1c04877d8463912d04d973331ad4851f04de6915a"
   }
  }
 },
 "nbformat": 4,
 "nbformat_minor": 2
}
