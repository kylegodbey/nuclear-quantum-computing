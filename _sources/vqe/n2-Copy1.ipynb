{
 "cells": [
  {
   "cell_type": "markdown",
   "metadata": {},
   "source": [
    "# First Steps: N=2\n",
    "\n",
    "Author(s): Kyle Godbey\n",
    "\n",
    "Maintainer: Kyle Godbey\n",
    "\n",
    "TODO: write some background on the interaction/hamiltonian, how and why we convert it to a pauli representation\n",
    "\n",
    "We begin with...\n",
    "\n",
    "Now let's set up our imports! For this first example and the next we will just use [pennylane](https://pennylane.ai/) and define the circuits and Hamiltonian directly in the form from [Cloud Quantum Computing of an Atomic Nucleus](https://journals.aps.org/prl/abstract/10.1103/PhysRevLett.120.210501)."
   ]
  },
  {
   "cell_type": "code",
   "execution_count": 2,
   "metadata": {},
   "outputs": [],
   "source": [
    "%matplotlib inline\n",
    "\n",
    "from qiskit import *\n",
    "import matplotlib.pyplot as plt\n",
    "from pennylane import numpy as np\n",
    "import pennylane as qml\n",
    "import warnings\n",
    "warnings.filterwarnings('ignore')"
   ]
  },
  {
   "cell_type": "markdown",
   "metadata": {},
   "source": [
    "Now we will define our 'device' (a simulator in this case) as well as our ansatz and Hamiltonian."
   ]
  },
  {
   "cell_type": "code",
   "execution_count": 21,
   "metadata": {},
   "outputs": [
    {
     "name": "stdout",
     "output_type": "stream",
     "text": [
      "  (-6.125) [Z1]\n",
      "+ (0.218291) [Z0]\n",
      "+ (5.906709) [I0]\n",
      "+ (-2.143304) [X0 X1]\n",
      "+ (-2.143304) [Y0 Y1]\n"
     ]
    }
   ],
   "source": [
    "# In this case we just need 2 qubits\n",
    "\n",
    "dev = qml.device(\"default.qubit\", wires=2)\n",
    "\n",
    "# Defining our ansatz circuit for the N=2 case\n",
    "\n",
    "def circuit(params,wires):\n",
    "    t0 = params[0]\n",
    "    qml.PauliX(wires=0)\n",
    "    qml.RY(t0, wires=1)\n",
    "    qml.CNOT(wires=[1,0])\n",
    "\n",
    "# And building our Hamiltonian for the N=2 case\n",
    "\n",
    "coeffs = [5.906709, 0.218291, -6.125, -2.143304, -2.143304]\n",
    "obs = [qml.Identity(0), qml.PauliZ(0), qml.PauliZ(1), qml.PauliX(0) @ qml.PauliX(1), qml.PauliY(0) @ qml.PauliY(1)]\n",
    "\n",
    "H = qml.Hamiltonian(coeffs, obs)\n",
    "cost_fn = qml.ExpvalCost(circuit, H, dev)\n",
    "\n",
    "# Let's print it out\n",
    "print(H)"
   ]
  },
  {
   "cell_type": "markdown",
   "metadata": {},
   "source": [
    "Great! That's a good looking Hamiltonian, even if it was a bit tedious to write it out. We'll find out a more programmatic way to do it later, but for now let's move on to the fun stuff.\n",
    "\n",
    "Now we'll set up what we'll need for the VQE procedure; namely some initial parameters and convergence info. You can select the initial guess randomly, but in this case we'll set it manually for repeatability."
   ]
  },
  {
   "cell_type": "code",
   "execution_count": 4,
   "metadata": {},
   "outputs": [],
   "source": [
    "# Our parameter array, only one lonely element in this case :c\n",
    "\n",
    "init_params = np.array([2.5,])\n",
    "\n",
    "# Convergence information and step size\n",
    "\n",
    "max_iterations = 500\n",
    "conv_tol = 1e-06\n",
    "step_size = 0.01"
   ]
  },
  {
   "cell_type": "markdown",
   "metadata": {},
   "source": [
    "Finally, the VQE block. A lot of the stuff in this block is bookkeeping -- the real magic happens in the `opt` object that contains an built-in optimizer. You can have a look at the documentation and change this if you like, but we'll also have a look at this later."
   ]
  },
  {
   "cell_type": "code",
   "execution_count": 5,
   "metadata": {},
   "outputs": [
    {
     "name": "stdout",
     "output_type": "stream",
     "text": [
      "Iteration = 0,  Energy = 7.89426366 MeV,  Convergence parameter = 0.52891694 MeV\n",
      "Iteration = 20,  Energy = -0.66950925 MeV,  Convergence parameter = 0.17005461 MeV\n",
      "Iteration = 40,  Energy = -1.70101182 MeV,  Convergence parameter = 0.00828148 MeV\n",
      "Iteration = 60,  Energy = -1.74716419 MeV,  Convergence parameter = 0.00034480 MeV\n",
      "Iteration = 80,  Energy = -1.74907865 MeV,  Convergence parameter = 0.00001426 MeV\n",
      "\n",
      "Final value of the energy = -1.74915572 MeV\n",
      "Number of iterations =  97\n"
     ]
    }
   ],
   "source": [
    "opt = qml.GradientDescentOptimizer(stepsize=step_size)\n",
    "\n",
    "params = init_params\n",
    "\n",
    "gd_param_history = [params]\n",
    "gd_cost_history = []\n",
    "\n",
    "for n in range(max_iterations):\n",
    "\n",
    "    # Take a step in parameter space and record your energy\n",
    "    params, prev_energy = opt.step_and_cost(cost_fn, params)\n",
    "\n",
    "    # This keeps track of our energy for plotting at comparisons\n",
    "    gd_param_history.append(params)\n",
    "    gd_cost_history.append(prev_energy)\n",
    "\n",
    "    # Here we see what the energy of our system is with the new parameters\n",
    "    energy = cost_fn(params)\n",
    "\n",
    "    # Calculate difference between new and old energies\n",
    "    conv = np.abs(energy - prev_energy)\n",
    "\n",
    "    if n % 20 == 0:\n",
    "        print(\n",
    "            \"Iteration = {:},  Energy = {:.8f} MeV,  Convergence parameter = {\"\n",
    "            \":.8f} MeV\".format(n, energy, conv)\n",
    "        )\n",
    "\n",
    "    if conv <= conv_tol:\n",
    "        break\n",
    "\n",
    "print()\n",
    "print(\"Final value of the energy = {:.8f} MeV\".format(energy))\n",
    "print(\"Number of iterations = \", n)"
   ]
  },
  {
   "cell_type": "markdown",
   "metadata": {},
   "source": [
    "Not too bad! Well, it's a far cry from the true, real-life binding energy of the deuteron, but it's a start! You can have a look at the paper linked above and find some tricks to extrapolate to the true value. \n",
    "\n",
    "But just looking at the VQE result, if you compare this to the value reported in the paper you'll see that we match their value very well, which is encouraging.\n",
    "\n",
    "Let's plot the convergence next."
   ]
  },
  {
   "cell_type": "code",
   "execution_count": 6,
   "metadata": {},
   "outputs": [
    {
     "data": {
      "image/png": "[encoded data removed]",
      "text/plain": [
       "<Figure size 576x396 with 1 Axes>"
      ]
     },
     "metadata": {},
     "output_type": "display_data"
    }
   ],
   "source": [
    "plt.style.use(\"seaborn\")\n",
    "plt.plot(gd_cost_history, \"b\", label=\"Gradient descent\")\n",
    "\n",
    "plt.ylabel(\"Energy (MeV)\")\n",
    "plt.xlabel(\"Optimization steps\")\n",
    "plt.legend()\n",
    "plt.show()"
   ]
  },
  {
   "cell_type": "markdown",
   "metadata": {},
   "source": [
    "Finally, we can plot how we trace the potential energy surface (PES) as we find a solution. For this 1-D case it's not as interesting, but it might hint at how you can improve performance.\n",
    "\n",
    "If you're running this yourself, you can either generate the surface yourself or put this code in a cell to download it locally:\n",
    "\n",
    "`!wget github.com/kylegodbey/nuclear-quantum-computing/...`"
   ]
  },
  {
   "cell_type": "code",
   "execution_count": 7,
   "metadata": {},
   "outputs": [
    {
     "data": {
      "image/png": "[encoded data removed]",
      "text/plain": [
       "<Figure size 432x432 with 1 Axes>"
      ]
     },
     "metadata": {},
     "output_type": "display_data"
    }
   ],
   "source": [
    "# Discretize the parameter space\n",
    "theta0 = np.linspace(0.0, 2.0 * np.pi, 100)\n",
    "\n",
    "# Load energy value at each point in parameter space\n",
    "pes = np.load(\"deut_pes_n2.npy\")\n",
    "\n",
    "# Get the minimum of the PES\n",
    "minloc=np.unravel_index(pes.argmin(),pes.shape)\n",
    "\n",
    "# Plot energy landscape\n",
    "fig, axes = plt.subplots(figsize=(6, 6))\n",
    "\n",
    "plt.plot(theta0,pes[:,0],label=\"Underlying Surface (MeV)\")\n",
    "\n",
    "plt.xlabel(r\"$\\theta_0$\")\n",
    "plt.ylabel(r\"Energy (MeV)\")\n",
    "plt.plot(theta0[minloc[0]],cost_fn([theta0[minloc[0]],]),\"r*\",markersize=20,label=\"Minimum\")\n",
    "\n",
    "# Plot optimization path for gradient descent. Plot every 10th point.\n",
    "gd_color = \"g\"\n",
    "\n",
    "plt.plot(\n",
    "    np.array(gd_param_history)[::10, 0],\n",
    "    np.array(gd_cost_history)[::10],\n",
    "    \".\",markersize=12,\n",
    "    color=gd_color,\n",
    "    linewidth=2,\n",
    "    label=\"Gradient descent\",\n",
    ")\n",
    "plt.plot(\n",
    "    np.array(gd_param_history)[:-1, 0],\n",
    "    np.array(gd_cost_history)[:],\n",
    "    \"-\",\n",
    "    color=gd_color,\n",
    "    linewidth=1,\n",
    ")\n",
    "\n",
    "\n",
    "plt.legend()\n",
    "plt.show()"
   ]
  },
  {
   "cell_type": "markdown",
   "metadata": {},
   "source": [
    "Perfect! Now that you've got this working, you can go back and play around with the parameters of the VQE, potential, initial guesses, etc. and see how your convergence changes! When it comes to running on real hardware for serious problems, one key goal is to get the number of evaluations as low as possible. This is an even bigger deal for larger circuits, like the N=3 case we'll look at next!"
   ]
  },
  {
   "cell_type": "markdown",
   "metadata": {},
   "source": [
    "---"
   ]
  },
  {
   "cell_type": "markdown",
   "metadata": {},
   "source": [
    "## Error mitigation with ZNE\n",
    "\n",
    "As hinted at already, what if we wanted to run this on a real device? We're definitely going to encounter some error in our quantum circuit. Let's try to mitigate it by runnning __zero-noise extrapolation (ZNE)__. We'd like to refrain from running this on a real device immediately, so let's try using a backend with a noise model that simulates the type of noise we'd see from a real quantum computer first. There is a versatile package, <tt>mitiq</tt>, that will do ZNE for us, as well, which we'll implement below on our quantum circuit. "
   ]
  },
  {
   "cell_type": "code",
   "execution_count": 13,
   "metadata": {},
   "outputs": [],
   "source": [
    "import mitiq as mq\n",
    "from mitiq.zne.scaling import fold_global\n",
    "from mitiq.zne.inference import RichardsonFactory\n",
    "from pennylane.transforms import mitigate_with_zne\n",
    "from qiskit.providers.aer import AerSimulator\n",
    "import qiskit.providers.aer.noise as noise"
   ]
  },
  {
   "cell_type": "code",
   "execution_count": 14,
   "metadata": {},
   "outputs": [],
   "source": [
    "#load account from IBM (personal API token; we need to hide this!)\n",
    "IBMQ.save_account('72e36e9081a239acb4d10b27183f4101a4fb79705dad5e19f7c04df0085120096a366a6581bb511d02b0581a38612e8462ab4b591b543e8cc85873a40628fd8f', overwrite=True)"
   ]
  },
  {
   "cell_type": "code",
   "execution_count": 27,
   "metadata": {},
   "outputs": [],
   "source": [
    "#TODO: build noisy model backend and run this here first and then on a real device below\n",
    "prob_1 = 0.001; prob_2 = 0.01 #for one, two qubit gates\n",
    "error_1 = noise.depolarizing_error(prob_1, 1)\n",
    "error_2 = noise.depolarizing_error(prob_2, 2)\n",
    "\n",
    "noise_model = noise.NoiseModel()\n",
    "noise_model.add_all_qubit_quantum_error(error_1, ['u1', 'u2', 'u3'])\n",
    "noise_model.add_all_qubit_quantum_error(error_2, ['cx'])\n",
    "\n",
    "dev_sim = qml.device('qiskit.aer', wires=2, optimization_limit=0, backend='aer_simulator', noise_model=noise_model)\n",
    "\n",
    "@qml.transforms.mitigate_with_zne([1, 2, 3], fold_global, RichardsonFactory.extrapolate)\n",
    "@qml.qnode(dev_sim)\n",
    "def circuit_mit(params):\n",
    "    t0 = params[0]\n",
    "    qml.PauliX(wires=0)\n",
    "    qml.RY(t0, wires=1)\n",
    "    qml.CNOT(wires=[1,0])\n",
    "    return qml.expval(H)\n",
    "\n",
    "sim_qnode = qml.QNode(circuit_mit, dev_sim)"
   ]
  },
  {
   "cell_type": "code",
   "execution_count": 45,
   "metadata": {},
   "outputs": [
    {
     "data": {
      "text/plain": [
       "-1.5826797731999969"
      ]
     },
     "execution_count": 45,
     "metadata": {},
     "output_type": "execute_result"
    }
   ],
   "source": [
    "circuit_mit(params,shots=10000)"
   ]
  },
  {
   "cell_type": "code",
   "execution_count": null,
   "metadata": {},
   "outputs": [
    {
     "name": "stdout",
     "output_type": "stream",
     "text": [
      "Qiskit PennyLane plugin\n",
      "Short name: qiskit.ibmq\n",
      "Package: pennylane_qiskit\n",
      "Plugin version: 0.24.0\n",
      "Author: Xanadu\n",
      "Wires: 2\n",
      "Shots: 1024\n"
     ]
    }
   ],
   "source": [
    "#make the device to run the circuit on IBM hardware\n",
    "dev_real = qml.device('qiskit.ibmq', wires=2, optimization_limit=0, backend='ibm_oslo')\n",
    "print(dev_real)\n",
    "\n",
    "noisy_qnode = qml.QNode(circuit, dev_real)"
   ]
  },
  {
   "cell_type": "code",
   "execution_count": 25,
   "metadata": {},
   "outputs": [
    {
     "ename": "TypeError",
     "evalue": "circuit_mit() missing 2 required positional arguments: 'params' and 'wires'",
     "output_type": "error",
     "traceback": [
      "\u001b[0;31m---------------------------------------------------------------------------\u001b[0m",
      "\u001b[0;31mTypeError\u001b[0m                                 Traceback (most recent call last)",
      "\u001b[1;32m/home/kyle/code/quantum-computing-tutorial/nuclear-qc/vqe/n2-Copy1.ipynb Cell 20'\u001b[0m in \u001b[0;36m<cell line: 8>\u001b[0;34m()\u001b[0m\n\u001b[1;32m      <a href='vscode-notebook-cell:/home/kyle/code/quantum-computing-tutorial/nuclear-qc/vqe/n2-Copy1.ipynb#ch0000019?line=2'>3</a>\u001b[0m scale_factors \u001b[39m=\u001b[39m [\u001b[39m1\u001b[39m, \u001b[39m2\u001b[39m, \u001b[39m3\u001b[39m]\n\u001b[1;32m      <a href='vscode-notebook-cell:/home/kyle/code/quantum-computing-tutorial/nuclear-qc/vqe/n2-Copy1.ipynb#ch0000019?line=4'>5</a>\u001b[0m mitigated_qnode \u001b[39m=\u001b[39m mitigate_with_zne(scale_factors, fold_global, extrapolate)(\n\u001b[1;32m      <a href='vscode-notebook-cell:/home/kyle/code/quantum-computing-tutorial/nuclear-qc/vqe/n2-Copy1.ipynb#ch0000019?line=5'>6</a>\u001b[0m     sim_qnode\n\u001b[1;32m      <a href='vscode-notebook-cell:/home/kyle/code/quantum-computing-tutorial/nuclear-qc/vqe/n2-Copy1.ipynb#ch0000019?line=6'>7</a>\u001b[0m )\n\u001b[0;32m----> <a href='vscode-notebook-cell:/home/kyle/code/quantum-computing-tutorial/nuclear-qc/vqe/n2-Copy1.ipynb#ch0000019?line=7'>8</a>\u001b[0m mitigated_qnode()\n",
      "File \u001b[0;32m~/.local/lib/python3.10/site-packages/pennylane/transforms/batch_transform.py:288\u001b[0m, in \u001b[0;36mbatch_transform.default_qnode_wrapper.<locals>._wrapper\u001b[0;34m(*args, **kwargs)\u001b[0m\n\u001b[1;32m    286\u001b[0m \u001b[39mdef\u001b[39;00m \u001b[39m_wrapper\u001b[39m(\u001b[39m*\u001b[39margs, \u001b[39m*\u001b[39m\u001b[39m*\u001b[39mkwargs):\n\u001b[1;32m    287\u001b[0m     shots \u001b[39m=\u001b[39m kwargs\u001b[39m.\u001b[39mpop(\u001b[39m\"\u001b[39m\u001b[39mshots\u001b[39m\u001b[39m\"\u001b[39m, \u001b[39mFalse\u001b[39;00m)\n\u001b[0;32m--> 288\u001b[0m     qnode\u001b[39m.\u001b[39;49mconstruct(args, kwargs)\n\u001b[1;32m    289\u001b[0m     tapes, processing_fn \u001b[39m=\u001b[39m \u001b[39mself\u001b[39m\u001b[39m.\u001b[39mconstruct(qnode\u001b[39m.\u001b[39mqtape, \u001b[39m*\u001b[39mtargs, \u001b[39m*\u001b[39m\u001b[39m*\u001b[39mtkwargs)\n\u001b[1;32m    291\u001b[0m     interface \u001b[39m=\u001b[39m qnode\u001b[39m.\u001b[39minterface\n",
      "File \u001b[0;32m~/.local/lib/python3.10/site-packages/pennylane/transforms/batch_transform.py:375\u001b[0m, in \u001b[0;36mbatch_transform.__call__.<locals>.wrapper.<locals>._construct\u001b[0;34m(args, kwargs)\u001b[0m\n\u001b[1;32m    374\u001b[0m \u001b[39mdef\u001b[39;00m \u001b[39m_construct\u001b[39m(args, kwargs):\n\u001b[0;32m--> 375\u001b[0m     qnode\u001b[39m.\u001b[39;49mconstruct(args, kwargs)\n\u001b[1;32m    376\u001b[0m     \u001b[39mreturn\u001b[39;00m \u001b[39mself\u001b[39m\u001b[39m.\u001b[39mconstruct(qnode\u001b[39m.\u001b[39mqtape, \u001b[39m*\u001b[39mtargs, \u001b[39m*\u001b[39m\u001b[39m*\u001b[39mtkwargs)\n",
      "File \u001b[0;32m~/.local/lib/python3.10/site-packages/pennylane/qnode.py:526\u001b[0m, in \u001b[0;36mQNode.construct\u001b[0;34m(self, args, kwargs)\u001b[0m\n\u001b[1;32m    523\u001b[0m \u001b[39mself\u001b[39m\u001b[39m.\u001b[39m_tape \u001b[39m=\u001b[39m qml\u001b[39m.\u001b[39mtape\u001b[39m.\u001b[39mQuantumTape()\n\u001b[1;32m    525\u001b[0m \u001b[39mwith\u001b[39;00m \u001b[39mself\u001b[39m\u001b[39m.\u001b[39mtape:\n\u001b[0;32m--> 526\u001b[0m     \u001b[39mself\u001b[39m\u001b[39m.\u001b[39m_qfunc_output \u001b[39m=\u001b[39m \u001b[39mself\u001b[39;49m\u001b[39m.\u001b[39;49mfunc(\u001b[39m*\u001b[39;49margs, \u001b[39m*\u001b[39;49m\u001b[39m*\u001b[39;49mkwargs)\n\u001b[1;32m    527\u001b[0m \u001b[39mself\u001b[39m\u001b[39m.\u001b[39m_tape\u001b[39m.\u001b[39m_qfunc_output \u001b[39m=\u001b[39m \u001b[39mself\u001b[39m\u001b[39m.\u001b[39m_qfunc_output\n\u001b[1;32m    529\u001b[0m params \u001b[39m=\u001b[39m \u001b[39mself\u001b[39m\u001b[39m.\u001b[39mtape\u001b[39m.\u001b[39mget_parameters(trainable_only\u001b[39m=\u001b[39m\u001b[39mFalse\u001b[39;00m)\n",
      "\u001b[0;31mTypeError\u001b[0m: circuit_mit() missing 2 required positional arguments: 'params' and 'wires'"
     ]
    }
   ],
   "source": [
    "#perform ZNE using mitiq\n",
    "extrapolate = RichardsonFactory.extrapolate\n",
    "scale_factors = [1, 2, 3]\n",
    "\n",
    "mitigated_qnode = mitigate_with_zne(scale_factors, fold_global, extrapolate)(\n",
    "    sim_qnode\n",
    ")\n",
    "mitigated_qnode()"
   ]
  },
  {
   "cell_type": "code",
   "execution_count": null,
   "metadata": {},
   "outputs": [],
   "source": []
  }
 ],
 "metadata": {
  "kernelspec": {
   "display_name": "Python 3 (ipykernel)",
   "language": "python",
   "name": "python3"
  },
  "language_info": {
   "codemirror_mode": {
    "name": "ipython",
    "version": 3
   },
   "file_extension": ".py",
   "mimetype": "text/x-python",
   "name": "python",
   "nbconvert_exporter": "python",
   "pygments_lexer": "ipython3",
   "version": "3.10.4"
  },
  "vscode": {
   "interpreter": {
    "hash": "e7370f93d1d0cde622a1f8e1c04877d8463912d04d973331ad4851f04de6915a"
   }
  }
 },
 "nbformat": 4,
 "nbformat_minor": 2
}
