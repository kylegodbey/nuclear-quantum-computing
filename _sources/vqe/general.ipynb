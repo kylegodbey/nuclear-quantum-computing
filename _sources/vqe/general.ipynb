{
 "cells": [
  {
   "cell_type": "markdown",
   "metadata": {},
   "source": [
    "# A General Case\n",
    "\n",
    "Author(s): Kyle Godbey\n",
    "\n",
    "Maintainer: Kyle Godbey\n",
    "\n",
    "To take this particular problem to its natural conclusion, we will be now devising a way to automatically generate our Hamiltonian and ansatz circuits based on what basis dimension we want to calculate.\n",
    "\n",
    "To do this in the most straightforward manner, I will first implement the Hamiltonian in second quantization before mapping it to a Pauli representation. To help out, I'll be importing some tools from qiskit as well as pennylane, proving that frameworks can indeed work together!"
   ]
  },
  {
   "cell_type": "code",
   "execution_count": 1,
   "metadata": {},
   "outputs": [],
   "source": [
    "%matplotlib inline\n",
    "\n",
    "import matplotlib.pyplot as plt\n",
    "from pennylane import numpy as np\n",
    "import pennylane as qml\n",
    "from qiskit_nature.operators.second_quantization import FermionicOp\n",
    "from qiskit_nature.mappers.second_quantization import JordanWignerMapper, ParityMapper\n",
    "import time\n",
    "from functools import partial\n",
    "import warnings\n",
    "warnings.filterwarnings('ignore')"
   ]
  },
  {
   "cell_type": "markdown",
   "metadata": {},
   "source": [
    "We'll also need some helper functions to parse Pauli strings and construct our pennylane Hamiltonian, so I'll just dump them here."
   ]
  },
  {
   "cell_type": "code",
   "execution_count": 12,
   "metadata": {},
   "outputs": [],
   "source": [
    "def pauli_token_to_operator(token):\n",
    "    qubit_terms = []\n",
    "\n",
    "    for term in range(len(token)):\n",
    "        # Special case of identity\n",
    "        if token[term] == \"I\":\n",
    "            pass\n",
    "        else:\n",
    "            #pauli, qubit_idx = term, term\n",
    "            if token[term] == \"X\":\n",
    "                qubit_terms.append(qml.PauliX(int(term)))\n",
    "            elif token[term] == \"Y\":\n",
    "                qubit_terms.append(qml.PauliY(int(term)))\n",
    "            elif token[term] == \"Z\":\n",
    "                qubit_terms.append(qml.PauliZ(int(term)))\n",
    "            else:\n",
    "                print(\"Invalid input.\")\n",
    "    if(qubit_terms==[]):\n",
    "            qubit_terms.append(qml.Identity(0))\n",
    "    full_term = qubit_terms[0]\n",
    "    for term in qubit_terms[1:]:\n",
    "        full_term = full_term @ term\n",
    "\n",
    "    return full_term\n",
    "\n",
    "\n",
    "def parse_hamiltonian_input(input_data):\n",
    "    # Get the input\n",
    "    coeffs = []\n",
    "    pauli_terms = []\n",
    "    chunks = input_data.split(\"\\n\")\n",
    "    # Go through line by line and build up the Hamiltonian\n",
    "    for line in chunks:\n",
    "        #line = line.strip()\n",
    "        tokens = line.split(\" \")\n",
    "        # Parse coefficients\n",
    "        sign, value = tokens[0][0], tokens[1]\n",
    "\n",
    "        coeff = float(value)\n",
    "        if sign == \"-\":\n",
    "            coeff *= -1\n",
    "        coeffs.append(coeff)\n",
    "\n",
    "        # Parse Pauli component\n",
    "        pauli = tokens[3]\n",
    "        \n",
    "        pauli_terms.append(pauli_token_to_operator(pauli))\n",
    "\n",
    "    return qml.Hamiltonian(coeffs, pauli_terms)\n"
   ]
  },
  {
   "cell_type": "markdown",
   "metadata": {},
   "source": [
    "Something else that will be very important is a function to compute the matrix elements $\\langle n' | (\\hat{T} + \\hat{V}) | n \\rangle$ needed for our Hamiltonian."
   ]
  },
  {
   "cell_type": "code",
   "execution_count": 7,
   "metadata": {},
   "outputs": [],
   "source": [
    "def kron(i,j):\n",
    "    if(i==j):\n",
    "        return 1\n",
    "    else:\n",
    "        return 0\n",
    "\n",
    "def matrix_element(i,j):\n",
    "    \n",
    "    ele = 0.0\n",
    "    \n",
    "    ele = ((2.0*i + 1.5)*kron(i,j) - np.sqrt(i*(i+0.5))*kron(i,j+1) \\\n",
    "    - np.sqrt((i+1)*(i+1.5))*kron(i,j-1)) * 3.5\n",
    "    \n",
    "    ele += -5.68658111 * kron(i,0) * kron(i,j)\n",
    "    \n",
    "    \n",
    "    return ele"
   ]
  },
  {
   "cell_type": "markdown",
   "metadata": {},
   "source": [
    "Lastly, we'll make a function that returns a pennylane compatible Hamiltonian given a requested basis dimension, N."
   ]
  },
  {
   "cell_type": "code",
   "execution_count": 8,
   "metadata": {},
   "outputs": [],
   "source": [
    "def deuteron_ham(N,mapper=JordanWignerMapper):\n",
    "    # Start out by zeroing what will be our fermionic operator\n",
    "    op = 0\n",
    "    for i in range(N):\n",
    "        for j in range(N):\n",
    "            # Construct the terms of the Hamiltonian in terms of creation/annihilation operators \n",
    "            op += matrix_element(i,j) * \\\n",
    "            FermionicOp([([(\"+\", i),(\"-\", j)], 1.0)])\n",
    "\n",
    "    hamstr = \"+ \"+str(mapper().map(second_q_op=op))\n",
    "\n",
    "    hamiltonian = parse_hamiltonian_input(hamstr)\n",
    "\n",
    "    return hamiltonian \n"
   ]
  },
  {
   "cell_type": "markdown",
   "metadata": {},
   "source": [
    "Let's take a look at our new Hamiltonian generator in the next code block. We'll start by setting the basis dimension to 3 so we can compare our two Hamiltonians: handcrafted and computer generated."
   ]
  },
  {
   "cell_type": "code",
   "execution_count": 13,
   "metadata": {},
   "outputs": [
    {
     "name": "stdout",
     "output_type": "stream",
     "text": [
      "Original Hamiltonian: \n",
      "   (-9.625) [Z2]\n",
      "+ (-6.125) [Z1]\n",
      "+ (0.21829) [Z0]\n",
      "+ (15.531709) [I0]\n",
      "+ (-3.91) [X1 X2]\n",
      "+ (-3.91) [Y1 Y2]\n",
      "+ (-2.1433) [X0 X1]\n",
      "+ (-2.1433) [Y0 Y1]\n",
      "Generated Hamiltonian: \n",
      "   (-9.625) [Z0]\n",
      "+ (-6.125) [Z1]\n",
      "+ (0.21829055499999983) [Z2]\n",
      "+ (15.531709445) [I0]\n",
      "+ (-3.913118960624632) [Y0 Y1]\n",
      "+ (-3.913118960624632) [X0 X1]\n",
      "+ (-2.1433035249352805) [Y1 Y2]\n",
      "+ (-2.1433035249352805) [X1 X2]\n"
     ]
    }
   ],
   "source": [
    "dim = 3\n",
    "\n",
    "# Building our Hamiltonian for the N=3 case, as before\n",
    "\n",
    "coeffs = [15.531709 ,-2.1433, -2.1433, 0.21829, -6.125, -9.625, -3.91, -3.91]\n",
    "obs = [qml.Identity(0),qml.PauliX(0) @ qml.PauliX(1), qml.PauliY(0) @ qml.PauliY(1),qml.PauliZ(0),qml.PauliZ(1),qml.PauliZ(2),qml.PauliX(1) @ qml.PauliX(2),qml.PauliY(1) @ qml.PauliY(2)]\n",
    "\n",
    "ham = qml.Hamiltonian(coeffs, obs)\n",
    "\n",
    "# Let's print it out\n",
    "\n",
    "print(\"Original Hamiltonian: \\n\",ham)\n",
    "\n",
    "# Let's now use our new function!\n",
    "\n",
    "H = deuteron_ham(dim)\n",
    "\n",
    "print(\"Generated Hamiltonian: \\n\",H)"
   ]
  },
  {
   "cell_type": "markdown",
   "metadata": {},
   "source": [
    "We still need to define our device and circuit, so we'll let them be general as well."
   ]
  },
  {
   "cell_type": "code",
   "execution_count": 62,
   "metadata": {},
   "outputs": [],
   "source": [
    "# Set the order you'd like to go to\n",
    "\n",
    "dim = 5\n",
    "\n",
    "dev = qml.device(\"default.qubit\", wires=dim)\n",
    "\n",
    "# Define a general ansatz for arbitrary numbers of dimensions\n",
    "\n",
    "particles = 1\n",
    "\n",
    "ref_state = qml.qchem.hf_state(particles, dim)\n",
    "\n",
    "ansatz = partial(qml.ParticleConservingU2, init_state=ref_state)\n",
    "\n",
    "layers = dim - 2\n",
    "\n",
    "\n",
    "# Defining Hamiltonian\n",
    "\n",
    "H = deuteron_ham(dim)\n",
    "\n",
    "cost_fn = qml.ExpvalCost(ansatz, H, dev)\n"
   ]
  },
  {
   "cell_type": "markdown",
   "metadata": {},
   "source": [
    "Amazing! That's an even better looking Hamiltonian!\n",
    "\n",
    "Now we'll set up what we'll need for the VQE procedure, this time doing a loop over how many parameters we'll need."
   ]
  },
  {
   "cell_type": "code",
   "execution_count": 66,
   "metadata": {},
   "outputs": [],
   "source": [
    "# Our parameter array\n",
    "\n",
    "init_params = np.random.uniform(low=-np.pi / 2, high=np.pi / 2, size=qml.ParticleConservingU2.shape(n_layers=layers, n_wires=dim))\n",
    "\n",
    "# Convergence information and step size\n",
    "\n",
    "max_iterations = 500\n",
    "conv_tol = 1e-05\n",
    "step_size = 0.1"
   ]
  },
  {
   "cell_type": "markdown",
   "metadata": {},
   "source": [
    "Finally, the VQE block. We're still using the standard gradient descent optimizer since it worked so well before, but soon the time will come to shop around for better options. I have also added a quick and dirty variable step size just to speed things up slightly."
   ]
  },
  {
   "cell_type": "code",
   "execution_count": 68,
   "metadata": {},
   "outputs": [
    {
     "name": "stdout",
     "output_type": "stream",
     "text": [
      "It = 0,  Energy = 21.43240657 MeV,  Conv = 5.75277082 MeV, Time Elapsed = 1.682 s\n",
      "It = 10,  Energy = -0.34606572 MeV,  Conv = 0.03261540 MeV, Time Elapsed = 17.995 s\n"
     ]
    },
    {
     "ename": "KeyboardInterrupt",
     "evalue": "",
     "output_type": "error",
     "traceback": [
      "\u001b[0;31m---------------------------------------------------------------------------\u001b[0m",
      "\u001b[0;31mKeyboardInterrupt\u001b[0m                         Traceback (most recent call last)",
      "\u001b[1;32m/home/kyle/code/quantum-computing-tutorial/nuclear-qc/vqe/general.ipynb Cell 16'\u001b[0m in \u001b[0;36m<cell line: 13>\u001b[0;34m()\u001b[0m\n\u001b[1;32m     <a href='vscode-notebook-cell:/home/kyle/code/quantum-computing-tutorial/nuclear-qc/vqe/general.ipynb#ch0000015?line=21'>22</a>\u001b[0m gd_cost_history\u001b[39m.\u001b[39mappend(prev_energy)\n\u001b[1;32m     <a href='vscode-notebook-cell:/home/kyle/code/quantum-computing-tutorial/nuclear-qc/vqe/general.ipynb#ch0000015?line=23'>24</a>\u001b[0m \u001b[39m# Here we see what the energy of our system is with the new parameters\u001b[39;00m\n\u001b[0;32m---> <a href='vscode-notebook-cell:/home/kyle/code/quantum-computing-tutorial/nuclear-qc/vqe/general.ipynb#ch0000015?line=24'>25</a>\u001b[0m energy \u001b[39m=\u001b[39m cost_fn(params)\n\u001b[1;32m     <a href='vscode-notebook-cell:/home/kyle/code/quantum-computing-tutorial/nuclear-qc/vqe/general.ipynb#ch0000015?line=26'>27</a>\u001b[0m \u001b[39m# Calculate difference between new and old energies\u001b[39;00m\n\u001b[1;32m     <a href='vscode-notebook-cell:/home/kyle/code/quantum-computing-tutorial/nuclear-qc/vqe/general.ipynb#ch0000015?line=27'>28</a>\u001b[0m conv \u001b[39m=\u001b[39m np\u001b[39m.\u001b[39mabs(energy \u001b[39m-\u001b[39m prev_energy)\n",
      "File \u001b[0;32m~/.local/lib/python3.10/site-packages/pennylane/vqe/vqe.py:228\u001b[0m, in \u001b[0;36mExpvalCost.__call__\u001b[0;34m(self, *args, **kwargs)\u001b[0m\n\u001b[1;32m    <a href='file:///home/kyle/.local/lib/python3.10/site-packages/pennylane/vqe/vqe.py?line=226'>227</a>\u001b[0m \u001b[39mdef\u001b[39;00m \u001b[39m__call__\u001b[39m(\u001b[39mself\u001b[39m, \u001b[39m*\u001b[39margs, \u001b[39m*\u001b[39m\u001b[39m*\u001b[39mkwargs):\n\u001b[0;32m--> <a href='file:///home/kyle/.local/lib/python3.10/site-packages/pennylane/vqe/vqe.py?line=227'>228</a>\u001b[0m     \u001b[39mreturn\u001b[39;00m \u001b[39mself\u001b[39;49m\u001b[39m.\u001b[39;49mcost_fn(\u001b[39m*\u001b[39;49margs, \u001b[39m*\u001b[39;49m\u001b[39m*\u001b[39;49mkwargs)\n",
      "File \u001b[0;32m~/.local/lib/python3.10/site-packages/pennylane/collections/dot.py:143\u001b[0m, in \u001b[0;36mdot.<locals>.<lambda>\u001b[0;34m(params, **kwargs)\u001b[0m\n\u001b[1;32m    <a href='file:///home/kyle/.local/lib/python3.10/site-packages/pennylane/collections/dot.py?line=140'>141</a>\u001b[0m     interface \u001b[39m=\u001b[39m y\u001b[39m.\u001b[39minterface\n\u001b[1;32m    <a href='file:///home/kyle/.local/lib/python3.10/site-packages/pennylane/collections/dot.py?line=141'>142</a>\u001b[0m     fn, x \u001b[39m=\u001b[39m _get_dot_func(interface, x)\n\u001b[0;32m--> <a href='file:///home/kyle/.local/lib/python3.10/site-packages/pennylane/collections/dot.py?line=142'>143</a>\u001b[0m     func \u001b[39m=\u001b[39m \u001b[39mlambda\u001b[39;00m params, \u001b[39m*\u001b[39m\u001b[39m*\u001b[39mkwargs: fn(x, y(params, \u001b[39m*\u001b[39;49m\u001b[39m*\u001b[39;49mkwargs))\n\u001b[1;32m    <a href='file:///home/kyle/.local/lib/python3.10/site-packages/pennylane/collections/dot.py?line=144'>145</a>\u001b[0m \u001b[39melse\u001b[39;00m:\n\u001b[1;32m    <a href='file:///home/kyle/.local/lib/python3.10/site-packages/pennylane/collections/dot.py?line=145'>146</a>\u001b[0m     \u001b[39mraise\u001b[39;00m \u001b[39mValueError\u001b[39;00m(\u001b[39m\"\u001b[39m\u001b[39mAt least one argument must be a QNodeCollection\u001b[39m\u001b[39m\"\u001b[39m)\n",
      "File \u001b[0;32m~/.local/lib/python3.10/site-packages/pennylane/collections/qnode_collection.py:277\u001b[0m, in \u001b[0;36mQNodeCollection.__call__\u001b[0;34m(self, *args, **kwargs)\u001b[0m\n\u001b[1;32m    <a href='file:///home/kyle/.local/lib/python3.10/site-packages/pennylane/collections/qnode_collection.py?line=275'>276</a>\u001b[0m \u001b[39mdef\u001b[39;00m \u001b[39m__call__\u001b[39m(\u001b[39mself\u001b[39m, \u001b[39m*\u001b[39margs, \u001b[39m*\u001b[39m\u001b[39m*\u001b[39mkwargs):\n\u001b[0;32m--> <a href='file:///home/kyle/.local/lib/python3.10/site-packages/pennylane/collections/qnode_collection.py?line=276'>277</a>\u001b[0m     results \u001b[39m=\u001b[39m \u001b[39mself\u001b[39;49m\u001b[39m.\u001b[39;49mevaluate(args, kwargs)\n\u001b[1;32m    <a href='file:///home/kyle/.local/lib/python3.10/site-packages/pennylane/collections/qnode_collection.py?line=277'>278</a>\u001b[0m     \u001b[39mreturn\u001b[39;00m \u001b[39mself\u001b[39m\u001b[39m.\u001b[39mconvert_results(results, \u001b[39mself\u001b[39m\u001b[39m.\u001b[39minterface)\n",
      "File \u001b[0;32m~/.local/lib/python3.10/site-packages/pennylane/collections/qnode_collection.py:233\u001b[0m, in \u001b[0;36mQNodeCollection.evaluate\u001b[0;34m(self, args, kwargs)\u001b[0m\n\u001b[1;32m    <a href='file:///home/kyle/.local/lib/python3.10/site-packages/pennylane/collections/qnode_collection.py?line=229'>230</a>\u001b[0m     \u001b[39mreturn\u001b[39;00m dask\u001b[39m.\u001b[39mcompute(\u001b[39m*\u001b[39mresults, scheduler\u001b[39m=\u001b[39m_scheduler)\n\u001b[1;32m    <a href='file:///home/kyle/.local/lib/python3.10/site-packages/pennylane/collections/qnode_collection.py?line=231'>232</a>\u001b[0m \u001b[39mfor\u001b[39;00m q \u001b[39min\u001b[39;00m \u001b[39mself\u001b[39m\u001b[39m.\u001b[39mqnodes:\n\u001b[0;32m--> <a href='file:///home/kyle/.local/lib/python3.10/site-packages/pennylane/collections/qnode_collection.py?line=232'>233</a>\u001b[0m     results\u001b[39m.\u001b[39mappend(q(\u001b[39m*\u001b[39;49margs, \u001b[39m*\u001b[39;49m\u001b[39m*\u001b[39;49mkwargs))\n\u001b[1;32m    <a href='file:///home/kyle/.local/lib/python3.10/site-packages/pennylane/collections/qnode_collection.py?line=234'>235</a>\u001b[0m \u001b[39mreturn\u001b[39;00m results\n",
      "File \u001b[0;32m~/.local/lib/python3.10/site-packages/pennylane/qnode.py:619\u001b[0m, in \u001b[0;36mQNode.__call__\u001b[0;34m(self, *args, **kwargs)\u001b[0m\n\u001b[1;32m    <a href='file:///home/kyle/.local/lib/python3.10/site-packages/pennylane/qnode.py?line=611'>612</a>\u001b[0m using_custom_cache \u001b[39m=\u001b[39m (\n\u001b[1;32m    <a href='file:///home/kyle/.local/lib/python3.10/site-packages/pennylane/qnode.py?line=612'>613</a>\u001b[0m     \u001b[39mhasattr\u001b[39m(cache, \u001b[39m\"\u001b[39m\u001b[39m__getitem__\u001b[39m\u001b[39m\"\u001b[39m)\n\u001b[1;32m    <a href='file:///home/kyle/.local/lib/python3.10/site-packages/pennylane/qnode.py?line=613'>614</a>\u001b[0m     \u001b[39mand\u001b[39;00m \u001b[39mhasattr\u001b[39m(cache, \u001b[39m\"\u001b[39m\u001b[39m__setitem__\u001b[39m\u001b[39m\"\u001b[39m)\n\u001b[1;32m    <a href='file:///home/kyle/.local/lib/python3.10/site-packages/pennylane/qnode.py?line=614'>615</a>\u001b[0m     \u001b[39mand\u001b[39;00m \u001b[39mhasattr\u001b[39m(cache, \u001b[39m\"\u001b[39m\u001b[39m__delitem__\u001b[39m\u001b[39m\"\u001b[39m)\n\u001b[1;32m    <a href='file:///home/kyle/.local/lib/python3.10/site-packages/pennylane/qnode.py?line=615'>616</a>\u001b[0m )\n\u001b[1;32m    <a href='file:///home/kyle/.local/lib/python3.10/site-packages/pennylane/qnode.py?line=616'>617</a>\u001b[0m \u001b[39mself\u001b[39m\u001b[39m.\u001b[39m_tape_cached \u001b[39m=\u001b[39m using_custom_cache \u001b[39mand\u001b[39;00m \u001b[39mself\u001b[39m\u001b[39m.\u001b[39mtape\u001b[39m.\u001b[39mhash \u001b[39min\u001b[39;00m cache\n\u001b[0;32m--> <a href='file:///home/kyle/.local/lib/python3.10/site-packages/pennylane/qnode.py?line=618'>619</a>\u001b[0m res \u001b[39m=\u001b[39m qml\u001b[39m.\u001b[39;49mexecute(\n\u001b[1;32m    <a href='file:///home/kyle/.local/lib/python3.10/site-packages/pennylane/qnode.py?line=619'>620</a>\u001b[0m     [\u001b[39mself\u001b[39;49m\u001b[39m.\u001b[39;49mtape],\n\u001b[1;32m    <a href='file:///home/kyle/.local/lib/python3.10/site-packages/pennylane/qnode.py?line=620'>621</a>\u001b[0m     device\u001b[39m=\u001b[39;49m\u001b[39mself\u001b[39;49m\u001b[39m.\u001b[39;49mdevice,\n\u001b[1;32m    <a href='file:///home/kyle/.local/lib/python3.10/site-packages/pennylane/qnode.py?line=621'>622</a>\u001b[0m     gradient_fn\u001b[39m=\u001b[39;49m\u001b[39mself\u001b[39;49m\u001b[39m.\u001b[39;49mgradient_fn,\n\u001b[1;32m    <a href='file:///home/kyle/.local/lib/python3.10/site-packages/pennylane/qnode.py?line=622'>623</a>\u001b[0m     interface\u001b[39m=\u001b[39;49m\u001b[39mself\u001b[39;49m\u001b[39m.\u001b[39;49minterface,\n\u001b[1;32m    <a href='file:///home/kyle/.local/lib/python3.10/site-packages/pennylane/qnode.py?line=623'>624</a>\u001b[0m     gradient_kwargs\u001b[39m=\u001b[39;49m\u001b[39mself\u001b[39;49m\u001b[39m.\u001b[39;49mgradient_kwargs,\n\u001b[1;32m    <a href='file:///home/kyle/.local/lib/python3.10/site-packages/pennylane/qnode.py?line=624'>625</a>\u001b[0m     override_shots\u001b[39m=\u001b[39;49moverride_shots,\n\u001b[1;32m    <a href='file:///home/kyle/.local/lib/python3.10/site-packages/pennylane/qnode.py?line=625'>626</a>\u001b[0m     \u001b[39m*\u001b[39;49m\u001b[39m*\u001b[39;49m\u001b[39mself\u001b[39;49m\u001b[39m.\u001b[39;49mexecute_kwargs,\n\u001b[1;32m    <a href='file:///home/kyle/.local/lib/python3.10/site-packages/pennylane/qnode.py?line=626'>627</a>\u001b[0m )\n\u001b[1;32m    <a href='file:///home/kyle/.local/lib/python3.10/site-packages/pennylane/qnode.py?line=628'>629</a>\u001b[0m \u001b[39mif\u001b[39;00m autograd\u001b[39m.\u001b[39misinstance(res, (\u001b[39mtuple\u001b[39m, \u001b[39mlist\u001b[39m)) \u001b[39mand\u001b[39;00m \u001b[39mlen\u001b[39m(res) \u001b[39m==\u001b[39m \u001b[39m1\u001b[39m:\n\u001b[1;32m    <a href='file:///home/kyle/.local/lib/python3.10/site-packages/pennylane/qnode.py?line=629'>630</a>\u001b[0m     \u001b[39m# If a device batch transform was applied, we need to 'unpack'\u001b[39;00m\n\u001b[1;32m    <a href='file:///home/kyle/.local/lib/python3.10/site-packages/pennylane/qnode.py?line=630'>631</a>\u001b[0m     \u001b[39m# the returned tuple/list to a float.\u001b[39;00m\n\u001b[0;32m   (...)\u001b[0m\n\u001b[1;32m    <a href='file:///home/kyle/.local/lib/python3.10/site-packages/pennylane/qnode.py?line=637'>638</a>\u001b[0m     \u001b[39m# TODO: find a more explicit way of determining that a batch transform\u001b[39;00m\n\u001b[1;32m    <a href='file:///home/kyle/.local/lib/python3.10/site-packages/pennylane/qnode.py?line=638'>639</a>\u001b[0m     \u001b[39m# was applied.\u001b[39;00m\n\u001b[1;32m    <a href='file:///home/kyle/.local/lib/python3.10/site-packages/pennylane/qnode.py?line=640'>641</a>\u001b[0m     res \u001b[39m=\u001b[39m res[\u001b[39m0\u001b[39m]\n",
      "File \u001b[0;32m~/.local/lib/python3.10/site-packages/pennylane/interfaces/execution.py:344\u001b[0m, in \u001b[0;36mexecute\u001b[0;34m(tapes, device, gradient_fn, interface, mode, gradient_kwargs, cache, cachesize, max_diff, override_shots, expand_fn, max_expansion, device_batch_transform)\u001b[0m\n\u001b[1;32m    <a href='file:///home/kyle/.local/lib/python3.10/site-packages/pennylane/interfaces/execution.py?line=339'>340</a>\u001b[0m     \u001b[39mreturn\u001b[39;00m batch_fn(res)\n\u001b[1;32m    <a href='file:///home/kyle/.local/lib/python3.10/site-packages/pennylane/interfaces/execution.py?line=341'>342</a>\u001b[0m \u001b[39mif\u001b[39;00m gradient_fn \u001b[39m==\u001b[39m \u001b[39m\"\u001b[39m\u001b[39mbackprop\u001b[39m\u001b[39m\"\u001b[39m \u001b[39mor\u001b[39;00m interface \u001b[39mis\u001b[39;00m \u001b[39mNone\u001b[39;00m:\n\u001b[1;32m    <a href='file:///home/kyle/.local/lib/python3.10/site-packages/pennylane/interfaces/execution.py?line=342'>343</a>\u001b[0m     \u001b[39mreturn\u001b[39;00m batch_fn(\n\u001b[0;32m--> <a href='file:///home/kyle/.local/lib/python3.10/site-packages/pennylane/interfaces/execution.py?line=343'>344</a>\u001b[0m         qml\u001b[39m.\u001b[39;49minterfaces\u001b[39m.\u001b[39;49mcache_execute(\n\u001b[1;32m    <a href='file:///home/kyle/.local/lib/python3.10/site-packages/pennylane/interfaces/execution.py?line=344'>345</a>\u001b[0m             batch_execute, cache, return_tuple\u001b[39m=\u001b[39;49m\u001b[39mFalse\u001b[39;49;00m, expand_fn\u001b[39m=\u001b[39;49mexpand_fn\n\u001b[1;32m    <a href='file:///home/kyle/.local/lib/python3.10/site-packages/pennylane/interfaces/execution.py?line=345'>346</a>\u001b[0m         )(tapes)\n\u001b[1;32m    <a href='file:///home/kyle/.local/lib/python3.10/site-packages/pennylane/interfaces/execution.py?line=346'>347</a>\u001b[0m     )\n\u001b[1;32m    <a href='file:///home/kyle/.local/lib/python3.10/site-packages/pennylane/interfaces/execution.py?line=348'>349</a>\u001b[0m \u001b[39m# the default execution function is batch_execute\u001b[39;00m\n\u001b[1;32m    <a href='file:///home/kyle/.local/lib/python3.10/site-packages/pennylane/interfaces/execution.py?line=349'>350</a>\u001b[0m execute_fn \u001b[39m=\u001b[39m qml\u001b[39m.\u001b[39minterfaces\u001b[39m.\u001b[39mcache_execute(batch_execute, cache, expand_fn\u001b[39m=\u001b[39mexpand_fn)\n",
      "File \u001b[0;32m~/.local/lib/python3.10/site-packages/pennylane/interfaces/execution.py:172\u001b[0m, in \u001b[0;36mcache_execute.<locals>.wrapper\u001b[0;34m(tapes, **kwargs)\u001b[0m\n\u001b[1;32m    <a href='file:///home/kyle/.local/lib/python3.10/site-packages/pennylane/interfaces/execution.py?line=167'>168</a>\u001b[0m         \u001b[39mreturn\u001b[39;00m (res, []) \u001b[39mif\u001b[39;00m return_tuple \u001b[39melse\u001b[39;00m res\n\u001b[1;32m    <a href='file:///home/kyle/.local/lib/python3.10/site-packages/pennylane/interfaces/execution.py?line=169'>170</a>\u001b[0m \u001b[39melse\u001b[39;00m:\n\u001b[1;32m    <a href='file:///home/kyle/.local/lib/python3.10/site-packages/pennylane/interfaces/execution.py?line=170'>171</a>\u001b[0m     \u001b[39m# execute all unique tapes that do not exist in the cache\u001b[39;00m\n\u001b[0;32m--> <a href='file:///home/kyle/.local/lib/python3.10/site-packages/pennylane/interfaces/execution.py?line=171'>172</a>\u001b[0m     res \u001b[39m=\u001b[39m fn(execution_tapes\u001b[39m.\u001b[39;49mvalues(), \u001b[39m*\u001b[39;49m\u001b[39m*\u001b[39;49mkwargs)\n\u001b[1;32m    <a href='file:///home/kyle/.local/lib/python3.10/site-packages/pennylane/interfaces/execution.py?line=173'>174</a>\u001b[0m final_res \u001b[39m=\u001b[39m []\n\u001b[1;32m    <a href='file:///home/kyle/.local/lib/python3.10/site-packages/pennylane/interfaces/execution.py?line=175'>176</a>\u001b[0m \u001b[39mfor\u001b[39;00m i, tape \u001b[39min\u001b[39;00m \u001b[39menumerate\u001b[39m(tapes):\n",
      "File \u001b[0;32m~/.local/lib/python3.10/site-packages/pennylane/interfaces/execution.py:97\u001b[0m, in \u001b[0;36mcache_execute.<locals>.fn\u001b[0;34m(tapes, **kwargs)\u001b[0m\n\u001b[1;32m     <a href='file:///home/kyle/.local/lib/python3.10/site-packages/pennylane/interfaces/execution.py?line=94'>95</a>\u001b[0m \u001b[39mdef\u001b[39;00m \u001b[39mfn\u001b[39m(tapes, \u001b[39m*\u001b[39m\u001b[39m*\u001b[39mkwargs):  \u001b[39m# pylint: disable=function-redefined\u001b[39;00m\n\u001b[1;32m     <a href='file:///home/kyle/.local/lib/python3.10/site-packages/pennylane/interfaces/execution.py?line=95'>96</a>\u001b[0m     tapes \u001b[39m=\u001b[39m [expand_fn(tape) \u001b[39mfor\u001b[39;00m tape \u001b[39min\u001b[39;00m tapes]\n\u001b[0;32m---> <a href='file:///home/kyle/.local/lib/python3.10/site-packages/pennylane/interfaces/execution.py?line=96'>97</a>\u001b[0m     \u001b[39mreturn\u001b[39;00m original_fn(tapes, \u001b[39m*\u001b[39;49m\u001b[39m*\u001b[39;49mkwargs)\n",
      "File \u001b[0;32m/usr/lib/python3.10/contextlib.py:79\u001b[0m, in \u001b[0;36mContextDecorator.__call__.<locals>.inner\u001b[0;34m(*args, **kwds)\u001b[0m\n\u001b[1;32m     <a href='file:///usr/lib/python3.10/contextlib.py?line=75'>76</a>\u001b[0m \u001b[39m@wraps\u001b[39m(func)\n\u001b[1;32m     <a href='file:///usr/lib/python3.10/contextlib.py?line=76'>77</a>\u001b[0m \u001b[39mdef\u001b[39;00m \u001b[39minner\u001b[39m(\u001b[39m*\u001b[39margs, \u001b[39m*\u001b[39m\u001b[39m*\u001b[39mkwds):\n\u001b[1;32m     <a href='file:///usr/lib/python3.10/contextlib.py?line=77'>78</a>\u001b[0m     \u001b[39mwith\u001b[39;00m \u001b[39mself\u001b[39m\u001b[39m.\u001b[39m_recreate_cm():\n\u001b[0;32m---> <a href='file:///usr/lib/python3.10/contextlib.py?line=78'>79</a>\u001b[0m         \u001b[39mreturn\u001b[39;00m func(\u001b[39m*\u001b[39;49margs, \u001b[39m*\u001b[39;49m\u001b[39m*\u001b[39;49mkwds)\n",
      "File \u001b[0;32m~/.local/lib/python3.10/site-packages/pennylane/_qubit_device.py:355\u001b[0m, in \u001b[0;36mQubitDevice.batch_execute\u001b[0;34m(self, circuits)\u001b[0m\n\u001b[1;32m    <a href='file:///home/kyle/.local/lib/python3.10/site-packages/pennylane/_qubit_device.py?line=349'>350</a>\u001b[0m \u001b[39mfor\u001b[39;00m circuit \u001b[39min\u001b[39;00m circuits:\n\u001b[1;32m    <a href='file:///home/kyle/.local/lib/python3.10/site-packages/pennylane/_qubit_device.py?line=350'>351</a>\u001b[0m     \u001b[39m# we need to reset the device here, else it will\u001b[39;00m\n\u001b[1;32m    <a href='file:///home/kyle/.local/lib/python3.10/site-packages/pennylane/_qubit_device.py?line=351'>352</a>\u001b[0m     \u001b[39m# not start the next computation in the zero state\u001b[39;00m\n\u001b[1;32m    <a href='file:///home/kyle/.local/lib/python3.10/site-packages/pennylane/_qubit_device.py?line=352'>353</a>\u001b[0m     \u001b[39mself\u001b[39m\u001b[39m.\u001b[39mreset()\n\u001b[0;32m--> <a href='file:///home/kyle/.local/lib/python3.10/site-packages/pennylane/_qubit_device.py?line=354'>355</a>\u001b[0m     res \u001b[39m=\u001b[39m \u001b[39mself\u001b[39;49m\u001b[39m.\u001b[39;49mexecute(circuit)\n\u001b[1;32m    <a href='file:///home/kyle/.local/lib/python3.10/site-packages/pennylane/_qubit_device.py?line=355'>356</a>\u001b[0m     results\u001b[39m.\u001b[39mappend(res)\n\u001b[1;32m    <a href='file:///home/kyle/.local/lib/python3.10/site-packages/pennylane/_qubit_device.py?line=357'>358</a>\u001b[0m \u001b[39mif\u001b[39;00m \u001b[39mself\u001b[39m\u001b[39m.\u001b[39mtracker\u001b[39m.\u001b[39mactive:\n",
      "File \u001b[0;32m~/.local/lib/python3.10/site-packages/pennylane/_qubit_device.py:257\u001b[0m, in \u001b[0;36mQubitDevice.execute\u001b[0;34m(self, circuit, **kwargs)\u001b[0m\n\u001b[1;32m    <a href='file:///home/kyle/.local/lib/python3.10/site-packages/pennylane/_qubit_device.py?line=253'>254</a>\u001b[0m \u001b[39mself\u001b[39m\u001b[39m.\u001b[39mcheck_validity(circuit\u001b[39m.\u001b[39moperations, circuit\u001b[39m.\u001b[39mobservables)\n\u001b[1;32m    <a href='file:///home/kyle/.local/lib/python3.10/site-packages/pennylane/_qubit_device.py?line=255'>256</a>\u001b[0m \u001b[39m# apply all circuit operations\u001b[39;00m\n\u001b[0;32m--> <a href='file:///home/kyle/.local/lib/python3.10/site-packages/pennylane/_qubit_device.py?line=256'>257</a>\u001b[0m \u001b[39mself\u001b[39;49m\u001b[39m.\u001b[39;49mapply(circuit\u001b[39m.\u001b[39;49moperations, rotations\u001b[39m=\u001b[39;49mcircuit\u001b[39m.\u001b[39;49mdiagonalizing_gates, \u001b[39m*\u001b[39;49m\u001b[39m*\u001b[39;49mkwargs)\n\u001b[1;32m    <a href='file:///home/kyle/.local/lib/python3.10/site-packages/pennylane/_qubit_device.py?line=258'>259</a>\u001b[0m \u001b[39m# generate computational basis samples\u001b[39;00m\n\u001b[1;32m    <a href='file:///home/kyle/.local/lib/python3.10/site-packages/pennylane/_qubit_device.py?line=259'>260</a>\u001b[0m \u001b[39mif\u001b[39;00m \u001b[39mself\u001b[39m\u001b[39m.\u001b[39mshots \u001b[39mis\u001b[39;00m \u001b[39mnot\u001b[39;00m \u001b[39mNone\u001b[39;00m \u001b[39mor\u001b[39;00m circuit\u001b[39m.\u001b[39mis_sampled:\n",
      "File \u001b[0;32m~/.local/lib/python3.10/site-packages/pennylane/devices/default_qubit.py:231\u001b[0m, in \u001b[0;36mDefaultQubit.apply\u001b[0;34m(self, operations, rotations, **kwargs)\u001b[0m\n\u001b[1;32m    <a href='file:///home/kyle/.local/lib/python3.10/site-packages/pennylane/devices/default_qubit.py?line=228'>229</a>\u001b[0m                 \u001b[39mself\u001b[39m\u001b[39m.\u001b[39m_debugger\u001b[39m.\u001b[39msnapshots[\u001b[39mlen\u001b[39m(\u001b[39mself\u001b[39m\u001b[39m.\u001b[39m_debugger\u001b[39m.\u001b[39msnapshots)] \u001b[39m=\u001b[39m state_vector\n\u001b[1;32m    <a href='file:///home/kyle/.local/lib/python3.10/site-packages/pennylane/devices/default_qubit.py?line=229'>230</a>\u001b[0m     \u001b[39melse\u001b[39;00m:\n\u001b[0;32m--> <a href='file:///home/kyle/.local/lib/python3.10/site-packages/pennylane/devices/default_qubit.py?line=230'>231</a>\u001b[0m         \u001b[39mself\u001b[39m\u001b[39m.\u001b[39m_state \u001b[39m=\u001b[39m \u001b[39mself\u001b[39;49m\u001b[39m.\u001b[39;49m_apply_operation(\u001b[39mself\u001b[39;49m\u001b[39m.\u001b[39;49m_state, operation)\n\u001b[1;32m    <a href='file:///home/kyle/.local/lib/python3.10/site-packages/pennylane/devices/default_qubit.py?line=232'>233</a>\u001b[0m \u001b[39m# store the pre-rotated state\u001b[39;00m\n\u001b[1;32m    <a href='file:///home/kyle/.local/lib/python3.10/site-packages/pennylane/devices/default_qubit.py?line=233'>234</a>\u001b[0m \u001b[39mself\u001b[39m\u001b[39m.\u001b[39m_pre_rotated_state \u001b[39m=\u001b[39m \u001b[39mself\u001b[39m\u001b[39m.\u001b[39m_state\n",
      "File \u001b[0;32m~/.local/lib/python3.10/site-packages/pennylane/devices/default_qubit.py:258\u001b[0m, in \u001b[0;36mDefaultQubit._apply_operation\u001b[0;34m(self, state, operation)\u001b[0m\n\u001b[1;32m    <a href='file:///home/kyle/.local/lib/python3.10/site-packages/pennylane/devices/default_qubit.py?line=254'>255</a>\u001b[0m     axes \u001b[39m=\u001b[39m \u001b[39mself\u001b[39m\u001b[39m.\u001b[39mwires\u001b[39m.\u001b[39mindices(wires)\n\u001b[1;32m    <a href='file:///home/kyle/.local/lib/python3.10/site-packages/pennylane/devices/default_qubit.py?line=255'>256</a>\u001b[0m     \u001b[39mreturn\u001b[39;00m \u001b[39mself\u001b[39m\u001b[39m.\u001b[39m_apply_ops[operation\u001b[39m.\u001b[39mbase_name](state, axes, inverse\u001b[39m=\u001b[39moperation\u001b[39m.\u001b[39minverse)\n\u001b[0;32m--> <a href='file:///home/kyle/.local/lib/python3.10/site-packages/pennylane/devices/default_qubit.py?line=257'>258</a>\u001b[0m matrix \u001b[39m=\u001b[39m \u001b[39mself\u001b[39m\u001b[39m.\u001b[39m_asarray(\u001b[39mself\u001b[39;49m\u001b[39m.\u001b[39;49m_get_unitary_matrix(operation), dtype\u001b[39m=\u001b[39m\u001b[39mself\u001b[39m\u001b[39m.\u001b[39mC_DTYPE)\n\u001b[1;32m    <a href='file:///home/kyle/.local/lib/python3.10/site-packages/pennylane/devices/default_qubit.py?line=259'>260</a>\u001b[0m \u001b[39mif\u001b[39;00m operation \u001b[39min\u001b[39;00m diagonal_in_z_basis:\n\u001b[1;32m    <a href='file:///home/kyle/.local/lib/python3.10/site-packages/pennylane/devices/default_qubit.py?line=260'>261</a>\u001b[0m     \u001b[39mreturn\u001b[39;00m \u001b[39mself\u001b[39m\u001b[39m.\u001b[39m_apply_diagonal_unitary(state, matrix, wires)\n",
      "File \u001b[0;32m~/.local/lib/python3.10/site-packages/pennylane/devices/default_qubit.py:564\u001b[0m, in \u001b[0;36mDefaultQubit._get_unitary_matrix\u001b[0;34m(self, unitary)\u001b[0m\n\u001b[1;32m    <a href='file:///home/kyle/.local/lib/python3.10/site-packages/pennylane/devices/default_qubit.py?line=560'>561</a>\u001b[0m \u001b[39mif\u001b[39;00m unitary \u001b[39min\u001b[39;00m diagonal_in_z_basis:\n\u001b[1;32m    <a href='file:///home/kyle/.local/lib/python3.10/site-packages/pennylane/devices/default_qubit.py?line=561'>562</a>\u001b[0m     \u001b[39mreturn\u001b[39;00m unitary\u001b[39m.\u001b[39meigvals()\n\u001b[0;32m--> <a href='file:///home/kyle/.local/lib/python3.10/site-packages/pennylane/devices/default_qubit.py?line=563'>564</a>\u001b[0m \u001b[39mreturn\u001b[39;00m unitary\u001b[39m.\u001b[39;49mmatrix()\n",
      "File \u001b[0;32m~/.local/lib/python3.10/site-packages/pennylane/operation.py:1414\u001b[0m, in \u001b[0;36mOperation.matrix\u001b[0;34m(self, wire_order)\u001b[0m\n\u001b[1;32m   <a href='file:///home/kyle/.local/lib/python3.10/site-packages/pennylane/operation.py?line=1412'>1413</a>\u001b[0m \u001b[39mdef\u001b[39;00m \u001b[39mmatrix\u001b[39m(\u001b[39mself\u001b[39m, wire_order\u001b[39m=\u001b[39m\u001b[39mNone\u001b[39;00m):\n\u001b[0;32m-> <a href='file:///home/kyle/.local/lib/python3.10/site-packages/pennylane/operation.py?line=1413'>1414</a>\u001b[0m     canonical_matrix \u001b[39m=\u001b[39m \u001b[39mself\u001b[39;49m\u001b[39m.\u001b[39;49mcompute_matrix(\u001b[39m*\u001b[39;49m\u001b[39mself\u001b[39;49m\u001b[39m.\u001b[39;49mparameters, \u001b[39m*\u001b[39;49m\u001b[39m*\u001b[39;49m\u001b[39mself\u001b[39;49m\u001b[39m.\u001b[39;49mhyperparameters)\n\u001b[1;32m   <a href='file:///home/kyle/.local/lib/python3.10/site-packages/pennylane/operation.py?line=1415'>1416</a>\u001b[0m     \u001b[39mif\u001b[39;00m \u001b[39mself\u001b[39m\u001b[39m.\u001b[39minverse:\n\u001b[1;32m   <a href='file:///home/kyle/.local/lib/python3.10/site-packages/pennylane/operation.py?line=1416'>1417</a>\u001b[0m         canonical_matrix \u001b[39m=\u001b[39m qml\u001b[39m.\u001b[39mmath\u001b[39m.\u001b[39mconj(qml\u001b[39m.\u001b[39mmath\u001b[39m.\u001b[39mmoveaxis(canonical_matrix, \u001b[39m-\u001b[39m\u001b[39m2\u001b[39m, \u001b[39m-\u001b[39m\u001b[39m1\u001b[39m))\n",
      "File \u001b[0;32m~/.local/lib/python3.10/site-packages/pennylane/ops/qubit/parametric_ops.py:1372\u001b[0m, in \u001b[0;36mCRX.compute_matrix\u001b[0;34m(theta)\u001b[0m\n\u001b[1;32m   <a href='file:///home/kyle/.local/lib/python3.10/site-packages/pennylane/ops/qubit/parametric_ops.py?line=1363'>1364</a>\u001b[0m zeros \u001b[39m=\u001b[39m qml\u001b[39m.\u001b[39mmath\u001b[39m.\u001b[39mzeros_like(js)\n\u001b[1;32m   <a href='file:///home/kyle/.local/lib/python3.10/site-packages/pennylane/ops/qubit/parametric_ops.py?line=1364'>1365</a>\u001b[0m matrix \u001b[39m=\u001b[39m [\n\u001b[1;32m   <a href='file:///home/kyle/.local/lib/python3.10/site-packages/pennylane/ops/qubit/parametric_ops.py?line=1365'>1366</a>\u001b[0m     [ones, zeros, zeros, zeros],\n\u001b[1;32m   <a href='file:///home/kyle/.local/lib/python3.10/site-packages/pennylane/ops/qubit/parametric_ops.py?line=1366'>1367</a>\u001b[0m     [zeros, ones, zeros, zeros],\n\u001b[1;32m   <a href='file:///home/kyle/.local/lib/python3.10/site-packages/pennylane/ops/qubit/parametric_ops.py?line=1367'>1368</a>\u001b[0m     [zeros, zeros, c, js],\n\u001b[1;32m   <a href='file:///home/kyle/.local/lib/python3.10/site-packages/pennylane/ops/qubit/parametric_ops.py?line=1368'>1369</a>\u001b[0m     [zeros, zeros, js, c],\n\u001b[1;32m   <a href='file:///home/kyle/.local/lib/python3.10/site-packages/pennylane/ops/qubit/parametric_ops.py?line=1369'>1370</a>\u001b[0m ]\n\u001b[0;32m-> <a href='file:///home/kyle/.local/lib/python3.10/site-packages/pennylane/ops/qubit/parametric_ops.py?line=1371'>1372</a>\u001b[0m \u001b[39mreturn\u001b[39;00m qml\u001b[39m.\u001b[39;49mmath\u001b[39m.\u001b[39;49mstack([stack_last(row) \u001b[39mfor\u001b[39;49;00m row \u001b[39min\u001b[39;49;00m matrix], axis\u001b[39m=\u001b[39;49m\u001b[39m-\u001b[39;49m\u001b[39m2\u001b[39;49m)\n",
      "File \u001b[0;32m~/.local/lib/python3.10/site-packages/pennylane/math/multi_dispatch.py:178\u001b[0m, in \u001b[0;36mmulti_dispatch.<locals>.decorator.<locals>.wrapper\u001b[0;34m(*args, **kwargs)\u001b[0m\n\u001b[1;32m    <a href='file:///home/kyle/.local/lib/python3.10/site-packages/pennylane/math/multi_dispatch.py?line=174'>175</a>\u001b[0m interface \u001b[39m=\u001b[39m interface \u001b[39mor\u001b[39;00m _multi_dispatch(dispatch_args)\n\u001b[1;32m    <a href='file:///home/kyle/.local/lib/python3.10/site-packages/pennylane/math/multi_dispatch.py?line=175'>176</a>\u001b[0m kwargs[\u001b[39m\"\u001b[39m\u001b[39mlike\u001b[39m\u001b[39m\"\u001b[39m] \u001b[39m=\u001b[39m interface\n\u001b[0;32m--> <a href='file:///home/kyle/.local/lib/python3.10/site-packages/pennylane/math/multi_dispatch.py?line=177'>178</a>\u001b[0m \u001b[39mreturn\u001b[39;00m fn(\u001b[39m*\u001b[39;49margs, \u001b[39m*\u001b[39;49m\u001b[39m*\u001b[39;49mkwargs)\n",
      "File \u001b[0;32m~/.local/lib/python3.10/site-packages/pennylane/math/multi_dispatch.py:476\u001b[0m, in \u001b[0;36mstack\u001b[0;34m(values, axis, like)\u001b[0m\n\u001b[1;32m    <a href='file:///home/kyle/.local/lib/python3.10/site-packages/pennylane/math/multi_dispatch.py?line=470'>471</a>\u001b[0m         \u001b[39mreturn\u001b[39;00m cast(np\u001b[39m.\u001b[39mones_like(tensor), dtype)\n\u001b[1;32m    <a href='file:///home/kyle/.local/lib/python3.10/site-packages/pennylane/math/multi_dispatch.py?line=472'>473</a>\u001b[0m     \u001b[39mreturn\u001b[39;00m np\u001b[39m.\u001b[39mones_like(tensor)\n\u001b[0;32m--> <a href='file:///home/kyle/.local/lib/python3.10/site-packages/pennylane/math/multi_dispatch.py?line=475'>476</a>\u001b[0m \u001b[39m@multi_dispatch\u001b[39m(argnum\u001b[39m=\u001b[39m[\u001b[39m0\u001b[39m], tensor_list\u001b[39m=\u001b[39m[\u001b[39m0\u001b[39m])\n\u001b[1;32m    <a href='file:///home/kyle/.local/lib/python3.10/site-packages/pennylane/math/multi_dispatch.py?line=476'>477</a>\u001b[0m \u001b[39mdef\u001b[39;00m \u001b[39mstack\u001b[39m(values, axis\u001b[39m=\u001b[39m\u001b[39m0\u001b[39m, like\u001b[39m=\u001b[39m\u001b[39mNone\u001b[39;00m):\n\u001b[1;32m    <a href='file:///home/kyle/.local/lib/python3.10/site-packages/pennylane/math/multi_dispatch.py?line=477'>478</a>\u001b[0m     \u001b[39m\"\"\"Stack a sequence of tensors along the specified axis.\u001b[39;00m\n\u001b[1;32m    <a href='file:///home/kyle/.local/lib/python3.10/site-packages/pennylane/math/multi_dispatch.py?line=478'>479</a>\u001b[0m \n\u001b[1;32m    <a href='file:///home/kyle/.local/lib/python3.10/site-packages/pennylane/math/multi_dispatch.py?line=479'>480</a>\u001b[0m \u001b[39m    .. warning::\u001b[39;00m\n\u001b[0;32m   (...)\u001b[0m\n\u001b[1;32m    <a href='file:///home/kyle/.local/lib/python3.10/site-packages/pennylane/math/multi_dispatch.py?line=503'>504</a>\u001b[0m \u001b[39m           [5.00e+00, 8.00e+00, 1.01e+02]], dtype=float32)>\u001b[39;00m\n\u001b[1;32m    <a href='file:///home/kyle/.local/lib/python3.10/site-packages/pennylane/math/multi_dispatch.py?line=504'>505</a>\u001b[0m \u001b[39m    \"\"\"\u001b[39;00m\n\u001b[1;32m    <a href='file:///home/kyle/.local/lib/python3.10/site-packages/pennylane/math/multi_dispatch.py?line=505'>506</a>\u001b[0m     values \u001b[39m=\u001b[39m np\u001b[39m.\u001b[39mcoerce(values, like\u001b[39m=\u001b[39mlike)\n",
      "\u001b[0;31mKeyboardInterrupt\u001b[0m: "
     ]
    }
   ],
   "source": [
    "opt = qml.GradientDescentOptimizer(stepsize=step_size)\n",
    "\n",
    "params = init_params\n",
    "\n",
    "gd_param_history = [params]\n",
    "gd_cost_history = []\n",
    "\n",
    "accel = 0\n",
    "prev_conv = -1.0\n",
    "\n",
    "start = time.time()\n",
    "\n",
    "for n in range(max_iterations):\n",
    "    fac = (1.0)\n",
    "    opt = qml.GradientDescentOptimizer(stepsize=step_size)\n",
    "\n",
    "    # Take a step in parameter space and record your energy\n",
    "    params, prev_energy = opt.step_and_cost(cost_fn, params)\n",
    "\n",
    "    # This keeps track of our energy for plotting at comparisons\n",
    "    gd_param_history.append(params)\n",
    "    gd_cost_history.append(prev_energy)\n",
    "\n",
    "    # Here we see what the energy of our system is with the new parameters\n",
    "    energy = cost_fn(params)\n",
    "\n",
    "    # Calculate difference between new and old energies\n",
    "    conv = np.abs(energy - prev_energy)\n",
    "\n",
    "    if(energy - prev_energy > 0.0 and step_size > 0.001):\n",
    "        #print(\"Lowering!\")\n",
    "        accel = 0\n",
    "        step_size = 0.5*step_size\n",
    "\n",
    "    if(conv < prev_conv): accel += 1\n",
    "    prev_conv = conv\n",
    "    \n",
    "    if(accel > 10 and step_size < 1.0):\n",
    "        #print(\"Accelerating!\")\n",
    "        step_size = 1.1*step_size\n",
    "    end = time.time()\n",
    "\n",
    "    if n % 10 == 0:\n",
    "        print(\n",
    "            \"It = {:},  Energy = {:.8f} MeV,  Conv = {\"\n",
    "            \":.8f} MeV, Time Elapsed = {:.3f} s\".format(n, energy, conv,end-start)\n",
    "        )\n",
    "        start = time.time()\n",
    "\n",
    "\n",
    "    if conv <= conv_tol:\n",
    "        break\n",
    "\n",
    "print()\n",
    "print(\"Final value of the energy = {:.8f} MeV\".format(energy))\n",
    "print(\"Number of iterations = \", n)"
   ]
  },
  {
   "cell_type": "markdown",
   "metadata": {},
   "source": [
    "If you choose a bigger basis, you do a better job! This is to be expected, but notice that we've taken quite the performance hit by going to a more general representation. We'll explore how to do better at this in the optimization section, but for now let's check the convergence."
   ]
  },
  {
   "cell_type": "code",
   "execution_count": 65,
   "metadata": {},
   "outputs": [
    {
     "data": {
      "image/png": "[encoded data removed]",
      "text/plain": [
       "<Figure size 576x396 with 1 Axes>"
      ]
     },
     "metadata": {},
     "output_type": "display_data"
    }
   ],
   "source": [
    "plt.style.use(\"seaborn\")\n",
    "plt.plot(gd_cost_history, \"b\", label=\"Gradient descent\")\n",
    "\n",
    "plt.ylabel(\"Energy (MeV)\")\n",
    "plt.xlabel(\"Optimization steps\")\n",
    "plt.legend()\n",
    "plt.show()"
   ]
  },
  {
   "cell_type": "markdown",
   "metadata": {},
   "source": [
    "Since we are now allowed to move in higher dimensions, making a general PES plotter gets a little tricky, but feel free to play around and see if you can think of clever ways to plot how your solution explores the space!\n",
    "\n",
    "This pretty much concludes our exploration of quantum computing for the deuteron from the point of view of Hamiltonian and state preparation, but there's plenty of other things that can be tried to improve performance! One approach would involve optimizing the ansatz instead of using a generic form, which could be a fun challenge. Another approach is to speed up the VQE algorithm itself by being clever with how we iterate which is what we'll briefly explore next."
   ]
  }
 ],
 "metadata": {
  "interpreter": {
   "hash": "e7370f93d1d0cde622a1f8e1c04877d8463912d04d973331ad4851f04de6915a"
  },
  "kernelspec": {
   "display_name": "Python 3.10.4 64-bit",
   "language": "python",
   "name": "python3"
  },
  "language_info": {
   "codemirror_mode": {
    "name": "ipython",
    "version": 3
   },
   "file_extension": ".py",
   "mimetype": "text/x-python",
   "name": "python",
   "nbconvert_exporter": "python",
   "pygments_lexer": "ipython3",
   "version": "3.10.4"
  },
  "orig_nbformat": 4,
  "vscode": {
   "interpreter": {
    "hash": "e7370f93d1d0cde622a1f8e1c04877d8463912d04d973331ad4851f04de6915a"
   }
  }
 },
 "nbformat": 4,
 "nbformat_minor": 2
}
