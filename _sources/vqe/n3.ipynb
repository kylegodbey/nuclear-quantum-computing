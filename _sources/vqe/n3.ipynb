{
 "cells": [
  {
   "cell_type": "markdown",
   "metadata": {},
   "source": [
    "# Complexity++: N=3\n",
    "\n",
    "Author(s): Kyle Godbey\n",
    "\n",
    "Maintainer: Kyle Godbey\n",
    "\n",
    "Our previous example was great for introducing us to the methods and computational framework, but it's time to take another step towards something a little trickier and expand our basis by one.\n",
    "\n",
    "The key difference here is that now our ansatz will require another parameter, making it a 2d optimization problem. Our Hamiltonian will also change of course, meaning the bulk of the changes will be in those two cells since our VQE machinery can still handle it well. Even though most of this page will be the same as the last be sure to step through it all if only to see the nice two dimensional plot of the PES.\n",
    "\n",
    "Let's set up imports again, it never gets old! We will again just use [pennylane](https://pennylane.ai/) and define the circuits and Hamiltonian directly in the form from [Cloud Quantum Computing of an Atomic Nucleus](https://journals.aps.org/prl/abstract/10.1103/PhysRevLett.120.210501)."
   ]
  },
  {
   "cell_type": "code",
   "execution_count": 1,
   "metadata": {},
   "outputs": [],
   "source": [
    "%matplotlib inline\n",
    "\n",
    "import matplotlib.pyplot as plt\n",
    "from pennylane import numpy as np\n",
    "import pennylane as qml\n",
    "import warnings\n",
    "warnings.filterwarnings('ignore')"
   ]
  },
  {
   "cell_type": "markdown",
   "metadata": {},
   "source": [
    "Now we will define our 'device' (a simulator in this case) as well as our ansatz and Hamiltonian.\n",
    "\n",
    "Here is where the first big change comes in, since we now need 3 qubits. Our ansatz circuit is thus a little more complicated than before, being a little deeper and requiring another variational parameter.\n",
    "\n",
    "Our Hamiltonian is also changed, of course, but here we're still writing it out by hand, with automatic generation being introduced next."
   ]
  },
  {
   "cell_type": "code",
   "execution_count": 2,
   "metadata": {},
   "outputs": [
    {
     "name": "stdout",
     "output_type": "stream",
     "text": [
      "  (-9.625) [Z2]\n",
      "+ (-6.125) [Z1]\n",
      "+ (0.21829) [Z0]\n",
      "+ (15.531709) [I0]\n",
      "+ (-3.91) [X1 X2]\n",
      "+ (-3.91) [Y1 Y2]\n",
      "+ (-2.1433) [X0 X1]\n",
      "+ (-2.1433) [Y0 Y1]\n"
     ]
    }
   ],
   "source": [
    "# In this case we now need 3 qubits\n",
    "\n",
    "dev = qml.device(\"default.qubit\", wires=3)\n",
    "\n",
    "# Defining our ansatz circuit for the N=3 case\n",
    "\n",
    "def circuit(params,wires):\n",
    "    t0 = params[0]\n",
    "    t1 = params[1]\n",
    "    qml.PauliX(wires=0)\n",
    "    qml.RY(t1, wires=1)\n",
    "    qml.RY(t0, wires=2)\n",
    "    qml.CNOT(wires=[2,0])\n",
    "    qml.CNOT(wires=[0,1])\n",
    "    qml.RY(-t1, wires=1)\n",
    "    qml.CNOT(wires=[0,1])\n",
    "    qml.CNOT(wires=[1,0])\n",
    "\n",
    "# And building our Hamiltonian for the N=3 case\n",
    "\n",
    "coeffs = [15.531709 ,-2.1433, -2.1433, 0.21829, -6.125, -9.625, -3.91, -3.91]\n",
    "obs = [qml.Identity(0),qml.PauliX(0) @ qml.PauliX(1), qml.PauliY(0) @ qml.PauliY(1),qml.PauliZ(0),qml.PauliZ(1),qml.PauliZ(2),qml.PauliX(1) @ qml.PauliX(2),qml.PauliY(1) @ qml.PauliY(2)]\n",
    "\n",
    "H = qml.Hamiltonian(coeffs, obs)\n",
    "cost_fn = qml.ExpvalCost(circuit, H, dev)\n",
    "\n",
    "# Let's print it out\n",
    "\n",
    "print(H)\n"
   ]
  },
  {
   "cell_type": "markdown",
   "metadata": {},
   "source": [
    "Amazing! That's an even better looking Hamiltonian!\n",
    "\n",
    "Now we'll set up what we'll need for the VQE procedure; namely some initial parameters and convergence info. You can select the initial guess randomly, but in this case we'll set it manually for repeatability.\n",
    "\n",
    "In this case, we also need an additional parameter as mentioned when we set up our circuit."
   ]
  },
  {
   "cell_type": "code",
   "execution_count": 3,
   "metadata": {},
   "outputs": [],
   "source": [
    "# Our parameter array, only one lonely element in this case :c\n",
    "\n",
    "init_params = np.array([2.5,4.5])\n",
    "\n",
    "# Convergence information and step size\n",
    "\n",
    "max_iterations = 500\n",
    "conv_tol = 1e-06\n",
    "step_size = 0.01"
   ]
  },
  {
   "cell_type": "markdown",
   "metadata": {},
   "source": [
    "Finally, the VQE block. We're still using the standard gradient descent optimizer since it worked so well before, but soon the time will come to shop around for better options."
   ]
  },
  {
   "cell_type": "code",
   "execution_count": 4,
   "metadata": {},
   "outputs": [
    {
     "name": "stdout",
     "output_type": "stream",
     "text": [
      "Iteration = 0,  Energy = 22.73185830 MeV,  Convergence parameter = 0.16533643 MeV\n",
      "Iteration = 20,  Energy = 13.86733622 MeV,  Convergence parameter = 0.85950160 MeV\n",
      "Iteration = 40,  Energy = 0.66226895 MeV,  Convergence parameter = 0.41277410 MeV\n",
      "Iteration = 60,  Energy = -1.94958676 MeV,  Convergence parameter = 0.01827050 MeV\n",
      "Iteration = 80,  Energy = -2.04226133 MeV,  Convergence parameter = 0.00054725 MeV\n",
      "Iteration = 100,  Energy = -2.04502496 MeV,  Convergence parameter = 0.00001629 MeV\n",
      "\n",
      "Final value of the energy = -2.04510468 MeV\n",
      "Number of iterations =  116\n"
     ]
    }
   ],
   "source": [
    "opt = qml.GradientDescentOptimizer(stepsize=step_size)\n",
    "\n",
    "params = init_params\n",
    "\n",
    "gd_param_history = [params]\n",
    "gd_cost_history = []\n",
    "\n",
    "for n in range(max_iterations):\n",
    "\n",
    "    # Take a step in parameter space and record your energy\n",
    "    params, prev_energy = opt.step_and_cost(cost_fn, params)\n",
    "\n",
    "    # This keeps track of our energy for plotting at comparisons\n",
    "    gd_param_history.append(params)\n",
    "    gd_cost_history.append(prev_energy)\n",
    "\n",
    "    # Here we see what the energy of our system is with the new parameters\n",
    "    energy = cost_fn(params)\n",
    "\n",
    "    # Calculate difference between new and old energies\n",
    "    conv = np.abs(energy - prev_energy)\n",
    "\n",
    "    if n % 20 == 0:\n",
    "        print(\n",
    "            \"Iteration = {:},  Energy = {:.8f} MeV,  Convergence parameter = {\"\n",
    "            \":.8f} MeV\".format(n, energy, conv)\n",
    "        )\n",
    "\n",
    "    if conv <= conv_tol:\n",
    "        break\n",
    "\n",
    "print()\n",
    "print(\"Final value of the energy = {:.8f} MeV\".format(energy))\n",
    "print(\"Number of iterations = \", n)"
   ]
  },
  {
   "cell_type": "markdown",
   "metadata": {},
   "source": [
    "As expected, we get closer to the true value with our expanded basis, though we're not all the way there. We still match our reference value very well, meaning we're on the right track for building out our robust nuclear VQE framework, so good job team!\n",
    "\n",
    "Let's plot the convergence next and see if going to 2-D hurt us any."
   ]
  },
  {
   "cell_type": "code",
   "execution_count": 5,
   "metadata": {},
   "outputs": [
    {
     "data": {
      "image/png": "[encoded data removed]",
      "text/plain": [
       "<Figure size 576x396 with 1 Axes>"
      ]
     },
     "metadata": {},
     "output_type": "display_data"
    }
   ],
   "source": [
    "plt.style.use(\"seaborn\")\n",
    "plt.plot(gd_cost_history, \"b\", label=\"Gradient descent\")\n",
    "\n",
    "plt.ylabel(\"Energy (MeV)\")\n",
    "plt.xlabel(\"Optimization steps\")\n",
    "plt.legend()\n",
    "plt.show()"
   ]
  },
  {
   "cell_type": "markdown",
   "metadata": {},
   "source": [
    "Finally, we can plot how we trace the potential energy surface (PES) as we find a solution. Now that we've moved up a dimension, we'll be plotting an actual surface instead of a line, so be sure to take note of the features of the surface in parameter space.\n",
    "\n",
    "If you're running this yourself, you can either generate the surface yourself or put this code in a cell to download it locally:\n",
    "\n",
    "`!wget github.com/kylegodbey/nuclear-quantum-computing/...`"
   ]
  },
  {
   "cell_type": "code",
   "execution_count": 6,
   "metadata": {},
   "outputs": [
    {
     "data": {
      "image/png": "[encoded data removed]",
      "text/plain": [
       "<Figure size 432x432 with 1 Axes>"
      ]
     },
     "metadata": {},
     "output_type": "display_data"
    }
   ],
   "source": [
    "# Discretize the parameter space\n",
    "theta0 = np.linspace(0.0, 2.0 * np.pi, 100)\n",
    "theta1 = np.linspace(0.0, 2.0 * np.pi, 100)\n",
    "\n",
    "# Load energy value at each point in parameter space\n",
    "pes = np.load(\"deut_pes_n3.npy\")\n",
    "\n",
    "# Get the minimum of the PES\n",
    "minloc=np.unravel_index(pes.argmin(),pes.shape)\n",
    "\n",
    "# Plot energy landscape\n",
    "fig, axes = plt.subplots(figsize=(6, 6))\n",
    "\n",
    "cmap = plt.cm.get_cmap(\"coolwarm\")\n",
    "contour_plot = plt.contourf(theta0, theta1, pes.T, cmap=cmap)\n",
    "\n",
    "plt.xlabel(r\"$\\theta_0$\")\n",
    "plt.ylabel(r\"$\\theta_1$\")\n",
    "\n",
    "plt.plot(theta0[minloc[0]],theta1[minloc[1]],\"r*\",markersize=20,label=\"Minimum\")\n",
    "\n",
    "# Plot optimization path for gradient descent. Plot every 10th point.\n",
    "gd_color = \"g\"\n",
    "\n",
    "plt.plot(\n",
    "    np.array(gd_param_history)[::10, 0],\n",
    "    np.array(gd_param_history)[::10, 1],\n",
    "    \".\",markersize=12,\n",
    "    color=gd_color,\n",
    "    linewidth=2,\n",
    "    label=\"Gradient descent\",\n",
    ")\n",
    "plt.plot(\n",
    "    np.array(gd_param_history)[:, 0],\n",
    "    np.array(gd_param_history)[:, 1],\n",
    "    \"-\",\n",
    "    color=gd_color,\n",
    "    linewidth=1,\n",
    ")\n",
    "\n",
    "\n",
    "plt.legend()\n",
    "plt.show()"
   ]
  },
  {
   "cell_type": "markdown",
   "metadata": {},
   "source": [
    "This is all looking very nice, so now let's take it to the extreme! Next up we're going to programmatically generate our Hamiltonian and ansatz to an arbitrary, user-defined order. This means we'll probably take a big performance hit, but shooting for scalability is always a worthy endeavor."
   ]
  }
 ],
 "metadata": {
  "kernelspec": {
   "display_name": "Python 3.10.4 64-bit",
   "language": "python",
   "name": "python3"
  },
  "language_info": {
   "codemirror_mode": {
    "name": "ipython",
    "version": 3
   },
   "file_extension": ".py",
   "mimetype": "text/x-python",
   "name": "python",
   "nbconvert_exporter": "python",
   "pygments_lexer": "ipython3",
   "version": "3.10.4"
  },
  "orig_nbformat": 4,
  "vscode": {
   "interpreter": {
    "hash": "e7370f93d1d0cde622a1f8e1c04877d8463912d04d973331ad4851f04de6915a"
   }
  }
 },
 "nbformat": 4,
 "nbformat_minor": 2
}
