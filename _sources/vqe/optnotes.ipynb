{
 "cells": [
  {
   "cell_type": "markdown",
   "metadata": {},
   "source": [
    "# A General Case\n",
    "\n",
    "Author(s): Kyle Godbey\n",
    "\n",
    "Maintainer: Kyle Godbey\n",
    "\n",
    "To take this particular problem to its natural conclusion, we will be now devising a way to automatically generate our Hamiltonian and ansatz circuits based on what basis dimension we want to calculate.\n",
    "\n",
    "To do this in the most straightforward manner, I will first implement the Hamiltonian in second quantization before mapping it to a Pauli representation. To help out, I'll be importing some tools from qiskit as well as pennylane, proving that frameworks can indeed work together!"
   ]
  },
  {
   "cell_type": "code",
   "execution_count": 1,
   "metadata": {},
   "outputs": [],
   "source": [
    "%matplotlib inline\n",
    "\n",
    "import matplotlib.pyplot as plt\n",
    "from pennylane import numpy as np\n",
    "import pennylane as qml\n",
    "from qiskit_nature.operators.second_quantization import FermionicOp\n",
    "from qiskit_nature.mappers.second_quantization import JordanWignerMapper, ParityMapper\n",
    "import time\n",
    "from functools import partial\n",
    "import warnings\n",
    "warnings.filterwarnings('ignore')"
   ]
  },
  {
   "cell_type": "markdown",
   "metadata": {},
   "source": [
    "We'll also need some helper functions to parse Pauli strings and construct our pennylane Hamiltonian, so I'll just dump them here."
   ]
  },
  {
   "cell_type": "code",
   "execution_count": 12,
   "metadata": {},
   "outputs": [],
   "source": [
    "def pauli_token_to_operator(token):\n",
    "    qubit_terms = []\n",
    "\n",
    "    for term in range(len(token)):\n",
    "        # Special case of identity\n",
    "        if token[term] == \"I\":\n",
    "            pass\n",
    "        else:\n",
    "            #pauli, qubit_idx = term, term\n",
    "            if token[term] == \"X\":\n",
    "                qubit_terms.append(qml.PauliX(int(term)))\n",
    "            elif token[term] == \"Y\":\n",
    "                qubit_terms.append(qml.PauliY(int(term)))\n",
    "            elif token[term] == \"Z\":\n",
    "                qubit_terms.append(qml.PauliZ(int(term)))\n",
    "            else:\n",
    "                print(\"Invalid input.\")\n",
    "    if(qubit_terms==[]):\n",
    "            qubit_terms.append(qml.Identity(0))\n",
    "    full_term = qubit_terms[0]\n",
    "    for term in qubit_terms[1:]:\n",
    "        full_term = full_term @ term\n",
    "\n",
    "    return full_term\n",
    "\n",
    "\n",
    "def parse_hamiltonian_input(input_data):\n",
    "    # Get the input\n",
    "    coeffs = []\n",
    "    pauli_terms = []\n",
    "    chunks = input_data.split(\"\\n\")\n",
    "    # Go through line by line and build up the Hamiltonian\n",
    "    for line in chunks:\n",
    "        #line = line.strip()\n",
    "        tokens = line.split(\" \")\n",
    "        # Parse coefficients\n",
    "        sign, value = tokens[0][0], tokens[1]\n",
    "\n",
    "        coeff = float(value)\n",
    "        if sign == \"-\":\n",
    "            coeff *= -1\n",
    "        coeffs.append(coeff)\n",
    "\n",
    "        # Parse Pauli component\n",
    "        pauli = tokens[3]\n",
    "        \n",
    "        pauli_terms.append(pauli_token_to_operator(pauli))\n",
    "\n",
    "    return qml.Hamiltonian(coeffs, pauli_terms)\n"
   ]
  },
  {
   "cell_type": "markdown",
   "metadata": {},
   "source": [
    "Something else that will be very important is a function to compute the matrix elements $\\langle n' | (\\hat{T} + \\hat{V}) | n \\rangle$ needed for our Hamiltonian."
   ]
  },
  {
   "cell_type": "code",
   "execution_count": 7,
   "metadata": {},
   "outputs": [],
   "source": [
    "def kron(i,j):\n",
    "    if(i==j):\n",
    "        return 1\n",
    "    else:\n",
    "        return 0\n",
    "\n",
    "def matrix_element(i,j):\n",
    "    \n",
    "    ele = 0.0\n",
    "    \n",
    "    ele = ((2.0*i + 1.5)*kron(i,j) - np.sqrt(i*(i+0.5))*kron(i,j+1) \\\n",
    "    - np.sqrt((i+1)*(i+1.5))*kron(i,j-1)) * 3.5\n",
    "    \n",
    "    ele += -5.68658111 * kron(i,0) * kron(i,j)\n",
    "    \n",
    "    \n",
    "    return ele"
   ]
  },
  {
   "cell_type": "markdown",
   "metadata": {},
   "source": [
    "Lastly, we'll make a function that returns a pennylane compatible Hamiltonian given a requested basis dimension, N."
   ]
  },
  {
   "cell_type": "code",
   "execution_count": 8,
   "metadata": {},
   "outputs": [],
   "source": [
    "def deuteron_ham(N,mapper=JordanWignerMapper):\n",
    "    # Start out by zeroing what will be our fermionic operator\n",
    "    op = 0\n",
    "    for i in range(N):\n",
    "        for j in range(N):\n",
    "            # Construct the terms of the Hamiltonian in terms of creation/annihilation operators \n",
    "            op += matrix_element(i,j) * \\\n",
    "            FermionicOp([([(\"+\", i),(\"-\", j)], 1.0)])\n",
    "\n",
    "    hamstr = \"+ \"+str(mapper().map(second_q_op=op))\n",
    "\n",
    "    hamiltonian = parse_hamiltonian_input(hamstr)\n",
    "\n",
    "    return hamiltonian \n"
   ]
  },
  {
   "cell_type": "markdown",
   "metadata": {},
   "source": [
    "Let's take a look at our new Hamiltonian generator in the next code block. We'll start by setting the basis dimension to 3 so we can compare our two Hamiltonians: handcrafted and computer generated."
   ]
  },
  {
   "cell_type": "code",
   "execution_count": 13,
   "metadata": {},
   "outputs": [
    {
     "name": "stdout",
     "output_type": "stream",
     "text": [
      "Original Hamiltonian: \n",
      "   (-9.625) [Z2]\n",
      "+ (-6.125) [Z1]\n",
      "+ (0.21829) [Z0]\n",
      "+ (15.531709) [I0]\n",
      "+ (-3.91) [X1 X2]\n",
      "+ (-3.91) [Y1 Y2]\n",
      "+ (-2.1433) [X0 X1]\n",
      "+ (-2.1433) [Y0 Y1]\n",
      "Generated Hamiltonian: \n",
      "   (-9.625) [Z0]\n",
      "+ (-6.125) [Z1]\n",
      "+ (0.21829055499999983) [Z2]\n",
      "+ (15.531709445) [I0]\n",
      "+ (-3.913118960624632) [Y0 Y1]\n",
      "+ (-3.913118960624632) [X0 X1]\n",
      "+ (-2.1433035249352805) [Y1 Y2]\n",
      "+ (-2.1433035249352805) [X1 X2]\n"
     ]
    }
   ],
   "source": [
    "dim = 3\n",
    "\n",
    "# Building our Hamiltonian for the N=3 case, as before\n",
    "\n",
    "coeffs = [15.531709 ,-2.1433, -2.1433, 0.21829, -6.125, -9.625, -3.91, -3.91]\n",
    "obs = [qml.Identity(0),qml.PauliX(0) @ qml.PauliX(1), qml.PauliY(0) @ qml.PauliY(1),qml.PauliZ(0),qml.PauliZ(1),qml.PauliZ(2),qml.PauliX(1) @ qml.PauliX(2),qml.PauliY(1) @ qml.PauliY(2)]\n",
    "\n",
    "ham = qml.Hamiltonian(coeffs, obs)\n",
    "\n",
    "# Let's print it out\n",
    "\n",
    "print(\"Original Hamiltonian: \\n\",ham)\n",
    "\n",
    "# Let's now use our new function!\n",
    "\n",
    "H = deuteron_ham(dim)\n",
    "\n",
    "print(\"Generated Hamiltonian: \\n\",H)"
   ]
  },
  {
   "cell_type": "markdown",
   "metadata": {},
   "source": [
    "We still need to define our device and circuit, so we'll let them be general as well."
   ]
  },
  {
   "cell_type": "code",
   "execution_count": 54,
   "metadata": {},
   "outputs": [],
   "source": [
    "# Set the order you'd like to go to\n",
    "\n",
    "dim = 5\n",
    "\n",
    "dev = qml.device(\"default.qubit\", wires=dim)\n",
    "\n",
    "# Define a general ansatz for arbitrary numbers of dimensions\n",
    "# If the device you are running on doesn't support the arbitrary\n",
    "# Rot gate, pennylane will attempt to decompose it\n",
    "\n",
    "def circuit(params,wires=range(dim)):\n",
    "    n_qubits = len(wires)\n",
    "    n_rotations = len(params)\n",
    "    if n_rotations > 1:\n",
    "        n_layers = n_rotations // n_qubits\n",
    "        n_extra_rots = n_rotations - n_layers * n_qubits\n",
    "\n",
    "        # Alternating layers of unitary rotations on every qubit followed by a\n",
    "        # ring cascade of CNOTs.\n",
    "        for layer_idx in range(n_layers):\n",
    "            layer_params = params[layer_idx * n_qubits : layer_idx * n_qubits + n_qubits, :]\n",
    "            qml.broadcast(qml.Rot, wires, pattern=\"single\", parameters=layer_params)\n",
    "            qml.broadcast(qml.CNOT, wires, pattern=\"ring\")\n",
    "\n",
    "        # There may be \"extra\" parameter sets required for which it's not necessarily\n",
    "        # to perform another full alternating cycle. Apply these to the qubits as needed.\n",
    "        extra_params = params[-n_extra_rots:, :]\n",
    "        extra_wires = wires[: n_qubits - 1 - n_extra_rots : -1]\n",
    "        qml.broadcast(qml.Rot, extra_wires, pattern=\"single\", parameters=extra_params)\n",
    "    else:\n",
    "        # For 1-qubit case, just a single rotation to the qubit\n",
    "        qml.Rot(*params[0], wires=wires[0])\n",
    "\n",
    "    return qml.expval(qml.SparseHamiltonian(H_sparse, wires=range(dim)))\n",
    "\n",
    "def circuit_he(params,wires):\n",
    "    n_qubits = len(wires)\n",
    "    n_rotations = len(params)\n",
    "    for i in range(n_qubits):\n",
    "        qml.RY(params[i],wires=i)\n",
    "    for i in range(n_qubits-1):\n",
    "        qml.CNOT(wires=[i,i+1])\n",
    "    for i in range(n_qubits):\n",
    "        qml.RY(params[i+n_qubits], wires=i)\n",
    "\n",
    "@qml.compile()\n",
    "def arbsatz(params,wires):\n",
    "    qml.ArbitraryStatePreparation(params, wires=wires)\n",
    "\n",
    "particles = 1\n",
    "\n",
    "ref_state = qml.qchem.hf_state(particles, dim)\n",
    "\n",
    "singles, doubles = qml.qchem.excitations(particles, dim)\n",
    "\n",
    "s_wires, d_wires = qml.qchem.excitations_to_wires(singles, doubles)\n",
    "\n",
    "ansatz = partial(qml.UCCSD, init_state=ref_state, s_wires=s_wires, d_wires=d_wires)\n",
    "#ansatz = partial(qml.templates.AllSinglesDoubles, hf_state=ref_state, singles=singles, doubles=doubles)\n",
    "#ansatz = partial(qml.ParticleConservingU2, init_state=ref_state)\n",
    "\n",
    "layers = dim - 2\n",
    "\n",
    "\n",
    "# Defining Hamiltonian\n",
    "\n",
    "H = deuteron_ham(dim)\n",
    "\n",
    "cost_fn = qml.ExpvalCost(arbsatz, H, dev)\n"
   ]
  },
  {
   "cell_type": "markdown",
   "metadata": {},
   "source": [
    "Amazing! That's an even better looking Hamiltonian!\n",
    "\n",
    "Now we'll set up what we'll need for the VQE procedure, this time doing a loop over how many parameters we'll need."
   ]
  },
  {
   "cell_type": "code",
   "execution_count": 52,
   "metadata": {},
   "outputs": [],
   "source": [
    "# Our parameter array, only one lonely element in this case :c\n",
    "\n",
    "#init_params = np.array([2.5,4.5])\n",
    "num_param_sets = (2 ** dim) - 1\n",
    "init_params = np.random.uniform(low=-np.pi / 2, high=np.pi / 2, size=(num_param_sets, 3))\n",
    "init_params = np.random.uniform(low=-np.pi / 2, high=np.pi / 2, size=qml.ArbitraryStatePreparation.shape(n_wires=dim))\n",
    "#init_params = np.random.uniform(low=-np.pi / 2, high=np.pi / 2, size=qml.ParticleConservingU2.shape(n_layers=layers, n_wires=dim))\n",
    "#init_params = np.random.normal(0, 2*np.pi, len(singles) + len(doubles))\n",
    "#init_params = np.random.normal(0, 2*np.pi, 2*dim)\n",
    "# Convergence information and step size\n",
    "#print(circuit(init_params))\n",
    "max_iterations = 500\n",
    "conv_tol = 1e-05\n",
    "step_size = 0.05"
   ]
  },
  {
   "cell_type": "markdown",
   "metadata": {},
   "source": [
    "Finally, the VQE block. We're still using the standard gradient descent optimizer since it worked so well before, but soon the time will come to shop around for better options. I have also added a variable step size just to speed things up slightly."
   ]
  },
  {
   "cell_type": "code",
   "execution_count": 55,
   "metadata": {},
   "outputs": [
    {
     "name": "stdout",
     "output_type": "stream",
     "text": [
      "It = 0,  Energy = 37.33958252 MeV,  Conv = 14.68963442 MeV, Time Elapsed = 5.592 s\n",
      "It = 10,  Energy = 6.57642790 MeV,  Conv = 0.58454635 MeV, Time Elapsed = 5.884 s\n",
      "It = 20,  Energy = 4.31208486 MeV,  Conv = 0.11928654 MeV, Time Elapsed = 4.976 s\n"
     ]
    },
    {
     "ename": "KeyboardInterrupt",
     "evalue": "",
     "output_type": "error",
     "traceback": [
      "\u001b[0;31m---------------------------------------------------------------------------\u001b[0m",
      "\u001b[0;31mKeyboardInterrupt\u001b[0m                         Traceback (most recent call last)",
      "\u001b[1;32m/home/kyle/code/quantum-computing-tutorial/nuclear-qc/vqe/general.ipynb Cell 16'\u001b[0m in \u001b[0;36m<cell line: 11>\u001b[0;34m()\u001b[0m\n\u001b[1;32m     <a href='vscode-notebook-cell:/home/kyle/code/quantum-computing-tutorial/nuclear-qc/vqe/general.ipynb#ch0000015?line=14'>15</a>\u001b[0m start \u001b[39m=\u001b[39m time\u001b[39m.\u001b[39mtime()\n\u001b[1;32m     <a href='vscode-notebook-cell:/home/kyle/code/quantum-computing-tutorial/nuclear-qc/vqe/general.ipynb#ch0000015?line=16'>17</a>\u001b[0m \u001b[39m# Take a step in parameter space and record your energy\u001b[39;00m\n\u001b[0;32m---> <a href='vscode-notebook-cell:/home/kyle/code/quantum-computing-tutorial/nuclear-qc/vqe/general.ipynb#ch0000015?line=17'>18</a>\u001b[0m params, prev_energy \u001b[39m=\u001b[39m opt\u001b[39m.\u001b[39;49mstep_and_cost(cost_fn, params)\n\u001b[1;32m     <a href='vscode-notebook-cell:/home/kyle/code/quantum-computing-tutorial/nuclear-qc/vqe/general.ipynb#ch0000015?line=19'>20</a>\u001b[0m \u001b[39m# This keeps track of our energy for plotting at comparisons\u001b[39;00m\n\u001b[1;32m     <a href='vscode-notebook-cell:/home/kyle/code/quantum-computing-tutorial/nuclear-qc/vqe/general.ipynb#ch0000015?line=20'>21</a>\u001b[0m gd_param_history\u001b[39m.\u001b[39mappend(params)\n",
      "File \u001b[0;32m~/.local/lib/python3.10/site-packages/pennylane/optimize/gradient_descent.py:59\u001b[0m, in \u001b[0;36mGradientDescentOptimizer.step_and_cost\u001b[0;34m(self, objective_fn, grad_fn, *args, **kwargs)\u001b[0m\n\u001b[1;32m     <a href='file:///home/kyle/.local/lib/python3.10/site-packages/pennylane/optimize/gradient_descent.py?line=38'>39</a>\u001b[0m \u001b[39mdef\u001b[39;00m \u001b[39mstep_and_cost\u001b[39m(\u001b[39mself\u001b[39m, objective_fn, \u001b[39m*\u001b[39margs, grad_fn\u001b[39m=\u001b[39m\u001b[39mNone\u001b[39;00m, \u001b[39m*\u001b[39m\u001b[39m*\u001b[39mkwargs):\n\u001b[1;32m     <a href='file:///home/kyle/.local/lib/python3.10/site-packages/pennylane/optimize/gradient_descent.py?line=39'>40</a>\u001b[0m     \u001b[39m\"\"\"Update trainable arguments with one step of the optimizer and return the corresponding\u001b[39;00m\n\u001b[1;32m     <a href='file:///home/kyle/.local/lib/python3.10/site-packages/pennylane/optimize/gradient_descent.py?line=40'>41</a>\u001b[0m \u001b[39m    objective function value prior to the step.\u001b[39;00m\n\u001b[1;32m     <a href='file:///home/kyle/.local/lib/python3.10/site-packages/pennylane/optimize/gradient_descent.py?line=41'>42</a>\u001b[0m \n\u001b[0;32m   (...)\u001b[0m\n\u001b[1;32m     <a href='file:///home/kyle/.local/lib/python3.10/site-packages/pennylane/optimize/gradient_descent.py?line=55'>56</a>\u001b[0m \u001b[39m        If single arg is provided, list [array] is replaced by array.\u001b[39;00m\n\u001b[1;32m     <a href='file:///home/kyle/.local/lib/python3.10/site-packages/pennylane/optimize/gradient_descent.py?line=56'>57</a>\u001b[0m \u001b[39m    \"\"\"\u001b[39;00m\n\u001b[0;32m---> <a href='file:///home/kyle/.local/lib/python3.10/site-packages/pennylane/optimize/gradient_descent.py?line=58'>59</a>\u001b[0m     g, forward \u001b[39m=\u001b[39m \u001b[39mself\u001b[39;49m\u001b[39m.\u001b[39;49mcompute_grad(objective_fn, args, kwargs, grad_fn\u001b[39m=\u001b[39;49mgrad_fn)\n\u001b[1;32m     <a href='file:///home/kyle/.local/lib/python3.10/site-packages/pennylane/optimize/gradient_descent.py?line=59'>60</a>\u001b[0m     new_args \u001b[39m=\u001b[39m \u001b[39mself\u001b[39m\u001b[39m.\u001b[39mapply_grad(g, args)\n\u001b[1;32m     <a href='file:///home/kyle/.local/lib/python3.10/site-packages/pennylane/optimize/gradient_descent.py?line=61'>62</a>\u001b[0m     \u001b[39mif\u001b[39;00m forward \u001b[39mis\u001b[39;00m \u001b[39mNone\u001b[39;00m:\n",
      "File \u001b[0;32m~/.local/lib/python3.10/site-packages/pennylane/optimize/gradient_descent.py:117\u001b[0m, in \u001b[0;36mGradientDescentOptimizer.compute_grad\u001b[0;34m(objective_fn, args, kwargs, grad_fn)\u001b[0m\n\u001b[1;32m     <a href='file:///home/kyle/.local/lib/python3.10/site-packages/pennylane/optimize/gradient_descent.py?line=98'>99</a>\u001b[0m \u001b[39mr\u001b[39m\u001b[39m\"\"\"Compute gradient of the objective function at the given point and return it along with\u001b[39;00m\n\u001b[1;32m    <a href='file:///home/kyle/.local/lib/python3.10/site-packages/pennylane/optimize/gradient_descent.py?line=99'>100</a>\u001b[0m \u001b[39mthe objective function forward pass (if available).\u001b[39;00m\n\u001b[1;32m    <a href='file:///home/kyle/.local/lib/python3.10/site-packages/pennylane/optimize/gradient_descent.py?line=100'>101</a>\u001b[0m \n\u001b[0;32m   (...)\u001b[0m\n\u001b[1;32m    <a href='file:///home/kyle/.local/lib/python3.10/site-packages/pennylane/optimize/gradient_descent.py?line=113'>114</a>\u001b[0m \u001b[39m    will not be evaluted and instead ``None`` will be returned.\u001b[39;00m\n\u001b[1;32m    <a href='file:///home/kyle/.local/lib/python3.10/site-packages/pennylane/optimize/gradient_descent.py?line=114'>115</a>\u001b[0m \u001b[39m\"\"\"\u001b[39;00m\n\u001b[1;32m    <a href='file:///home/kyle/.local/lib/python3.10/site-packages/pennylane/optimize/gradient_descent.py?line=115'>116</a>\u001b[0m g \u001b[39m=\u001b[39m get_gradient(objective_fn) \u001b[39mif\u001b[39;00m grad_fn \u001b[39mis\u001b[39;00m \u001b[39mNone\u001b[39;00m \u001b[39melse\u001b[39;00m grad_fn\n\u001b[0;32m--> <a href='file:///home/kyle/.local/lib/python3.10/site-packages/pennylane/optimize/gradient_descent.py?line=116'>117</a>\u001b[0m grad \u001b[39m=\u001b[39m g(\u001b[39m*\u001b[39;49margs, \u001b[39m*\u001b[39;49m\u001b[39m*\u001b[39;49mkwargs)\n\u001b[1;32m    <a href='file:///home/kyle/.local/lib/python3.10/site-packages/pennylane/optimize/gradient_descent.py?line=117'>118</a>\u001b[0m forward \u001b[39m=\u001b[39m \u001b[39mgetattr\u001b[39m(g, \u001b[39m\"\u001b[39m\u001b[39mforward\u001b[39m\u001b[39m\"\u001b[39m, \u001b[39mNone\u001b[39;00m)\n\u001b[1;32m    <a href='file:///home/kyle/.local/lib/python3.10/site-packages/pennylane/optimize/gradient_descent.py?line=119'>120</a>\u001b[0m num_trainable_args \u001b[39m=\u001b[39m \u001b[39msum\u001b[39m(\u001b[39mgetattr\u001b[39m(arg, \u001b[39m\"\u001b[39m\u001b[39mrequires_grad\u001b[39m\u001b[39m\"\u001b[39m, \u001b[39mFalse\u001b[39;00m) \u001b[39mfor\u001b[39;00m arg \u001b[39min\u001b[39;00m args)\n",
      "File \u001b[0;32m~/.local/lib/python3.10/site-packages/pennylane/_grad.py:115\u001b[0m, in \u001b[0;36mgrad.__call__\u001b[0;34m(self, *args, **kwargs)\u001b[0m\n\u001b[1;32m    <a href='file:///home/kyle/.local/lib/python3.10/site-packages/pennylane/_grad.py?line=111'>112</a>\u001b[0m     \u001b[39mself\u001b[39m\u001b[39m.\u001b[39m_forward \u001b[39m=\u001b[39m \u001b[39mself\u001b[39m\u001b[39m.\u001b[39m_fun(\u001b[39m*\u001b[39margs, \u001b[39m*\u001b[39m\u001b[39m*\u001b[39mkwargs)\n\u001b[1;32m    <a href='file:///home/kyle/.local/lib/python3.10/site-packages/pennylane/_grad.py?line=112'>113</a>\u001b[0m     \u001b[39mreturn\u001b[39;00m ()\n\u001b[0;32m--> <a href='file:///home/kyle/.local/lib/python3.10/site-packages/pennylane/_grad.py?line=114'>115</a>\u001b[0m grad_value, ans \u001b[39m=\u001b[39m grad_fn(\u001b[39m*\u001b[39;49margs, \u001b[39m*\u001b[39;49m\u001b[39m*\u001b[39;49mkwargs)\n\u001b[1;32m    <a href='file:///home/kyle/.local/lib/python3.10/site-packages/pennylane/_grad.py?line=115'>116</a>\u001b[0m \u001b[39mself\u001b[39m\u001b[39m.\u001b[39m_forward \u001b[39m=\u001b[39m ans\n\u001b[1;32m    <a href='file:///home/kyle/.local/lib/python3.10/site-packages/pennylane/_grad.py?line=117'>118</a>\u001b[0m \u001b[39mreturn\u001b[39;00m grad_value\n",
      "File \u001b[0;32m~/.local/lib/python3.10/site-packages/autograd/wrap_util.py:20\u001b[0m, in \u001b[0;36munary_to_nary.<locals>.nary_operator.<locals>.nary_f\u001b[0;34m(*args, **kwargs)\u001b[0m\n\u001b[1;32m     <a href='file:///home/kyle/.local/lib/python3.10/site-packages/autograd/wrap_util.py?line=17'>18</a>\u001b[0m \u001b[39melse\u001b[39;00m:\n\u001b[1;32m     <a href='file:///home/kyle/.local/lib/python3.10/site-packages/autograd/wrap_util.py?line=18'>19</a>\u001b[0m     x \u001b[39m=\u001b[39m \u001b[39mtuple\u001b[39m(args[i] \u001b[39mfor\u001b[39;00m i \u001b[39min\u001b[39;00m argnum)\n\u001b[0;32m---> <a href='file:///home/kyle/.local/lib/python3.10/site-packages/autograd/wrap_util.py?line=19'>20</a>\u001b[0m \u001b[39mreturn\u001b[39;00m unary_operator(unary_f, x, \u001b[39m*\u001b[39;49mnary_op_args, \u001b[39m*\u001b[39;49m\u001b[39m*\u001b[39;49mnary_op_kwargs)\n",
      "File \u001b[0;32m~/.local/lib/python3.10/site-packages/pennylane/_grad.py:133\u001b[0m, in \u001b[0;36mgrad._grad_with_forward\u001b[0;34m(fun, x)\u001b[0m\n\u001b[1;32m    <a href='file:///home/kyle/.local/lib/python3.10/site-packages/pennylane/_grad.py?line=126'>127</a>\u001b[0m \u001b[39m@staticmethod\u001b[39m\n\u001b[1;32m    <a href='file:///home/kyle/.local/lib/python3.10/site-packages/pennylane/_grad.py?line=127'>128</a>\u001b[0m \u001b[39m@unary_to_nary\u001b[39m\n\u001b[1;32m    <a href='file:///home/kyle/.local/lib/python3.10/site-packages/pennylane/_grad.py?line=128'>129</a>\u001b[0m \u001b[39mdef\u001b[39;00m \u001b[39m_grad_with_forward\u001b[39m(fun, x):\n\u001b[1;32m    <a href='file:///home/kyle/.local/lib/python3.10/site-packages/pennylane/_grad.py?line=129'>130</a>\u001b[0m     \u001b[39m\"\"\"This function is a replica of ``autograd.grad``, with the only\u001b[39;00m\n\u001b[1;32m    <a href='file:///home/kyle/.local/lib/python3.10/site-packages/pennylane/_grad.py?line=130'>131</a>\u001b[0m \u001b[39m    difference being that it returns both the gradient *and* the forward pass\u001b[39;00m\n\u001b[1;32m    <a href='file:///home/kyle/.local/lib/python3.10/site-packages/pennylane/_grad.py?line=131'>132</a>\u001b[0m \u001b[39m    value.\"\"\"\u001b[39;00m\n\u001b[0;32m--> <a href='file:///home/kyle/.local/lib/python3.10/site-packages/pennylane/_grad.py?line=132'>133</a>\u001b[0m     vjp, ans \u001b[39m=\u001b[39m _make_vjp(fun, x)\n\u001b[1;32m    <a href='file:///home/kyle/.local/lib/python3.10/site-packages/pennylane/_grad.py?line=134'>135</a>\u001b[0m     \u001b[39mif\u001b[39;00m \u001b[39mnot\u001b[39;00m vspace(ans)\u001b[39m.\u001b[39msize \u001b[39m==\u001b[39m \u001b[39m1\u001b[39m:\n\u001b[1;32m    <a href='file:///home/kyle/.local/lib/python3.10/site-packages/pennylane/_grad.py?line=135'>136</a>\u001b[0m         \u001b[39mraise\u001b[39;00m \u001b[39mTypeError\u001b[39;00m(\n\u001b[1;32m    <a href='file:///home/kyle/.local/lib/python3.10/site-packages/pennylane/_grad.py?line=136'>137</a>\u001b[0m             \u001b[39m\"\u001b[39m\u001b[39mGrad only applies to real scalar-output functions. \u001b[39m\u001b[39m\"\u001b[39m\n\u001b[1;32m    <a href='file:///home/kyle/.local/lib/python3.10/site-packages/pennylane/_grad.py?line=137'>138</a>\u001b[0m             \u001b[39m\"\u001b[39m\u001b[39mTry jacobian, elementwise_grad or holomorphic_grad.\u001b[39m\u001b[39m\"\u001b[39m\n\u001b[1;32m    <a href='file:///home/kyle/.local/lib/python3.10/site-packages/pennylane/_grad.py?line=138'>139</a>\u001b[0m         )\n",
      "File \u001b[0;32m~/.local/lib/python3.10/site-packages/autograd/core.py:10\u001b[0m, in \u001b[0;36mmake_vjp\u001b[0;34m(fun, x)\u001b[0m\n\u001b[1;32m      <a href='file:///home/kyle/.local/lib/python3.10/site-packages/autograd/core.py?line=7'>8</a>\u001b[0m \u001b[39mdef\u001b[39;00m \u001b[39mmake_vjp\u001b[39m(fun, x):\n\u001b[1;32m      <a href='file:///home/kyle/.local/lib/python3.10/site-packages/autograd/core.py?line=8'>9</a>\u001b[0m     start_node \u001b[39m=\u001b[39m VJPNode\u001b[39m.\u001b[39mnew_root()\n\u001b[0;32m---> <a href='file:///home/kyle/.local/lib/python3.10/site-packages/autograd/core.py?line=9'>10</a>\u001b[0m     end_value, end_node \u001b[39m=\u001b[39m  trace(start_node, fun, x)\n\u001b[1;32m     <a href='file:///home/kyle/.local/lib/python3.10/site-packages/autograd/core.py?line=10'>11</a>\u001b[0m     \u001b[39mif\u001b[39;00m end_node \u001b[39mis\u001b[39;00m \u001b[39mNone\u001b[39;00m:\n\u001b[1;32m     <a href='file:///home/kyle/.local/lib/python3.10/site-packages/autograd/core.py?line=11'>12</a>\u001b[0m         \u001b[39mdef\u001b[39;00m \u001b[39mvjp\u001b[39m(g): \u001b[39mreturn\u001b[39;00m vspace(x)\u001b[39m.\u001b[39mzeros()\n",
      "File \u001b[0;32m~/.local/lib/python3.10/site-packages/autograd/tracer.py:10\u001b[0m, in \u001b[0;36mtrace\u001b[0;34m(start_node, fun, x)\u001b[0m\n\u001b[1;32m      <a href='file:///home/kyle/.local/lib/python3.10/site-packages/autograd/tracer.py?line=7'>8</a>\u001b[0m \u001b[39mwith\u001b[39;00m trace_stack\u001b[39m.\u001b[39mnew_trace() \u001b[39mas\u001b[39;00m t:\n\u001b[1;32m      <a href='file:///home/kyle/.local/lib/python3.10/site-packages/autograd/tracer.py?line=8'>9</a>\u001b[0m     start_box \u001b[39m=\u001b[39m new_box(x, t, start_node)\n\u001b[0;32m---> <a href='file:///home/kyle/.local/lib/python3.10/site-packages/autograd/tracer.py?line=9'>10</a>\u001b[0m     end_box \u001b[39m=\u001b[39m fun(start_box)\n\u001b[1;32m     <a href='file:///home/kyle/.local/lib/python3.10/site-packages/autograd/tracer.py?line=10'>11</a>\u001b[0m     \u001b[39mif\u001b[39;00m isbox(end_box) \u001b[39mand\u001b[39;00m end_box\u001b[39m.\u001b[39m_trace \u001b[39m==\u001b[39m start_box\u001b[39m.\u001b[39m_trace:\n\u001b[1;32m     <a href='file:///home/kyle/.local/lib/python3.10/site-packages/autograd/tracer.py?line=11'>12</a>\u001b[0m         \u001b[39mreturn\u001b[39;00m end_box\u001b[39m.\u001b[39m_value, end_box\u001b[39m.\u001b[39m_node\n",
      "File \u001b[0;32m~/.local/lib/python3.10/site-packages/autograd/wrap_util.py:15\u001b[0m, in \u001b[0;36munary_to_nary.<locals>.nary_operator.<locals>.nary_f.<locals>.unary_f\u001b[0;34m(x)\u001b[0m\n\u001b[1;32m     <a href='file:///home/kyle/.local/lib/python3.10/site-packages/autograd/wrap_util.py?line=12'>13</a>\u001b[0m \u001b[39melse\u001b[39;00m:\n\u001b[1;32m     <a href='file:///home/kyle/.local/lib/python3.10/site-packages/autograd/wrap_util.py?line=13'>14</a>\u001b[0m     subargs \u001b[39m=\u001b[39m subvals(args, \u001b[39mzip\u001b[39m(argnum, x))\n\u001b[0;32m---> <a href='file:///home/kyle/.local/lib/python3.10/site-packages/autograd/wrap_util.py?line=14'>15</a>\u001b[0m \u001b[39mreturn\u001b[39;00m fun(\u001b[39m*\u001b[39;49msubargs, \u001b[39m*\u001b[39;49m\u001b[39m*\u001b[39;49mkwargs)\n",
      "File \u001b[0;32m~/.local/lib/python3.10/site-packages/pennylane/vqe/vqe.py:228\u001b[0m, in \u001b[0;36mExpvalCost.__call__\u001b[0;34m(self, *args, **kwargs)\u001b[0m\n\u001b[1;32m    <a href='file:///home/kyle/.local/lib/python3.10/site-packages/pennylane/vqe/vqe.py?line=226'>227</a>\u001b[0m \u001b[39mdef\u001b[39;00m \u001b[39m__call__\u001b[39m(\u001b[39mself\u001b[39m, \u001b[39m*\u001b[39margs, \u001b[39m*\u001b[39m\u001b[39m*\u001b[39mkwargs):\n\u001b[0;32m--> <a href='file:///home/kyle/.local/lib/python3.10/site-packages/pennylane/vqe/vqe.py?line=227'>228</a>\u001b[0m     \u001b[39mreturn\u001b[39;00m \u001b[39mself\u001b[39;49m\u001b[39m.\u001b[39;49mcost_fn(\u001b[39m*\u001b[39;49margs, \u001b[39m*\u001b[39;49m\u001b[39m*\u001b[39;49mkwargs)\n",
      "File \u001b[0;32m~/.local/lib/python3.10/site-packages/pennylane/collections/dot.py:143\u001b[0m, in \u001b[0;36mdot.<locals>.<lambda>\u001b[0;34m(params, **kwargs)\u001b[0m\n\u001b[1;32m    <a href='file:///home/kyle/.local/lib/python3.10/site-packages/pennylane/collections/dot.py?line=140'>141</a>\u001b[0m     interface \u001b[39m=\u001b[39m y\u001b[39m.\u001b[39minterface\n\u001b[1;32m    <a href='file:///home/kyle/.local/lib/python3.10/site-packages/pennylane/collections/dot.py?line=141'>142</a>\u001b[0m     fn, x \u001b[39m=\u001b[39m _get_dot_func(interface, x)\n\u001b[0;32m--> <a href='file:///home/kyle/.local/lib/python3.10/site-packages/pennylane/collections/dot.py?line=142'>143</a>\u001b[0m     func \u001b[39m=\u001b[39m \u001b[39mlambda\u001b[39;00m params, \u001b[39m*\u001b[39m\u001b[39m*\u001b[39mkwargs: fn(x, y(params, \u001b[39m*\u001b[39;49m\u001b[39m*\u001b[39;49mkwargs))\n\u001b[1;32m    <a href='file:///home/kyle/.local/lib/python3.10/site-packages/pennylane/collections/dot.py?line=144'>145</a>\u001b[0m \u001b[39melse\u001b[39;00m:\n\u001b[1;32m    <a href='file:///home/kyle/.local/lib/python3.10/site-packages/pennylane/collections/dot.py?line=145'>146</a>\u001b[0m     \u001b[39mraise\u001b[39;00m \u001b[39mValueError\u001b[39;00m(\u001b[39m\"\u001b[39m\u001b[39mAt least one argument must be a QNodeCollection\u001b[39m\u001b[39m\"\u001b[39m)\n",
      "File \u001b[0;32m~/.local/lib/python3.10/site-packages/pennylane/collections/qnode_collection.py:277\u001b[0m, in \u001b[0;36mQNodeCollection.__call__\u001b[0;34m(self, *args, **kwargs)\u001b[0m\n\u001b[1;32m    <a href='file:///home/kyle/.local/lib/python3.10/site-packages/pennylane/collections/qnode_collection.py?line=275'>276</a>\u001b[0m \u001b[39mdef\u001b[39;00m \u001b[39m__call__\u001b[39m(\u001b[39mself\u001b[39m, \u001b[39m*\u001b[39margs, \u001b[39m*\u001b[39m\u001b[39m*\u001b[39mkwargs):\n\u001b[0;32m--> <a href='file:///home/kyle/.local/lib/python3.10/site-packages/pennylane/collections/qnode_collection.py?line=276'>277</a>\u001b[0m     results \u001b[39m=\u001b[39m \u001b[39mself\u001b[39;49m\u001b[39m.\u001b[39;49mevaluate(args, kwargs)\n\u001b[1;32m    <a href='file:///home/kyle/.local/lib/python3.10/site-packages/pennylane/collections/qnode_collection.py?line=277'>278</a>\u001b[0m     \u001b[39mreturn\u001b[39;00m \u001b[39mself\u001b[39m\u001b[39m.\u001b[39mconvert_results(results, \u001b[39mself\u001b[39m\u001b[39m.\u001b[39minterface)\n",
      "File \u001b[0;32m~/.local/lib/python3.10/site-packages/pennylane/collections/qnode_collection.py:233\u001b[0m, in \u001b[0;36mQNodeCollection.evaluate\u001b[0;34m(self, args, kwargs)\u001b[0m\n\u001b[1;32m    <a href='file:///home/kyle/.local/lib/python3.10/site-packages/pennylane/collections/qnode_collection.py?line=229'>230</a>\u001b[0m     \u001b[39mreturn\u001b[39;00m dask\u001b[39m.\u001b[39mcompute(\u001b[39m*\u001b[39mresults, scheduler\u001b[39m=\u001b[39m_scheduler)\n\u001b[1;32m    <a href='file:///home/kyle/.local/lib/python3.10/site-packages/pennylane/collections/qnode_collection.py?line=231'>232</a>\u001b[0m \u001b[39mfor\u001b[39;00m q \u001b[39min\u001b[39;00m \u001b[39mself\u001b[39m\u001b[39m.\u001b[39mqnodes:\n\u001b[0;32m--> <a href='file:///home/kyle/.local/lib/python3.10/site-packages/pennylane/collections/qnode_collection.py?line=232'>233</a>\u001b[0m     results\u001b[39m.\u001b[39mappend(q(\u001b[39m*\u001b[39;49margs, \u001b[39m*\u001b[39;49m\u001b[39m*\u001b[39;49mkwargs))\n\u001b[1;32m    <a href='file:///home/kyle/.local/lib/python3.10/site-packages/pennylane/collections/qnode_collection.py?line=234'>235</a>\u001b[0m \u001b[39mreturn\u001b[39;00m results\n",
      "File \u001b[0;32m~/.local/lib/python3.10/site-packages/pennylane/qnode.py:619\u001b[0m, in \u001b[0;36mQNode.__call__\u001b[0;34m(self, *args, **kwargs)\u001b[0m\n\u001b[1;32m    <a href='file:///home/kyle/.local/lib/python3.10/site-packages/pennylane/qnode.py?line=611'>612</a>\u001b[0m using_custom_cache \u001b[39m=\u001b[39m (\n\u001b[1;32m    <a href='file:///home/kyle/.local/lib/python3.10/site-packages/pennylane/qnode.py?line=612'>613</a>\u001b[0m     \u001b[39mhasattr\u001b[39m(cache, \u001b[39m\"\u001b[39m\u001b[39m__getitem__\u001b[39m\u001b[39m\"\u001b[39m)\n\u001b[1;32m    <a href='file:///home/kyle/.local/lib/python3.10/site-packages/pennylane/qnode.py?line=613'>614</a>\u001b[0m     \u001b[39mand\u001b[39;00m \u001b[39mhasattr\u001b[39m(cache, \u001b[39m\"\u001b[39m\u001b[39m__setitem__\u001b[39m\u001b[39m\"\u001b[39m)\n\u001b[1;32m    <a href='file:///home/kyle/.local/lib/python3.10/site-packages/pennylane/qnode.py?line=614'>615</a>\u001b[0m     \u001b[39mand\u001b[39;00m \u001b[39mhasattr\u001b[39m(cache, \u001b[39m\"\u001b[39m\u001b[39m__delitem__\u001b[39m\u001b[39m\"\u001b[39m)\n\u001b[1;32m    <a href='file:///home/kyle/.local/lib/python3.10/site-packages/pennylane/qnode.py?line=615'>616</a>\u001b[0m )\n\u001b[1;32m    <a href='file:///home/kyle/.local/lib/python3.10/site-packages/pennylane/qnode.py?line=616'>617</a>\u001b[0m \u001b[39mself\u001b[39m\u001b[39m.\u001b[39m_tape_cached \u001b[39m=\u001b[39m using_custom_cache \u001b[39mand\u001b[39;00m \u001b[39mself\u001b[39m\u001b[39m.\u001b[39mtape\u001b[39m.\u001b[39mhash \u001b[39min\u001b[39;00m cache\n\u001b[0;32m--> <a href='file:///home/kyle/.local/lib/python3.10/site-packages/pennylane/qnode.py?line=618'>619</a>\u001b[0m res \u001b[39m=\u001b[39m qml\u001b[39m.\u001b[39;49mexecute(\n\u001b[1;32m    <a href='file:///home/kyle/.local/lib/python3.10/site-packages/pennylane/qnode.py?line=619'>620</a>\u001b[0m     [\u001b[39mself\u001b[39;49m\u001b[39m.\u001b[39;49mtape],\n\u001b[1;32m    <a href='file:///home/kyle/.local/lib/python3.10/site-packages/pennylane/qnode.py?line=620'>621</a>\u001b[0m     device\u001b[39m=\u001b[39;49m\u001b[39mself\u001b[39;49m\u001b[39m.\u001b[39;49mdevice,\n\u001b[1;32m    <a href='file:///home/kyle/.local/lib/python3.10/site-packages/pennylane/qnode.py?line=621'>622</a>\u001b[0m     gradient_fn\u001b[39m=\u001b[39;49m\u001b[39mself\u001b[39;49m\u001b[39m.\u001b[39;49mgradient_fn,\n\u001b[1;32m    <a href='file:///home/kyle/.local/lib/python3.10/site-packages/pennylane/qnode.py?line=622'>623</a>\u001b[0m     interface\u001b[39m=\u001b[39;49m\u001b[39mself\u001b[39;49m\u001b[39m.\u001b[39;49minterface,\n\u001b[1;32m    <a href='file:///home/kyle/.local/lib/python3.10/site-packages/pennylane/qnode.py?line=623'>624</a>\u001b[0m     gradient_kwargs\u001b[39m=\u001b[39;49m\u001b[39mself\u001b[39;49m\u001b[39m.\u001b[39;49mgradient_kwargs,\n\u001b[1;32m    <a href='file:///home/kyle/.local/lib/python3.10/site-packages/pennylane/qnode.py?line=624'>625</a>\u001b[0m     override_shots\u001b[39m=\u001b[39;49moverride_shots,\n\u001b[1;32m    <a href='file:///home/kyle/.local/lib/python3.10/site-packages/pennylane/qnode.py?line=625'>626</a>\u001b[0m     \u001b[39m*\u001b[39;49m\u001b[39m*\u001b[39;49m\u001b[39mself\u001b[39;49m\u001b[39m.\u001b[39;49mexecute_kwargs,\n\u001b[1;32m    <a href='file:///home/kyle/.local/lib/python3.10/site-packages/pennylane/qnode.py?line=626'>627</a>\u001b[0m )\n\u001b[1;32m    <a href='file:///home/kyle/.local/lib/python3.10/site-packages/pennylane/qnode.py?line=628'>629</a>\u001b[0m \u001b[39mif\u001b[39;00m autograd\u001b[39m.\u001b[39misinstance(res, (\u001b[39mtuple\u001b[39m, \u001b[39mlist\u001b[39m)) \u001b[39mand\u001b[39;00m \u001b[39mlen\u001b[39m(res) \u001b[39m==\u001b[39m \u001b[39m1\u001b[39m:\n\u001b[1;32m    <a href='file:///home/kyle/.local/lib/python3.10/site-packages/pennylane/qnode.py?line=629'>630</a>\u001b[0m     \u001b[39m# If a device batch transform was applied, we need to 'unpack'\u001b[39;00m\n\u001b[1;32m    <a href='file:///home/kyle/.local/lib/python3.10/site-packages/pennylane/qnode.py?line=630'>631</a>\u001b[0m     \u001b[39m# the returned tuple/list to a float.\u001b[39;00m\n\u001b[0;32m   (...)\u001b[0m\n\u001b[1;32m    <a href='file:///home/kyle/.local/lib/python3.10/site-packages/pennylane/qnode.py?line=637'>638</a>\u001b[0m     \u001b[39m# TODO: find a more explicit way of determining that a batch transform\u001b[39;00m\n\u001b[1;32m    <a href='file:///home/kyle/.local/lib/python3.10/site-packages/pennylane/qnode.py?line=638'>639</a>\u001b[0m     \u001b[39m# was applied.\u001b[39;00m\n\u001b[1;32m    <a href='file:///home/kyle/.local/lib/python3.10/site-packages/pennylane/qnode.py?line=640'>641</a>\u001b[0m     res \u001b[39m=\u001b[39m res[\u001b[39m0\u001b[39m]\n",
      "File \u001b[0;32m~/.local/lib/python3.10/site-packages/pennylane/interfaces/execution.py:344\u001b[0m, in \u001b[0;36mexecute\u001b[0;34m(tapes, device, gradient_fn, interface, mode, gradient_kwargs, cache, cachesize, max_diff, override_shots, expand_fn, max_expansion, device_batch_transform)\u001b[0m\n\u001b[1;32m    <a href='file:///home/kyle/.local/lib/python3.10/site-packages/pennylane/interfaces/execution.py?line=339'>340</a>\u001b[0m     \u001b[39mreturn\u001b[39;00m batch_fn(res)\n\u001b[1;32m    <a href='file:///home/kyle/.local/lib/python3.10/site-packages/pennylane/interfaces/execution.py?line=341'>342</a>\u001b[0m \u001b[39mif\u001b[39;00m gradient_fn \u001b[39m==\u001b[39m \u001b[39m\"\u001b[39m\u001b[39mbackprop\u001b[39m\u001b[39m\"\u001b[39m \u001b[39mor\u001b[39;00m interface \u001b[39mis\u001b[39;00m \u001b[39mNone\u001b[39;00m:\n\u001b[1;32m    <a href='file:///home/kyle/.local/lib/python3.10/site-packages/pennylane/interfaces/execution.py?line=342'>343</a>\u001b[0m     \u001b[39mreturn\u001b[39;00m batch_fn(\n\u001b[0;32m--> <a href='file:///home/kyle/.local/lib/python3.10/site-packages/pennylane/interfaces/execution.py?line=343'>344</a>\u001b[0m         qml\u001b[39m.\u001b[39;49minterfaces\u001b[39m.\u001b[39;49mcache_execute(\n\u001b[1;32m    <a href='file:///home/kyle/.local/lib/python3.10/site-packages/pennylane/interfaces/execution.py?line=344'>345</a>\u001b[0m             batch_execute, cache, return_tuple\u001b[39m=\u001b[39;49m\u001b[39mFalse\u001b[39;49;00m, expand_fn\u001b[39m=\u001b[39;49mexpand_fn\n\u001b[1;32m    <a href='file:///home/kyle/.local/lib/python3.10/site-packages/pennylane/interfaces/execution.py?line=345'>346</a>\u001b[0m         )(tapes)\n\u001b[1;32m    <a href='file:///home/kyle/.local/lib/python3.10/site-packages/pennylane/interfaces/execution.py?line=346'>347</a>\u001b[0m     )\n\u001b[1;32m    <a href='file:///home/kyle/.local/lib/python3.10/site-packages/pennylane/interfaces/execution.py?line=348'>349</a>\u001b[0m \u001b[39m# the default execution function is batch_execute\u001b[39;00m\n\u001b[1;32m    <a href='file:///home/kyle/.local/lib/python3.10/site-packages/pennylane/interfaces/execution.py?line=349'>350</a>\u001b[0m execute_fn \u001b[39m=\u001b[39m qml\u001b[39m.\u001b[39minterfaces\u001b[39m.\u001b[39mcache_execute(batch_execute, cache, expand_fn\u001b[39m=\u001b[39mexpand_fn)\n",
      "File \u001b[0;32m~/.local/lib/python3.10/site-packages/pennylane/interfaces/execution.py:172\u001b[0m, in \u001b[0;36mcache_execute.<locals>.wrapper\u001b[0;34m(tapes, **kwargs)\u001b[0m\n\u001b[1;32m    <a href='file:///home/kyle/.local/lib/python3.10/site-packages/pennylane/interfaces/execution.py?line=167'>168</a>\u001b[0m         \u001b[39mreturn\u001b[39;00m (res, []) \u001b[39mif\u001b[39;00m return_tuple \u001b[39melse\u001b[39;00m res\n\u001b[1;32m    <a href='file:///home/kyle/.local/lib/python3.10/site-packages/pennylane/interfaces/execution.py?line=169'>170</a>\u001b[0m \u001b[39melse\u001b[39;00m:\n\u001b[1;32m    <a href='file:///home/kyle/.local/lib/python3.10/site-packages/pennylane/interfaces/execution.py?line=170'>171</a>\u001b[0m     \u001b[39m# execute all unique tapes that do not exist in the cache\u001b[39;00m\n\u001b[0;32m--> <a href='file:///home/kyle/.local/lib/python3.10/site-packages/pennylane/interfaces/execution.py?line=171'>172</a>\u001b[0m     res \u001b[39m=\u001b[39m fn(execution_tapes\u001b[39m.\u001b[39;49mvalues(), \u001b[39m*\u001b[39;49m\u001b[39m*\u001b[39;49mkwargs)\n\u001b[1;32m    <a href='file:///home/kyle/.local/lib/python3.10/site-packages/pennylane/interfaces/execution.py?line=173'>174</a>\u001b[0m final_res \u001b[39m=\u001b[39m []\n\u001b[1;32m    <a href='file:///home/kyle/.local/lib/python3.10/site-packages/pennylane/interfaces/execution.py?line=175'>176</a>\u001b[0m \u001b[39mfor\u001b[39;00m i, tape \u001b[39min\u001b[39;00m \u001b[39menumerate\u001b[39m(tapes):\n",
      "File \u001b[0;32m~/.local/lib/python3.10/site-packages/pennylane/interfaces/execution.py:97\u001b[0m, in \u001b[0;36mcache_execute.<locals>.fn\u001b[0;34m(tapes, **kwargs)\u001b[0m\n\u001b[1;32m     <a href='file:///home/kyle/.local/lib/python3.10/site-packages/pennylane/interfaces/execution.py?line=94'>95</a>\u001b[0m \u001b[39mdef\u001b[39;00m \u001b[39mfn\u001b[39m(tapes, \u001b[39m*\u001b[39m\u001b[39m*\u001b[39mkwargs):  \u001b[39m# pylint: disable=function-redefined\u001b[39;00m\n\u001b[1;32m     <a href='file:///home/kyle/.local/lib/python3.10/site-packages/pennylane/interfaces/execution.py?line=95'>96</a>\u001b[0m     tapes \u001b[39m=\u001b[39m [expand_fn(tape) \u001b[39mfor\u001b[39;00m tape \u001b[39min\u001b[39;00m tapes]\n\u001b[0;32m---> <a href='file:///home/kyle/.local/lib/python3.10/site-packages/pennylane/interfaces/execution.py?line=96'>97</a>\u001b[0m     \u001b[39mreturn\u001b[39;00m original_fn(tapes, \u001b[39m*\u001b[39;49m\u001b[39m*\u001b[39;49mkwargs)\n",
      "File \u001b[0;32m/usr/lib/python3.10/contextlib.py:79\u001b[0m, in \u001b[0;36mContextDecorator.__call__.<locals>.inner\u001b[0;34m(*args, **kwds)\u001b[0m\n\u001b[1;32m     <a href='file:///usr/lib/python3.10/contextlib.py?line=75'>76</a>\u001b[0m \u001b[39m@wraps\u001b[39m(func)\n\u001b[1;32m     <a href='file:///usr/lib/python3.10/contextlib.py?line=76'>77</a>\u001b[0m \u001b[39mdef\u001b[39;00m \u001b[39minner\u001b[39m(\u001b[39m*\u001b[39margs, \u001b[39m*\u001b[39m\u001b[39m*\u001b[39mkwds):\n\u001b[1;32m     <a href='file:///usr/lib/python3.10/contextlib.py?line=77'>78</a>\u001b[0m     \u001b[39mwith\u001b[39;00m \u001b[39mself\u001b[39m\u001b[39m.\u001b[39m_recreate_cm():\n\u001b[0;32m---> <a href='file:///usr/lib/python3.10/contextlib.py?line=78'>79</a>\u001b[0m         \u001b[39mreturn\u001b[39;00m func(\u001b[39m*\u001b[39;49margs, \u001b[39m*\u001b[39;49m\u001b[39m*\u001b[39;49mkwds)\n",
      "File \u001b[0;32m~/.local/lib/python3.10/site-packages/pennylane/_qubit_device.py:355\u001b[0m, in \u001b[0;36mQubitDevice.batch_execute\u001b[0;34m(self, circuits)\u001b[0m\n\u001b[1;32m    <a href='file:///home/kyle/.local/lib/python3.10/site-packages/pennylane/_qubit_device.py?line=349'>350</a>\u001b[0m \u001b[39mfor\u001b[39;00m circuit \u001b[39min\u001b[39;00m circuits:\n\u001b[1;32m    <a href='file:///home/kyle/.local/lib/python3.10/site-packages/pennylane/_qubit_device.py?line=350'>351</a>\u001b[0m     \u001b[39m# we need to reset the device here, else it will\u001b[39;00m\n\u001b[1;32m    <a href='file:///home/kyle/.local/lib/python3.10/site-packages/pennylane/_qubit_device.py?line=351'>352</a>\u001b[0m     \u001b[39m# not start the next computation in the zero state\u001b[39;00m\n\u001b[1;32m    <a href='file:///home/kyle/.local/lib/python3.10/site-packages/pennylane/_qubit_device.py?line=352'>353</a>\u001b[0m     \u001b[39mself\u001b[39m\u001b[39m.\u001b[39mreset()\n\u001b[0;32m--> <a href='file:///home/kyle/.local/lib/python3.10/site-packages/pennylane/_qubit_device.py?line=354'>355</a>\u001b[0m     res \u001b[39m=\u001b[39m \u001b[39mself\u001b[39;49m\u001b[39m.\u001b[39;49mexecute(circuit)\n\u001b[1;32m    <a href='file:///home/kyle/.local/lib/python3.10/site-packages/pennylane/_qubit_device.py?line=355'>356</a>\u001b[0m     results\u001b[39m.\u001b[39mappend(res)\n\u001b[1;32m    <a href='file:///home/kyle/.local/lib/python3.10/site-packages/pennylane/_qubit_device.py?line=357'>358</a>\u001b[0m \u001b[39mif\u001b[39;00m \u001b[39mself\u001b[39m\u001b[39m.\u001b[39mtracker\u001b[39m.\u001b[39mactive:\n",
      "File \u001b[0;32m~/.local/lib/python3.10/site-packages/pennylane/_qubit_device.py:257\u001b[0m, in \u001b[0;36mQubitDevice.execute\u001b[0;34m(self, circuit, **kwargs)\u001b[0m\n\u001b[1;32m    <a href='file:///home/kyle/.local/lib/python3.10/site-packages/pennylane/_qubit_device.py?line=253'>254</a>\u001b[0m \u001b[39mself\u001b[39m\u001b[39m.\u001b[39mcheck_validity(circuit\u001b[39m.\u001b[39moperations, circuit\u001b[39m.\u001b[39mobservables)\n\u001b[1;32m    <a href='file:///home/kyle/.local/lib/python3.10/site-packages/pennylane/_qubit_device.py?line=255'>256</a>\u001b[0m \u001b[39m# apply all circuit operations\u001b[39;00m\n\u001b[0;32m--> <a href='file:///home/kyle/.local/lib/python3.10/site-packages/pennylane/_qubit_device.py?line=256'>257</a>\u001b[0m \u001b[39mself\u001b[39;49m\u001b[39m.\u001b[39;49mapply(circuit\u001b[39m.\u001b[39;49moperations, rotations\u001b[39m=\u001b[39;49mcircuit\u001b[39m.\u001b[39;49mdiagonalizing_gates, \u001b[39m*\u001b[39;49m\u001b[39m*\u001b[39;49mkwargs)\n\u001b[1;32m    <a href='file:///home/kyle/.local/lib/python3.10/site-packages/pennylane/_qubit_device.py?line=258'>259</a>\u001b[0m \u001b[39m# generate computational basis samples\u001b[39;00m\n\u001b[1;32m    <a href='file:///home/kyle/.local/lib/python3.10/site-packages/pennylane/_qubit_device.py?line=259'>260</a>\u001b[0m \u001b[39mif\u001b[39;00m \u001b[39mself\u001b[39m\u001b[39m.\u001b[39mshots \u001b[39mis\u001b[39;00m \u001b[39mnot\u001b[39;00m \u001b[39mNone\u001b[39;00m \u001b[39mor\u001b[39;00m circuit\u001b[39m.\u001b[39mis_sampled:\n",
      "File \u001b[0;32m~/.local/lib/python3.10/site-packages/pennylane/devices/default_qubit.py:231\u001b[0m, in \u001b[0;36mDefaultQubit.apply\u001b[0;34m(self, operations, rotations, **kwargs)\u001b[0m\n\u001b[1;32m    <a href='file:///home/kyle/.local/lib/python3.10/site-packages/pennylane/devices/default_qubit.py?line=228'>229</a>\u001b[0m                 \u001b[39mself\u001b[39m\u001b[39m.\u001b[39m_debugger\u001b[39m.\u001b[39msnapshots[\u001b[39mlen\u001b[39m(\u001b[39mself\u001b[39m\u001b[39m.\u001b[39m_debugger\u001b[39m.\u001b[39msnapshots)] \u001b[39m=\u001b[39m state_vector\n\u001b[1;32m    <a href='file:///home/kyle/.local/lib/python3.10/site-packages/pennylane/devices/default_qubit.py?line=229'>230</a>\u001b[0m     \u001b[39melse\u001b[39;00m:\n\u001b[0;32m--> <a href='file:///home/kyle/.local/lib/python3.10/site-packages/pennylane/devices/default_qubit.py?line=230'>231</a>\u001b[0m         \u001b[39mself\u001b[39m\u001b[39m.\u001b[39m_state \u001b[39m=\u001b[39m \u001b[39mself\u001b[39;49m\u001b[39m.\u001b[39;49m_apply_operation(\u001b[39mself\u001b[39;49m\u001b[39m.\u001b[39;49m_state, operation)\n\u001b[1;32m    <a href='file:///home/kyle/.local/lib/python3.10/site-packages/pennylane/devices/default_qubit.py?line=232'>233</a>\u001b[0m \u001b[39m# store the pre-rotated state\u001b[39;00m\n\u001b[1;32m    <a href='file:///home/kyle/.local/lib/python3.10/site-packages/pennylane/devices/default_qubit.py?line=233'>234</a>\u001b[0m \u001b[39mself\u001b[39m\u001b[39m.\u001b[39m_pre_rotated_state \u001b[39m=\u001b[39m \u001b[39mself\u001b[39m\u001b[39m.\u001b[39m_state\n",
      "File \u001b[0;32m~/.local/lib/python3.10/site-packages/pennylane/devices/default_qubit.py:264\u001b[0m, in \u001b[0;36mDefaultQubit._apply_operation\u001b[0;34m(self, state, operation)\u001b[0m\n\u001b[1;32m    <a href='file:///home/kyle/.local/lib/python3.10/site-packages/pennylane/devices/default_qubit.py?line=260'>261</a>\u001b[0m     \u001b[39mreturn\u001b[39;00m \u001b[39mself\u001b[39m\u001b[39m.\u001b[39m_apply_diagonal_unitary(state, matrix, wires)\n\u001b[1;32m    <a href='file:///home/kyle/.local/lib/python3.10/site-packages/pennylane/devices/default_qubit.py?line=261'>262</a>\u001b[0m \u001b[39mif\u001b[39;00m \u001b[39mlen\u001b[39m(wires) \u001b[39m<\u001b[39m\u001b[39m=\u001b[39m \u001b[39m2\u001b[39m:\n\u001b[1;32m    <a href='file:///home/kyle/.local/lib/python3.10/site-packages/pennylane/devices/default_qubit.py?line=262'>263</a>\u001b[0m     \u001b[39m# Einsum is faster for small gates\u001b[39;00m\n\u001b[0;32m--> <a href='file:///home/kyle/.local/lib/python3.10/site-packages/pennylane/devices/default_qubit.py?line=263'>264</a>\u001b[0m     \u001b[39mreturn\u001b[39;00m \u001b[39mself\u001b[39;49m\u001b[39m.\u001b[39;49m_apply_unitary_einsum(state, matrix, wires)\n\u001b[1;32m    <a href='file:///home/kyle/.local/lib/python3.10/site-packages/pennylane/devices/default_qubit.py?line=265'>266</a>\u001b[0m \u001b[39mreturn\u001b[39;00m \u001b[39mself\u001b[39m\u001b[39m.\u001b[39m_apply_unitary(state, matrix, wires)\n",
      "File \u001b[0;32m~/.local/lib/python3.10/site-packages/pennylane/devices/default_qubit.py:716\u001b[0m, in \u001b[0;36mDefaultQubit._apply_unitary_einsum\u001b[0;34m(self, state, mat, wires)\u001b[0m\n\u001b[1;32m    <a href='file:///home/kyle/.local/lib/python3.10/site-packages/pennylane/devices/default_qubit.py?line=712'>713</a>\u001b[0m \u001b[39m# translate to wire labels used by device\u001b[39;00m\n\u001b[1;32m    <a href='file:///home/kyle/.local/lib/python3.10/site-packages/pennylane/devices/default_qubit.py?line=713'>714</a>\u001b[0m device_wires \u001b[39m=\u001b[39m \u001b[39mself\u001b[39m\u001b[39m.\u001b[39mmap_wires(wires)\n\u001b[0;32m--> <a href='file:///home/kyle/.local/lib/python3.10/site-packages/pennylane/devices/default_qubit.py?line=715'>716</a>\u001b[0m mat \u001b[39m=\u001b[39m \u001b[39mself\u001b[39m\u001b[39m.\u001b[39m_cast(\u001b[39mself\u001b[39;49m\u001b[39m.\u001b[39;49m_reshape(mat, [\u001b[39m2\u001b[39;49m] \u001b[39m*\u001b[39;49m \u001b[39mlen\u001b[39;49m(device_wires) \u001b[39m*\u001b[39;49m \u001b[39m2\u001b[39;49m), dtype\u001b[39m=\u001b[39m\u001b[39mself\u001b[39m\u001b[39m.\u001b[39mC_DTYPE)\n\u001b[1;32m    <a href='file:///home/kyle/.local/lib/python3.10/site-packages/pennylane/devices/default_qubit.py?line=717'>718</a>\u001b[0m \u001b[39m# Tensor indices of the quantum state\u001b[39;00m\n\u001b[1;32m    <a href='file:///home/kyle/.local/lib/python3.10/site-packages/pennylane/devices/default_qubit.py?line=718'>719</a>\u001b[0m state_indices \u001b[39m=\u001b[39m ABC[: \u001b[39mself\u001b[39m\u001b[39m.\u001b[39mnum_wires]\n",
      "File \u001b[0;32m~/.local/lib/python3.10/site-packages/pennylane/numpy/wrapper.py:114\u001b[0m, in \u001b[0;36mtensor_wrapper.<locals>._wrapped\u001b[0;34m(*args, **kwargs)\u001b[0m\n\u001b[1;32m    <a href='file:///home/kyle/.local/lib/python3.10/site-packages/pennylane/numpy/wrapper.py?line=105'>106</a>\u001b[0m     tensor_args \u001b[39m=\u001b[39m \u001b[39mlist\u001b[39m(extract_tensors(args))\n\u001b[1;32m    <a href='file:///home/kyle/.local/lib/python3.10/site-packages/pennylane/numpy/wrapper.py?line=107'>108</a>\u001b[0m     \u001b[39mif\u001b[39;00m tensor_args:\n\u001b[1;32m    <a href='file:///home/kyle/.local/lib/python3.10/site-packages/pennylane/numpy/wrapper.py?line=108'>109</a>\u001b[0m         \u001b[39m# Unless the user specifies otherwise, if all tensors in the argument\u001b[39;00m\n\u001b[1;32m    <a href='file:///home/kyle/.local/lib/python3.10/site-packages/pennylane/numpy/wrapper.py?line=109'>110</a>\u001b[0m         \u001b[39m# list are non-trainable, the output is also non-trainable.\u001b[39;00m\n\u001b[1;32m    <a href='file:///home/kyle/.local/lib/python3.10/site-packages/pennylane/numpy/wrapper.py?line=110'>111</a>\u001b[0m         \u001b[39m# Equivalently: if any tensor is trainable, the output is also trainable.\u001b[39;00m\n\u001b[1;32m    <a href='file:///home/kyle/.local/lib/python3.10/site-packages/pennylane/numpy/wrapper.py?line=111'>112</a>\u001b[0m         \u001b[39m# NOTE: Use of Python's ``any`` results in an infinite recursion,\u001b[39;00m\n\u001b[1;32m    <a href='file:///home/kyle/.local/lib/python3.10/site-packages/pennylane/numpy/wrapper.py?line=112'>113</a>\u001b[0m         \u001b[39m# and I'm not sure why. Using ``np.any`` works fine.\u001b[39;00m\n\u001b[0;32m--> <a href='file:///home/kyle/.local/lib/python3.10/site-packages/pennylane/numpy/wrapper.py?line=113'>114</a>\u001b[0m         tensor_kwargs[\u001b[39m\"\u001b[39m\u001b[39mrequires_grad\u001b[39m\u001b[39m\"\u001b[39m] \u001b[39m=\u001b[39m _np\u001b[39m.\u001b[39;49many([i\u001b[39m.\u001b[39;49mrequires_grad \u001b[39mfor\u001b[39;49;00m i \u001b[39min\u001b[39;49;00m tensor_args])\n\u001b[1;32m    <a href='file:///home/kyle/.local/lib/python3.10/site-packages/pennylane/numpy/wrapper.py?line=115'>116</a>\u001b[0m \u001b[39m# evaluate the original object\u001b[39;00m\n\u001b[1;32m    <a href='file:///home/kyle/.local/lib/python3.10/site-packages/pennylane/numpy/wrapper.py?line=116'>117</a>\u001b[0m res \u001b[39m=\u001b[39m obj(\u001b[39m*\u001b[39margs, \u001b[39m*\u001b[39m\u001b[39m*\u001b[39mkwargs)\n",
      "File \u001b[0;32m~/.local/lib/python3.10/site-packages/autograd/tracer.py:48\u001b[0m, in \u001b[0;36mprimitive.<locals>.f_wrapped\u001b[0;34m(*args, **kwargs)\u001b[0m\n\u001b[1;32m     <a href='file:///home/kyle/.local/lib/python3.10/site-packages/autograd/tracer.py?line=45'>46</a>\u001b[0m     \u001b[39mreturn\u001b[39;00m new_box(ans, trace, node)\n\u001b[1;32m     <a href='file:///home/kyle/.local/lib/python3.10/site-packages/autograd/tracer.py?line=46'>47</a>\u001b[0m \u001b[39melse\u001b[39;00m:\n\u001b[0;32m---> <a href='file:///home/kyle/.local/lib/python3.10/site-packages/autograd/tracer.py?line=47'>48</a>\u001b[0m     \u001b[39mreturn\u001b[39;00m f_raw(\u001b[39m*\u001b[39;49margs, \u001b[39m*\u001b[39;49m\u001b[39m*\u001b[39;49mkwargs)\n",
      "File \u001b[0;32m<__array_function__ internals>:180\u001b[0m, in \u001b[0;36many\u001b[0;34m(*args, **kwargs)\u001b[0m\n",
      "File \u001b[0;32m~/.local/lib/python3.10/site-packages/numpy/core/fromnumeric.py:2305\u001b[0m, in \u001b[0;36many\u001b[0;34m(a, axis, out, keepdims, where)\u001b[0m\n\u001b[1;32m   <a href='file:///home/kyle/.local/lib/python3.10/site-packages/numpy/core/fromnumeric.py?line=2299'>2300</a>\u001b[0m \u001b[39mdef\u001b[39;00m \u001b[39m_any_dispatcher\u001b[39m(a, axis\u001b[39m=\u001b[39m\u001b[39mNone\u001b[39;00m, out\u001b[39m=\u001b[39m\u001b[39mNone\u001b[39;00m, keepdims\u001b[39m=\u001b[39m\u001b[39mNone\u001b[39;00m, \u001b[39m*\u001b[39m,\n\u001b[1;32m   <a href='file:///home/kyle/.local/lib/python3.10/site-packages/numpy/core/fromnumeric.py?line=2300'>2301</a>\u001b[0m                     where\u001b[39m=\u001b[39mnp\u001b[39m.\u001b[39m_NoValue):\n\u001b[1;32m   <a href='file:///home/kyle/.local/lib/python3.10/site-packages/numpy/core/fromnumeric.py?line=2301'>2302</a>\u001b[0m     \u001b[39mreturn\u001b[39;00m (a, where, out)\n\u001b[0;32m-> <a href='file:///home/kyle/.local/lib/python3.10/site-packages/numpy/core/fromnumeric.py?line=2304'>2305</a>\u001b[0m \u001b[39m@array_function_dispatch\u001b[39m(_any_dispatcher)\n\u001b[1;32m   <a href='file:///home/kyle/.local/lib/python3.10/site-packages/numpy/core/fromnumeric.py?line=2305'>2306</a>\u001b[0m \u001b[39mdef\u001b[39;00m \u001b[39many\u001b[39m(a, axis\u001b[39m=\u001b[39m\u001b[39mNone\u001b[39;00m, out\u001b[39m=\u001b[39m\u001b[39mNone\u001b[39;00m, keepdims\u001b[39m=\u001b[39mnp\u001b[39m.\u001b[39m_NoValue, \u001b[39m*\u001b[39m, where\u001b[39m=\u001b[39mnp\u001b[39m.\u001b[39m_NoValue):\n\u001b[1;32m   <a href='file:///home/kyle/.local/lib/python3.10/site-packages/numpy/core/fromnumeric.py?line=2306'>2307</a>\u001b[0m     \u001b[39m\"\"\"\u001b[39;00m\n\u001b[1;32m   <a href='file:///home/kyle/.local/lib/python3.10/site-packages/numpy/core/fromnumeric.py?line=2307'>2308</a>\u001b[0m \u001b[39m    Test whether any array element along a given axis evaluates to True.\u001b[39;00m\n\u001b[1;32m   <a href='file:///home/kyle/.local/lib/python3.10/site-packages/numpy/core/fromnumeric.py?line=2308'>2309</a>\u001b[0m \n\u001b[0;32m   (...)\u001b[0m\n\u001b[1;32m   <a href='file:///home/kyle/.local/lib/python3.10/site-packages/numpy/core/fromnumeric.py?line=2392'>2393</a>\u001b[0m \n\u001b[1;32m   <a href='file:///home/kyle/.local/lib/python3.10/site-packages/numpy/core/fromnumeric.py?line=2393'>2394</a>\u001b[0m \u001b[39m    \"\"\"\u001b[39;00m\n\u001b[1;32m   <a href='file:///home/kyle/.local/lib/python3.10/site-packages/numpy/core/fromnumeric.py?line=2394'>2395</a>\u001b[0m     \u001b[39mreturn\u001b[39;00m _wrapreduction(a, np\u001b[39m.\u001b[39mlogical_or, \u001b[39m'\u001b[39m\u001b[39many\u001b[39m\u001b[39m'\u001b[39m, axis, \u001b[39mNone\u001b[39;00m, out,\n\u001b[1;32m   <a href='file:///home/kyle/.local/lib/python3.10/site-packages/numpy/core/fromnumeric.py?line=2395'>2396</a>\u001b[0m                           keepdims\u001b[39m=\u001b[39mkeepdims, where\u001b[39m=\u001b[39mwhere)\n",
      "\u001b[0;31mKeyboardInterrupt\u001b[0m: "
     ]
    }
   ],
   "source": [
    "opt = qml.GradientDescentOptimizer(stepsize=step_size)\n",
    "\n",
    "params = init_params\n",
    "\n",
    "gd_param_history = [params]\n",
    "gd_cost_history = []\n",
    "\n",
    "accel = 0\n",
    "prev_conv = -1.0\n",
    "\n",
    "for n in range(max_iterations):\n",
    "    fac = (1.0)\n",
    "    opt = qml.GradientDescentOptimizer(stepsize=step_size)\n",
    "\n",
    "    start = time.time()\n",
    "\n",
    "    # Take a step in parameter space and record your energy\n",
    "    params, prev_energy = opt.step_and_cost(cost_fn, params)\n",
    "\n",
    "    # This keeps track of our energy for plotting at comparisons\n",
    "    gd_param_history.append(params)\n",
    "    gd_cost_history.append(prev_energy)\n",
    "\n",
    "    # Here we see what the energy of our system is with the new parameters\n",
    "    energy = cost_fn(params)\n",
    "\n",
    "    # Calculate difference between new and old energies\n",
    "    conv = np.abs(energy - prev_energy)\n",
    "\n",
    "    if(energy - prev_energy > 0.0 and step_size > 0.001):\n",
    "        #print(\"Lowering!\")\n",
    "        accel = 0\n",
    "        step_size = 0.5*step_size\n",
    "\n",
    "    if(conv < prev_conv): accel += 1\n",
    "    prev_conv = conv\n",
    "    \n",
    "    if(accel > 10 and step_size < 1.0):\n",
    "        #print(\"Accelerating!\")\n",
    "        step_size = 1.1*step_size\n",
    "    end = time.time()\n",
    "    if n % 10 == 0:\n",
    "        print(\n",
    "            \"It = {:},  Energy = {:.8f} MeV,  Conv = {\"\n",
    "            \":.8f} MeV, Time Elapsed = {:.3f} s\".format(n, energy, conv,end-start)\n",
    "        )\n",
    "\n",
    "    if conv <= conv_tol:\n",
    "        break\n",
    "\n",
    "print()\n",
    "print(\"Final value of the energy = {:.8f} MeV\".format(energy))\n",
    "print(\"Number of iterations = \", n)"
   ]
  },
  {
   "cell_type": "markdown",
   "metadata": {},
   "source": [
    "If you choose a bigger basis, you do a better job! This is to be expected, but notice that we've taken quite the performance hit by going to a more general representation. We'll explore how to do better at this in the optimization section, but for now let's check the convergence."
   ]
  },
  {
   "cell_type": "code",
   "execution_count": 20,
   "metadata": {},
   "outputs": [
    {
     "data": {
      "image/png": "[encoded data removed]",
      "text/plain": [
       "<Figure size 576x396 with 1 Axes>"
      ]
     },
     "metadata": {},
     "output_type": "display_data"
    }
   ],
   "source": [
    "plt.style.use(\"seaborn\")\n",
    "plt.plot(gd_cost_history, \"b\", label=\"Gradient descent\")\n",
    "\n",
    "plt.ylabel(\"Energy (MeV)\")\n",
    "plt.xlabel(\"Optimization steps\")\n",
    "plt.legend()\n",
    "plt.show()"
   ]
  },
  {
   "cell_type": "markdown",
   "metadata": {},
   "source": [
    "Since we are now allowed to move in higher dimensions, making a general PES plotter gets a little tricky, but feel free to play around and see if you can think of clever ways to plot how your solution explores the space!\n",
    "\n",
    "This pretty much concludes our exploration of quantum computing for the deuteron from the point of view of Hamiltonian and state preparation, but there's plenty of other things that can be tried to improve performance! One approach would involce optimizing the ansatz instead of using a generic form, which could be a fun challenge. We'll explore a few general options in the next section, but another approach is to speed up the VQE algorithm itself by being clever with how we iterate. All this and more in our next chapter!"
   ]
  }
 ],
 "metadata": {
  "interpreter": {
   "hash": "e7370f93d1d0cde622a1f8e1c04877d8463912d04d973331ad4851f04de6915a"
  },
  "kernelspec": {
   "display_name": "Python 3.10.4 64-bit",
   "language": "python",
   "name": "python3"
  },
  "language_info": {
   "codemirror_mode": {
    "name": "ipython",
    "version": 3
   },
   "file_extension": ".py",
   "mimetype": "text/x-python",
   "name": "python",
   "nbconvert_exporter": "python",
   "pygments_lexer": "ipython3",
   "version": "3.10.4"
  },
  "orig_nbformat": 4,
  "vscode": {
   "interpreter": {
    "hash": "e7370f93d1d0cde622a1f8e1c04877d8463912d04d973331ad4851f04de6915a"
   }
  }
 },
 "nbformat": 4,
 "nbformat_minor": 2
}
