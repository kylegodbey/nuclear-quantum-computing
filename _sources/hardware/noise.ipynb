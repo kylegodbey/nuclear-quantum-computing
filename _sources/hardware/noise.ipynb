{
 "cells": [
  {
   "cell_type": "markdown",
   "metadata": {},
   "source": [
    "# Noisy Circuits\n",
    "\n",
    "TODO: discuss adding noise to ciurcuits and show that it changes things? "
   ]
  }
 ],
 "metadata": {
  "language_info": {
   "name": "python"
  },
  "orig_nbformat": 4
 },
 "nbformat": 4,
 "nbformat_minor": 2
}
