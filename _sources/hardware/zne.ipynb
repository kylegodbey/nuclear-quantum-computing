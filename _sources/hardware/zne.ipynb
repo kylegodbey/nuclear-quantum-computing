{
 "cells": [
  {
   "cell_type": "markdown",
   "metadata": {},
   "source": [
    "# Zero-Noise Extrapolation: the N=2 case\n",
    "\n",
    "Authors: Kyle Godbey, Alexandra Semposki\n",
    "\n",
    "Maintainer: Alexandra Semposki\n",
    "\n",
    "Here we'll try developing some error mitigation for the $N=2$ deuteron case from the VQE chapter. Let's begin by importing <tt>pennylane</tt>, <tt>mitiq</tt>, and any other packages we may need, and copy over the code from the $N=2$ notebook for calculating the ground state energy."
   ]
  },
  {
   "cell_type": "code",
   "execution_count": 1,
   "metadata": {},
   "outputs": [],
   "source": [
    "%matplotlib inline\n",
    "\n",
    "import matplotlib.pyplot as plt\n",
    "from pennylane import numpy as np\n",
    "import pennylane as qml\n",
    "import warnings\n",
    "warnings.filterwarnings('ignore')\n",
    "\n",
    "import mitiq as mq\n",
    "from mitiq.zne.scaling import fold_global\n",
    "from mitiq.zne.inference import RichardsonFactory\n",
    "from pennylane.transforms import mitigate_with_zne\n",
    "from qiskit.providers.aer import AerSimulator\n",
    "import qiskit.providers.aer.noise as noise"
   ]
  },
  {
   "cell_type": "markdown",
   "metadata": {},
   "source": [
    "## VQE for N=2 (with noisy simulator)\n",
    "\n",
    "Here we'll pull from some of the VQE notebook to define the Hamiltonian and circuit again. If you would like to revisit the VQE process, go to [this page](https://kylegodbey.github.io/nuclear-quantum-computing/vqe/n2.html). \n",
    "\n",
    "Next, we define a simulator that has a noise model imbedded into it, so that we are simulating running on a real quantum device. Let's see how the convergence of the VQE routine goes."
   ]
  },
  {
   "cell_type": "code",
   "execution_count": 2,
   "metadata": {},
   "outputs": [
    {
     "name": "stdout",
     "output_type": "stream",
     "text": [
      "  (-6.125) [Z1]\n",
      "+ (0.218291) [Z0]\n",
      "+ (5.906709) [I0]\n",
      "+ (-2.143304) [X0 X1]\n",
      "+ (-2.143304) [Y0 Y1]\n"
     ]
    }
   ],
   "source": [
    "#define the Hamiltonian we're using again, for N=2\n",
    "coeffs = [5.906709, 0.218291, -6.125, -2.143304, -2.143304]\n",
    "obs = [qml.Identity(0), qml.PauliZ(0), qml.PauliZ(1), qml.PauliX(0) @ qml.PauliX(1), qml.PauliY(0) @ qml.PauliY(1)]\n",
    "\n",
    "H = qml.Hamiltonian(coeffs, obs)\n",
    "\n",
    "print(H)"
   ]
  },
  {
   "cell_type": "code",
   "execution_count": 3,
   "metadata": {},
   "outputs": [],
   "source": [
    "#define some noise model to use in pennylane from qiskit.test.mock\n",
    "from qiskit.test.mock import FakeLima\n",
    "from qiskit.providers.aer.noise import NoiseModel\n",
    "\n",
    "backend = FakeLima()\n",
    "noise_model = NoiseModel.from_backend(backend)\n",
    "\n",
    "#set up noisy device\n",
    "dev_sim = qml.device(\"qiskit.aer\", wires=2, noise_model=noise_model, optimization_level=0, shots=10000)\n",
    "\n",
    "#now we'll define the circuit we want to use with this Hamiltonian\n",
    "def circuit(params, wires):\n",
    "    t0 = params[0]\n",
    "    qml.PauliX(wires=0)\n",
    "    qml.RY(t0, wires=1)\n",
    "    qml.CNOT(wires=[1,0])\n",
    "   # return qml.expval(H)\n",
    "\n",
    "#define cost function\n",
    "cost_fn = qml.ExpvalCost(circuit, H, dev_sim)\n",
    "\n",
    "#set up the Qnode to run the above circuit on the simulator (is this necessary?)\n",
    "sim_qnode = qml.QNode(circuit, dev_sim)"
   ]
  },
  {
   "cell_type": "markdown",
   "metadata": {},
   "source": [
    "Now we define some initial parameter and convergence info, as before."
   ]
  },
  {
   "cell_type": "code",
   "execution_count": 4,
   "metadata": {},
   "outputs": [],
   "source": [
    "#parameter array\n",
    "init_params = np.array([2.5,])\n",
    "\n",
    "#convergence information and step size\n",
    "max_iterations = 120\n",
    "conv_tol = 1e-06\n",
    "step_size = 0.01"
   ]
  },
  {
   "cell_type": "markdown",
   "metadata": {},
   "source": [
    "Let's run VQE as in the VQE chapter. We should get a result that takes longer to converge due to the noise we have added into the device."
   ]
  },
  {
   "cell_type": "code",
   "execution_count": 5,
   "metadata": {},
   "outputs": [
    {
     "name": "stdout",
     "output_type": "stream",
     "text": [
      "Iteration = 0,  Energy = 7.91581311 MeV,  Convergence parameter = 0.43063906 MeV\n",
      "Iteration = 20,  Energy = -0.08565763 MeV,  Convergence parameter = 0.28591615 MeV\n",
      "Iteration = 40,  Energy = -1.28501083 MeV,  Convergence parameter = 0.02400316 MeV\n",
      "Iteration = 60,  Energy = -1.30151527 MeV,  Convergence parameter = 0.09387584 MeV\n",
      "Iteration = 80,  Energy = -1.36145504 MeV,  Convergence parameter = 0.03246856 MeV\n",
      "Iteration = 100,  Energy = -1.43787035 MeV,  Convergence parameter = 0.09574779 MeV\n",
      "\n",
      "Final value of the energy = -1.35099772 MeV\n",
      "Number of iterations =  119\n"
     ]
    }
   ],
   "source": [
    "#VQE step\n",
    "opt = qml.GradientDescentOptimizer(stepsize=step_size)\n",
    "\n",
    "params = init_params\n",
    "\n",
    "gd_param_history = [params]\n",
    "gd_cost_history = []\n",
    "\n",
    "for n in range(max_iterations):\n",
    "\n",
    "    # Take a step in parameter space and record your energy\n",
    "    params, prev_energy = opt.step_and_cost(cost_fn, params)\n",
    "\n",
    "    # This keeps track of our energy for plotting at comparisons\n",
    "    gd_param_history.append(params)\n",
    "    gd_cost_history.append(prev_energy)\n",
    "\n",
    "    # Here we see what the energy of our system is with the new parameters\n",
    "    energy = cost_fn(params)\n",
    "\n",
    "    # Calculate difference between new and old energies\n",
    "    conv = np.abs(energy - prev_energy)\n",
    "\n",
    "    if n % 20 == 0:\n",
    "        print(\n",
    "            \"Iteration = {:},  Energy = {:.8f} MeV,  Convergence parameter = {\"\n",
    "            \":.8f} MeV\".format(n, energy, conv)\n",
    "        )\n",
    "\n",
    "    if conv <= conv_tol:\n",
    "        break\n",
    "\n",
    "print()\n",
    "print(\"Final value of the energy = {:.8f} MeV\".format(energy))\n",
    "print(\"Number of iterations = \", n)"
   ]
  },
  {
   "cell_type": "code",
   "execution_count": 6,
   "metadata": {},
   "outputs": [
    {
     "data": {
      "image/png": "[encoded data removed]",
      "text/plain": [
       "<Figure size 576x396 with 1 Axes>"
      ]
     },
     "metadata": {},
     "output_type": "display_data"
    }
   ],
   "source": [
    "plt.style.use(\"seaborn\")\n",
    "plt.plot(gd_cost_history, \"b\", label=\"Gradient descent\")\n",
    "\n",
    "plt.ylabel(\"Energy (MeV)\")\n",
    "plt.xlabel(\"Optimization steps\")\n",
    "plt.legend()\n",
    "plt.show()"
   ]
  },
  {
   "cell_type": "markdown",
   "metadata": {},
   "source": [
    "The noise here is quite evident in the plot above from the VQE routine results. Let's see if we can implement ZNE to take care of this as we iterate! We'll copy the cells above into the ones below so we can keep the results from above with the noisy simulator for comparison to the results after ZNE is used."
   ]
  },
  {
   "cell_type": "markdown",
   "metadata": {},
   "source": [
    "## ZNE for N=2"
   ]
  },
  {
   "cell_type": "code",
   "execution_count": 8,
   "metadata": {},
   "outputs": [
    {
     "name": "stdout",
     "output_type": "stream",
     "text": [
      "N=2 ground state energy result with ZNE: -2.2811627227783022 MeV\n"
     ]
    }
   ],
   "source": [
    "#set up the extrapolation step and scale factors to use\n",
    "extrapolate = RichardsonFactory.extrapolate\n",
    "scale_factors = [1, 2, 3, 4, 5]\n",
    "\n",
    "def circuit(params, wires):\n",
    "    t0 = params[0]\n",
    "    qml.PauliX(wires=0)\n",
    "    qml.RY(t0, wires=1)\n",
    "    qml.CNOT(wires=[1,0])\n",
    "    return qml.expval(H)\n",
    "\n",
    "sim_qnode = qml.QNode(circuit, dev_sim)\n",
    "\n",
    "#use ZNE to mitigate error\n",
    "mitigated_qnode = mitigate_with_zne(scale_factors, fold_global, extrapolate)(sim_qnode)\n",
    "zne_result = mitigated_qnode(params,wires=2, shots=2**14)\n",
    "\n",
    "#print the result of the ground state energy\n",
    "print('N=2 ground state energy result with ZNE: {} MeV'.format(zne_result))"
   ]
  },
  {
   "cell_type": "markdown",
   "metadata": {},
   "source": [
    "This result is pretty close to the expected -2.22 MeV value for the ground state of the deuteron! However, it is clear from the above cell that the ZNE method was only applied on the circuit expectation value result and not the result from the VQE run. The latter is much more complicated to implement, and will be left as an exercise for the reader. See if you can nest ZNE into the VQE code above to apply ZNE at each step of the VQE routine! This should greatly improve our results from the VQE iterations. "
   ]
  }
 ],
 "metadata": {
  "kernelspec": {
   "display_name": "Python 3 (ipykernel)",
   "language": "python",
   "name": "python3"
  },
  "language_info": {
   "codemirror_mode": {
    "name": "ipython",
    "version": 3
   },
   "file_extension": ".py",
   "mimetype": "text/x-python",
   "name": "python",
   "nbconvert_exporter": "python",
   "pygments_lexer": "ipython3",
   "version": "3.8.12"
  }
 },
 "nbformat": 4,
 "nbformat_minor": 2
}
