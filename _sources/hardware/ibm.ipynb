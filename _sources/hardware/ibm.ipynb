{
 "cells": [
  {
   "cell_type": "markdown",
   "metadata": {},
   "source": [
    "# Real Hardware: N=2 Case\n",
    "\n",
    "Authors: Kyle Godbey, Alexandra Semposki\n",
    "\n",
    "Maintainer: Kyle Godbey\n",
    "\n",
    "Here we'll try running $N=2$ deuteron case from the VQE chapter on real quantum hardware. This will, of course, be noisy just as the last chapter, but now our noise model is a little more true to life!"
   ]
  },
  {
   "cell_type": "code",
   "execution_count": 2,
   "metadata": {},
   "outputs": [],
   "source": [
    "%matplotlib inline\n",
    "\n",
    "import matplotlib.pyplot as plt\n",
    "from pennylane import numpy as np\n",
    "import pennylane as qml\n",
    "import warnings\n",
    "warnings.filterwarnings('ignore')\n",
    "\n",
    "import mitiq as mq\n",
    "from mitiq.zne.scaling import fold_global\n",
    "from mitiq.zne.inference import RichardsonFactory\n",
    "from pennylane.transforms import mitigate_with_zne\n",
    "from qiskit.providers.aer import AerSimulator\n",
    "import qiskit.providers.aer.noise as noise\n",
    "from qiskit import IBMQ\n",
    "from qiskit.providers.ibmq import RunnerResult\n",
    "from pennylane_qiskit import upload_vqe_runner, vqe_runner"
   ]
  },
  {
   "cell_type": "markdown",
   "metadata": {},
   "source": [
    "## VQE for N=2 (on IBM Nairobi)\n",
    "\n",
    "Here we'll pull from some of the VQE notebook to define the Hamiltonian and circuit again. If you would like to revisit the VQE process, go to [this page](../vqe/n2.ipynb)."
   ]
  },
  {
   "cell_type": "code",
   "execution_count": 3,
   "metadata": {},
   "outputs": [
    {
     "name": "stdout",
     "output_type": "stream",
     "text": [
      "  (-6.125) [Z1]\n",
      "+ (0.218291) [Z0]\n",
      "+ (5.906709) [I0]\n",
      "+ (-2.143304) [X0 X1]\n",
      "+ (-2.143304) [Y0 Y1]\n"
     ]
    }
   ],
   "source": [
    "#define the Hamiltonian we're using again, for N=2\n",
    "coeffs = [5.906709, 0.218291, -6.125, -2.143304, -2.143304]\n",
    "obs = [qml.Identity(0), qml.PauliZ(0), qml.PauliZ(1), qml.PauliX(0) @ qml.PauliX(1), qml.PauliY(0) @ qml.PauliY(1)]\n",
    "\n",
    "H = qml.Hamiltonian(coeffs, obs)\n",
    "\n",
    "print(H)"
   ]
  },
  {
   "cell_type": "markdown",
   "metadata": {},
   "source": [
    "Now we'll set up our qiskit runtime job. For this, be sure to add your own IBMQ API token in `token` to authenticate with the IBMQ system."
   ]
  },
  {
   "cell_type": "code",
   "execution_count": null,
   "metadata": {},
   "outputs": [],
   "source": [
    "token = \"XXX\"\n",
    "\n",
    "IBMQ.enable_account(token)\n",
    "\n",
    "program_id = upload_vqe_runner(hub=\"ibm-q\", group=\"open\", project=\"main\")"
   ]
  },
  {
   "cell_type": "markdown",
   "metadata": {},
   "source": [
    "Now we define some initial parameter and convergence info, as before, but we also need to define our job that wil be submitted to the qiskit runtime."
   ]
  },
  {
   "cell_type": "code",
   "execution_count": 9,
   "metadata": {},
   "outputs": [],
   "source": [
    "#now we'll define the circuit we want to use with this Hamiltonian\n",
    "def circuit(params):\n",
    "    t0 = params\n",
    "    qml.PauliX(wires=0)\n",
    "    qml.RY(t0, wires=1)\n",
    "    qml.CNOT(wires=[1,0])\n",
    "   # return qml.expval(H)\n",
    "\n",
    "#parameter array\n",
    "init_params = np.array([2.5,])\n",
    "\n",
    "#convergence information and step size\n",
    "max_iterations = 120\n",
    "conv_tol = 1e-06\n",
    "step_size = 0.01\n",
    "shots = 10000\n",
    "\n",
    "job = vqe_runner(\n",
    "    program_id=program_id,\n",
    "    backend=\"ibm_nairobi\",\n",
    "    hamiltonian=H,\n",
    "    ansatz=circuit,\n",
    "    x0=init_params,\n",
    "    shots=shots,\n",
    "    optimizer=\"SPSA\",\n",
    "    optimizer_config={\"maxiter\": 50},\n",
    "    kwargs={\"hub\": \"ibm-q\", \"group\": \"open\", \"project\": \"main\"},\n",
    ")"
   ]
  },
  {
   "cell_type": "code",
   "execution_count": 19,
   "metadata": {},
   "outputs": [
    {
     "name": "stdout",
     "output_type": "stream",
     "text": [
      "     fun: -0.7380420742000001\n",
      " message: 'Optimization terminated successfully.'\n",
      "    nfev: 150\n",
      "     nit: 50\n",
      " success: True\n",
      "       x: array([2.70905085])\n"
     ]
    }
   ],
   "source": [
    "# Get runtime job result.\n",
    "result = job.result()\n",
    "\n",
    "print(result)"
   ]
  },
  {
   "cell_type": "markdown",
   "metadata": {},
   "source": [
    "Phew, that took a long time! But that's the curse of running on real hardware with other real humans interested in running their circuits too. The value returned is also not great.. let's see if we can improve that! "
   ]
  },
  {
   "cell_type": "markdown",
   "metadata": {},
   "source": [
    "## ZNE for N=2"
   ]
  },
  {
   "cell_type": "code",
   "execution_count": 7,
   "metadata": {},
   "outputs": [
    {
     "name": "stdout",
     "output_type": "stream",
     "text": [
      "N=2 ground state energy result with ZNE: -1.4298696529541 MeV\n"
     ]
    }
   ],
   "source": [
    "#set up the extrapolation step and scale factors to use\n",
    "extrapolate = RichardsonFactory.extrapolate\n",
    "scale_factors = [1, 2, 3, 4]\n",
    "\n",
    "params = result['x']\n",
    "unmitig_energy = result['fun']\n",
    "\n",
    "dev_ibm = qml.device('qiskit.ibmq', wires=2, backend='ibm_nairobi', ibmqx_token=token)\n",
    "\n",
    "def circuit(params, wires):\n",
    "    t0 = params[0]\n",
    "    qml.PauliX(wires=0)\n",
    "    qml.RY(t0, wires=1)\n",
    "    qml.CNOT(wires=[1,0])\n",
    "    return qml.expval(H)\n",
    "\n",
    "ibm_qnode = qml.QNode(circuit, dev_ibm)\n",
    "\n",
    "#use ZNE to mitigate error\n",
    "mitigated_qnode = mitigate_with_zne(scale_factors, fold_global, extrapolate)(ibm_qnode)\n",
    "zne_result = mitigated_qnode(params,wires=2, shots=2**14)\n",
    "\n",
    "#print the result of the ground state energy\n",
    "print('N=2 ground state energy result with ZNE: {} MeV'.format(zne_result))"
   ]
  },
  {
   "cell_type": "markdown",
   "metadata": {},
   "source": [
    "The result is still pretty bad... but again, that's a fact of our current generation of hardware. To do this better you could enable error mitigation during the VQE iteration, at the cost of additional time. That can be left as an exercise for the reader ;)"
   ]
  }
 ],
 "metadata": {
  "kernelspec": {
   "display_name": "Python 3.10.4 64-bit",
   "language": "python",
   "name": "python3"
  },
  "language_info": {
   "codemirror_mode": {
    "name": "ipython",
    "version": 3
   },
   "file_extension": ".py",
   "mimetype": "text/x-python",
   "name": "python",
   "nbconvert_exporter": "python",
   "pygments_lexer": "ipython3",
   "version": "3.10.4"
  },
  "vscode": {
   "interpreter": {
    "hash": "e7370f93d1d0cde622a1f8e1c04877d8463912d04d973331ad4851f04de6915a"
   }
  }
 },
 "nbformat": 4,
 "nbformat_minor": 2
}
