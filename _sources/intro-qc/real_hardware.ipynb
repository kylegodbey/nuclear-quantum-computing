{
 "cells": [
  {
   "cell_type": "markdown",
   "id": "9efb2ac0",
   "metadata": {},
   "source": [
    "# Building a quantum computer: experimental techniques"
   ]
  },
  {
   "cell_type": "markdown",
   "id": "929bbeb4",
   "metadata": {},
   "source": [
    "Author: Alexandra Semposki\n",
    "\n",
    "Maintainer: Alexandra Semposki"
   ]
  },
  {
   "cell_type": "markdown",
   "id": "9f17410f",
   "metadata": {},
   "source": [
    "## DiVincenzo criteria"
   ]
  },
  {
   "cell_type": "markdown",
   "id": "3937c89b",
   "metadata": {},
   "source": [
    "### Stationary vs. flying qubits"
   ]
  },
  {
   "cell_type": "markdown",
   "id": "9314ebaa",
   "metadata": {},
   "source": [
    "## Approaches to fabricating qubits\n",
    "\n",
    "Below are a few approaches described in some detail, but there are a few more that we will not get into. These include NV-centers in diamond lattices and NMR. Now, let's dig into the main experimental implementations of qubits!"
   ]
  },
  {
   "cell_type": "markdown",
   "id": "45eab6ff",
   "metadata": {},
   "source": [
    "### Superconducting qubits (IBM, Rigetti)"
   ]
  },
  {
   "cell_type": "markdown",
   "id": "0a01c8ff",
   "metadata": {},
   "source": [
    "### Trapped ions (Ion Q, Honeywell)"
   ]
  },
  {
   "cell_type": "markdown",
   "id": "9c6097aa",
   "metadata": {},
   "source": [
    "### Photonic qubits (Xanadu)"
   ]
  },
  {
   "cell_type": "markdown",
   "id": "59791714",
   "metadata": {},
   "source": [
    "### Quantum dots in microwave cavities (Si-technology)"
   ]
  },
  {
   "cell_type": "code",
   "execution_count": null,
   "id": "d31973bd",
   "metadata": {},
   "outputs": [],
   "source": []
  }
 ],
 "metadata": {
  "kernelspec": {
   "display_name": "Python 3 (ipykernel)",
   "language": "python",
   "name": "python3"
  },
  "language_info": {
   "codemirror_mode": {
    "name": "ipython",
    "version": 3
   },
   "file_extension": ".py",
   "mimetype": "text/x-python",
   "name": "python",
   "nbconvert_exporter": "python",
   "pygments_lexer": "ipython3",
   "version": "3.8.11"
  }
 },
 "nbformat": 4,
 "nbformat_minor": 5
}
