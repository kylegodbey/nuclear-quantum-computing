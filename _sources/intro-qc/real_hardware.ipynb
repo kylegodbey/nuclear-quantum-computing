{
 "cells": [
  {
   "cell_type": "markdown",
   "id": "9efb2ac0",
   "metadata": {},
   "source": [
    "# Building a quantum computer: experimental techniques"
   ]
  },
  {
   "cell_type": "markdown",
   "id": "929bbeb4",
   "metadata": {},
   "source": [
    "Author: Alexandra Semposki\n",
    "\n",
    "Maintainer: Alexandra Semposki"
   ]
  },
  {
   "cell_type": "markdown",
   "id": "9f17410f",
   "metadata": {},
   "source": [
    "## DiVincenzo criteria\n",
    "\n",
    "When building a real quantum computer, there are several requirements that need to be addressed to achieve one that is as reliable as possible. David DiVincenzo, while working on this task, came up with a set of these conditions now called __DiVincenzo criteria__ [1]:\n",
    "\n",
    "```{admonition} DiVincenzo criteria\n",
    "1. A physical system that is scalable and possesses well-characterized qubits.\n",
    "2. Qubits that can be initialized to a fiducial state ($|000000...000\\rangle$).\n",
    "3. A long decoherence time with respect to the gate operation time.\n",
    "4. A universal set of quantum gates.\n",
    "5. A qubit-specific measurement capability.\n",
    "```\n",
    "\n",
    "There are also two more criteria that directly relate to quantum communication:\n",
    "\n",
    "```{admonition} \n",
    "6. The ability to interchange between stationary vs flying qubits. \n",
    "7. The ability to transmit flying qubits between specific locations reliably. \n",
    "```\n",
    "\n",
    "Let's break down stationary and flying qubits to better understand the last two rules above."
   ]
  },
  {
   "cell_type": "markdown",
   "id": "3937c89b",
   "metadata": {},
   "source": [
    "### Stationary vs. flying qubits\n",
    "\n",
    "Flying qubits gives the impression of qubits flying around one's head like a bird---of course, this is not the case, but it paints an interesting picture that actually has some merit. __Flying qubits__ are qubits that send information across a distance without corrupting their messages. This distance must be a macroscopic distance, and these qubits are only given this one task, to send information from one node of the system to another [2]. \n",
    "\n",
    "__Stationary qubits__, on the other hand, must be able to not only store information, but perform calculations with it [2]. They have a much more widespread use than flying qubits. They must also have good entanglement capabilities. \n",
    "\n",
    "So, returning to rules 6 and 7 above, Rule 6 references the ability of a quantum computer to switch between flying and stationary qubits, and Rule 7 refers to the ability of these flying qubits to transfer their information in a stable way. "
   ]
  },
  {
   "cell_type": "markdown",
   "id": "9314ebaa",
   "metadata": {},
   "source": [
    "## Approaches to fabricating qubits\n",
    "\n",
    "Below are a few approaches described in some detail, but there are a few more that we will not get into. These include NV-centers in diamond lattices and NMR. Now, let's dig into the main experimental implementations of qubits!"
   ]
  },
  {
   "cell_type": "markdown",
   "id": "45eab6ff",
   "metadata": {},
   "source": [
    "### Superconducting qubits (IBM, Rigetti)"
   ]
  },
  {
   "cell_type": "markdown",
   "id": "0a01c8ff",
   "metadata": {},
   "source": [
    "### Trapped ions (Ion Q, Honeywell)"
   ]
  },
  {
   "cell_type": "markdown",
   "id": "9c6097aa",
   "metadata": {},
   "source": [
    "### Photonic qubits (Xanadu)"
   ]
  },
  {
   "cell_type": "markdown",
   "id": "59791714",
   "metadata": {},
   "source": [
    "### Quantum dots in microwave cavities (Si-technology)"
   ]
  },
  {
   "cell_type": "markdown",
   "id": "31d9a254",
   "metadata": {},
   "source": [
    "## References"
   ]
  },
  {
   "cell_type": "markdown",
   "id": "90ca2f44",
   "metadata": {},
   "source": [
    "[1] Jha, Raghav G. \"Notes on Quantum Computation and Information\". arXiv: 2301.09679 [hep-ph]. (Link [here](https://arxiv.org/abs/2301.09679)).\n",
    "\n",
    "[2] https://quantumcomputing.stackexchange.com/questions/8900/what-is-a-flying-qubit"
   ]
  }
 ],
 "metadata": {
  "kernelspec": {
   "display_name": "Python 3 (ipykernel)",
   "language": "python",
   "name": "python3"
  },
  "language_info": {
   "codemirror_mode": {
    "name": "ipython",
    "version": 3
   },
   "file_extension": ".py",
   "mimetype": "text/x-python",
   "name": "python",
   "nbconvert_exporter": "python",
   "pygments_lexer": "ipython3",
   "version": "3.8.11"
  }
 },
 "nbformat": 4,
 "nbformat_minor": 5
}
