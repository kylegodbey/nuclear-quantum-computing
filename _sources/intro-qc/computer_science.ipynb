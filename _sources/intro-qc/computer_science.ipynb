{
 "cells": [
  {
   "cell_type": "markdown",
   "id": "ac096ad9",
   "metadata": {},
   "source": [
    "# Computer science: P/NP space & quantum computing"
   ]
  },
  {
   "cell_type": "markdown",
   "id": "5c3c26ab",
   "metadata": {},
   "source": [
    "Author: Alexandra Semposki\n",
    "\n",
    "Maintainer: Alexandra Semposki"
   ]
  },
  {
   "cell_type": "markdown",
   "id": "df1a9aa6",
   "metadata": {},
   "source": [
    "## Introduction to computer science"
   ]
  },
  {
   "cell_type": "markdown",
   "id": "106df284",
   "metadata": {},
   "source": [
    "### Quantum Algorithms"
   ]
  },
  {
   "cell_type": "markdown",
   "id": "e1c67425",
   "metadata": {},
   "source": [
    "## Computational complexity theory\n",
    "\n",
    "This theory describes the classification of different types of problems based on similarities in the resources required to solve them. There are a few broad classes of problems, namely __P__, __NP__, __BQP__, and __BPP__, and within these there can be more distinct subclasses. We'll focus on understanding the four mentioned above, and how they relate to the discussion of quantum computers."
   ]
  },
  {
   "cell_type": "markdown",
   "id": "dfc86357",
   "metadata": {},
   "source": [
    "### P vs. NP\n",
    "\n",
    "The two most well-known complexity classes are __P__ and __NP__. __P__ encompasses all problems that can be solved on a classical computer in an efficient and speedy way, and __NP__ in turn possesses all of the problems that have checkable solutions on a classical computer. The main difference, if you didn't catch it in the last sentence, is that __NP__ problems may not be quickly solvable on a classical computer. For example, factoring prime numbers cannot easily be done on a classical computer, but checking the solution to this problem---with the solution already in hand---is definitely possible [1]. This is a somewhat subtle difference, but a very crucial one to understanding these classes. \n",
    "\n",
    "If you've been around computer science for any decent length of time, you'll have heard about \"__P__/__NP__\" before. One of the most intriguing computer science problems out there is whether or not __P__ = __NP__. This has not yet been proven. There are problems that could help with this, such as __NP__-complete class problems (a subclass within __NP__), where their solutions could be adapted for any other __NP__ problem. This would essentially prove that the two classes of problems are equal, as once one can solve __NP__ problems, one has proved they are indeed solvable and therefore would apply to the __P__ class as well. However, if __P__$\\neq$__NP__, then the opposite is true [1].\n",
    "\n",
    "The last class to mention here is the __NP__-hard class. These are problems that are quite similar to __NP__-complete ones, and in fact some overlap with the __NP__-complete subclass. One good example of this is the ''travelling salesman'' optimization problem, which has no known solution that could be found within what we call ''polynomial time'' without the use of non-deterministic machines, and also belongs to the class of problems that would solve any other __NP__ problem if solved themselves. However, __NP__-hard problems do not have to overlap with __NP__ problems in general [2]. \n",
    "\n",
    "```{admonition} Polynomial Time\n",
    "Polynomial time is a time classification that refers to the ability to solve a problem within a polynomial scaling of steps. This can more easily be understood when contrasted with ''exponential time'', where a problem's number of steps scales exponentially as it is solved. \n",
    "```\n",
    "\n",
    "These are all rather difficult concepts to grasp, but we're getting there! Let's look now at a couple of more specific classes, __BQP__ and __BPP__."
   ]
  },
  {
   "cell_type": "markdown",
   "id": "885d0a1c",
   "metadata": {},
   "source": [
    "### BQP"
   ]
  },
  {
   "cell_type": "markdown",
   "id": "4e6c1682",
   "metadata": {},
   "source": [
    "### BPP"
   ]
  },
  {
   "cell_type": "markdown",
   "id": "056c66b9",
   "metadata": {},
   "source": [
    "## Looking ahead: approaching computational problems with quantum computers"
   ]
  },
  {
   "cell_type": "markdown",
   "id": "13beeb28",
   "metadata": {},
   "source": [
    "## References\n",
    "\n",
    "[1] Nielsen, M. A., & Chuang, I. L. (2011). Quantum Computation and Quantum Information: 10th Anniversary Edition. Cambridge University Press."
   ]
  }
 ],
 "metadata": {
  "kernelspec": {
   "display_name": "Python 3 (ipykernel)",
   "language": "python",
   "name": "python3"
  },
  "language_info": {
   "codemirror_mode": {
    "name": "ipython",
    "version": 3
   },
   "file_extension": ".py",
   "mimetype": "text/x-python",
   "name": "python",
   "nbconvert_exporter": "python",
   "pygments_lexer": "ipython3",
   "version": "3.8.11"
  }
 },
 "nbformat": 4,
 "nbformat_minor": 5
}
