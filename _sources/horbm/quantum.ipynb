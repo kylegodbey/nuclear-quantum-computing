{
 "cells": [
  {
   "cell_type": "markdown",
   "metadata": {},
   "source": [
    "# Reduced Basis Method on a Quantum Computer\n",
    "\n",
    "Author(s): Kyle Godbey, Pablo Giuliani\n",
    "\n",
    "Maintainer: Kyle Godbey\n",
    "\n",
    "Now it's time to take the two level representation we just solved classically and implement it for use on quantum hardware. The bulk of this notebook is based on the VQE example for the deuteron, so check that out for more descriptions [here](../vqe/general.ipynb)."
   ]
  },
  {
   "cell_type": "code",
   "execution_count": 1,
   "metadata": {},
   "outputs": [],
   "source": [
    "%matplotlib inline\n",
    "\n",
    "import matplotlib.pyplot as plt\n",
    "from pennylane import numpy as np\n",
    "import scipy as sci\n",
    "import pennylane as qml\n",
    "from qiskit_nature.operators.second_quantization import FermionicOp\n",
    "from qiskit_nature.mappers.second_quantization import JordanWignerMapper, ParityMapper\n",
    "import time\n",
    "from functools import partial\n",
    "import warnings\n",
    "warnings.filterwarnings('ignore')"
   ]
  },
  {
   "cell_type": "markdown",
   "metadata": {},
   "source": [
    "We'll also need some helper functions to parse Pauli strings and construct our pennylane Hamiltonian, so I'll just dump them here along with the helpers from the previous example."
   ]
  },
  {
   "cell_type": "code",
   "execution_count": 2,
   "metadata": {},
   "outputs": [],
   "source": [
    "def pauli_token_to_operator(token):\n",
    "    qubit_terms = []\n",
    "\n",
    "    for term in range(len(token)):\n",
    "        # Special case of identity\n",
    "        if token[term] == \"I\":\n",
    "            pass\n",
    "        else:\n",
    "            #pauli, qubit_idx = term, term\n",
    "            if token[term] == \"X\":\n",
    "                qubit_terms.append(qml.PauliX(int(term)))\n",
    "            elif token[term] == \"Y\":\n",
    "                qubit_terms.append(qml.PauliY(int(term)))\n",
    "            elif token[term] == \"Z\":\n",
    "                qubit_terms.append(qml.PauliZ(int(term)))\n",
    "            else:\n",
    "                print(\"Invalid input.\")\n",
    "    if(qubit_terms==[]):\n",
    "            qubit_terms.append(qml.Identity(0))\n",
    "    full_term = qubit_terms[0]\n",
    "    for term in qubit_terms[1:]:\n",
    "        full_term = full_term @ term\n",
    "\n",
    "    return full_term\n",
    "\n",
    "\n",
    "def parse_hamiltonian_input(input_data):\n",
    "    # Get the input\n",
    "    coeffs = []\n",
    "    pauli_terms = []\n",
    "    chunks = input_data.split(\"\\n\")\n",
    "    # Go through line by line and build up the Hamiltonian\n",
    "    for line in chunks:\n",
    "        #line = line.strip()\n",
    "        tokens = line.split(\" \")\n",
    "        # Parse coefficients\n",
    "        sign, value = tokens[0][0], tokens[1]\n",
    "\n",
    "        coeff = float(value)\n",
    "        if sign == \"-\":\n",
    "            coeff *= -1\n",
    "        coeffs.append(coeff)\n",
    "\n",
    "        # Parse Pauli component\n",
    "        pauli = tokens[3]\n",
    "        \n",
    "        pauli_terms.append(pauli_token_to_operator(pauli))\n",
    "\n",
    "    return qml.Hamiltonian(coeffs, pauli_terms)\n",
    "\n",
    "### NOTE: hbar = 1 in this demo\n",
    "### First define exact solutions to compare numerical solutions to.\n",
    "def V(x,alpha):\n",
    "    '''\n",
    "    1-d harmonic Oscillator potential\n",
    "\n",
    "    Parameters\n",
    "    ----------\n",
    "    x : float or nd array\n",
    "        position.\n",
    "    alpha : float\n",
    "        oscillator length parameter.\n",
    "\n",
    "    Returns\n",
    "    -------\n",
    "    float or ndarray\n",
    "        value of potential evaluated at x.\n",
    "\n",
    "    '''\n",
    "    return alpha*x**2\n",
    "def construct_H(V,grid,mass,alpha):\n",
    "    '''\n",
    "    Uses 2nd order finite difference scheme to construct a discretized differential H operator\n",
    "    Note: mass is fixed to 1 for this demo.\n",
    "\n",
    "    Parameters\n",
    "    ----------\n",
    "    V : TYPE\n",
    "        DESCRIPTION.\n",
    "        \n",
    "    alpha : TYPE\n",
    "        oscillator parameter alpha used in V(x) = alpha*x**2.\n",
    "\n",
    "    Returns\n",
    "    -------\n",
    "    H : ndarray\n",
    "        2d numpy array\n",
    "    '''\n",
    "    dim = len(grid)\n",
    "    off_diag = np.zeros(dim)\n",
    "    off_diag[1] = 1\n",
    "    H = -1*(-2*np.identity(dim) + sci.linalg.toeplitz(off_diag))/(mass*h**2) + np.diag(V(grid,alpha))\n",
    "    return H\n",
    "def solve(H,grid,h):\n",
    "    '''\n",
    "    Parameters\n",
    "    ----------\n",
    "    H : 2d ndarray\n",
    "        Hamiltonian Matrix.\n",
    "    grid : ndarray\n",
    "        Discretized 1d domain.\n",
    "    h : float\n",
    "        grid spacing.\n",
    "\n",
    "    Returns\n",
    "    -------\n",
    "    evals : ndarray\n",
    "        returns nd array of eigenvalues of H. \n",
    "    evects : ndarray\n",
    "        returns ndarray of eigenvectors of H.\n",
    "    Eigenvalues and eigenvectors are ordered in ascending order. \n",
    "    '''\n",
    "    evals,evects = np.linalg.eigh(H)\n",
    "    evects = evects.T\n",
    "    for i,evect in enumerate(evects):\n",
    "        #norm = np.sqrt(1/sci.integrate.simpson(evect*evect,grid))\n",
    "        norm = 1/(np.linalg.norm(np.dot(evect,evect)))\n",
    "        evects[i] = evects[i]*norm\n",
    "    return evals,evects"
   ]
  },
  {
   "cell_type": "markdown",
   "metadata": {},
   "source": [
    "Just like in the other examples, we'll need a pennylane compatible Hamiltonian given a requested basis dimension, N. For this problem however we'll pass a matrix with the matrix elements in directly."
   ]
  },
  {
   "cell_type": "code",
   "execution_count": 3,
   "metadata": {},
   "outputs": [],
   "source": [
    "def ham(N,mat_ele,mapper=JordanWignerMapper):\n",
    "    # Start out by zeroing what will be our fermionic operator\n",
    "    op = 0\n",
    "    for i in range(N):\n",
    "        for j in range(N):\n",
    "            # Construct the terms of the Hamiltonian in terms of creation/annihilation operators \n",
    "            op +=  float(mat_ele[i][j]) * \\\n",
    "            FermionicOp([([(\"+\", i),(\"-\", j)], 1.0)])\n",
    "\n",
    "    hamstr = \"+ \"+str(mapper().map(second_q_op=op))\n",
    "\n",
    "    hamiltonian = parse_hamiltonian_input(hamstr)\n",
    "\n",
    "    return hamiltonian \n"
   ]
  },
  {
   "cell_type": "markdown",
   "metadata": {},
   "source": [
    "For the last bit of classical setup, we will define our parameters, along with the alpha values we want to inform our basis. We won't plot them again here, since they will be the same as before.\n",
    "\n",
    "This is where we'll choose our basis size too, but we'll stick with two for now to be consistent."
   ]
  },
  {
   "cell_type": "code",
   "execution_count": 4,
   "metadata": {},
   "outputs": [
    {
     "name": "stdout",
     "output_type": "stream",
     "text": [
      "alpha = 0.5, lambda = 0.7071036561722082\n",
      "alpha = 1, lambda = 0.9999937499607756\n",
      "alpha = 2, lambda = 1.4142010622630583\n",
      "alpha = 5, lambda = 2.236036727063778\n",
      "alpha = 15, lambda = 3.872889593938531\n",
      "Basis constructed!\n"
     ]
    }
   ],
   "source": [
    "nbasis = 2\n",
    "\n",
    "h = 10**(-2) ### grid spacing for domain (Warning around 10**(-3) it starts to get slow).\n",
    "\n",
    "### HO global parameters \n",
    "n = 0 # principle quantum number to solve in HO\n",
    "mass = 1.0 # mass for the HO system\n",
    "\n",
    "# define the domain boundaries\n",
    "x_a = -10 # left boundary \n",
    "x_b = 10 # right boundary \n",
    "x_array = np.arange(x_a,x_b+h,h)\n",
    "m = len(x_array) \n",
    "\n",
    "# Select alpha values to use to solve SE exactly.\n",
    "alpha_vals = [.5,1,2,5,15]  #Here, we choose 5 values of alpha to solve exactly. This results in 3 basis functions\n",
    "# initialize solution arrays. T is the matrix that will hold wavefunction solutions. \n",
    "# T has the form T[i][j], i = alpha, j = solution components\n",
    "T = np.zeros((len(alpha_vals),m)) \n",
    "# T_evals holds the eigenvalues for each evect in T. \n",
    "T_evals = np.zeros(len(alpha_vals))\n",
    "\n",
    "for i,alpha_sample in enumerate(alpha_vals):\n",
    "    H = construct_H(V,x_array,mass,alpha_sample) # construct the Hamiltonian matrix for given alpha_sample.\n",
    "    evals, evects = solve(H,x_array,h) # solve the system for evals and evects.\n",
    "    T[i] = evects[n]/np.linalg.norm(evects[n]) # assign the nth evect to solution array T\n",
    "    T_evals[i] = evals[n] # assign the nth eigenvalue to the eigenvalue array T_eval.\n",
    "    print(f'alpha = {alpha_sample}, lambda = {evals[n]}')\n",
    "\n",
    "U, s, Vh = np.linalg.svd(T)\n",
    "phi = []\n",
    "for i in range(nbasis):\n",
    "    phi.append(-1*Vh[i])\n",
    "\n",
    "print(\"Basis constructed!\")\n"
   ]
  },
  {
   "cell_type": "markdown",
   "metadata": {},
   "source": [
    "The last bit of housekeeping will involved us constructing our effective Hamiltonian for this two particle system again, just as the previous example."
   ]
  },
  {
   "cell_type": "code",
   "execution_count": 5,
   "metadata": {},
   "outputs": [],
   "source": [
    "dim0 = len(x_array)\n",
    "off_diag = np.zeros(dim0)\n",
    "off_diag[1] = 1\n",
    "\n",
    "H0=-1*(-2*np.identity(dim0) + sci.linalg.toeplitz(off_diag))/(mass*h**2) \n",
    "H1=np.diag(V(x_array,1))\n",
    "\n",
    "tildeH0=np.zeros((nbasis,nbasis))\n",
    "tildeH1=np.zeros((nbasis,nbasis))\n",
    "\n",
    "for i in range(nbasis):\n",
    "    for j in range(nbasis):\n",
    "        tildeH0[i][j] = np.dot(phi[i],np.dot(H0,phi[j]))\n",
    "        tildeH1[i][j] = np.dot(phi[i],np.dot(H1,phi[j]))\n",
    "\n",
    "def tildeH(alpha):\n",
    "    return tildeH0+alpha*tildeH1\n",
    "\n",
    "def systemSolver(alpha):\n",
    "    resultssystem= np.linalg.eig(tildeH(alpha))\n",
    "    if resultssystem[1][0][0]<0:\n",
    "        resultssystem[1][0]=resultssystem[1][0]*(-1)\n",
    "    if resultssystem[1][1][0]<0:\n",
    "        resultssystem[1][1]=resultssystem[1][1]*(-1)   \n",
    "    return resultssystem\n",
    "\n",
    "def phibuilder(coefficients):\n",
    "    return coefficients[0]*phi[0]+coefficients[1]*phi[1]"
   ]
  },
  {
   "cell_type": "markdown",
   "metadata": {},
   "source": [
    "Now we can get into the quantum side of things! We'll be defining our ansatz in a general way, but we've included a simpler ansatz as well. \n",
    "\n",
    "For the Hamiltonian we'll use the helper function we just made to get the matrix elements and build our quantum-ready problem."
   ]
  },
  {
   "cell_type": "code",
   "execution_count": 6,
   "metadata": {},
   "outputs": [
    {
     "name": "stdout",
     "output_type": "stream",
     "text": [
      "  (-4.410191127127575) [Z0]\n",
      "+ (-0.8896021203241116) [Z1]\n",
      "+ (5.299793247451687) [I0]\n",
      "+ (0.15260766982051965) [Y0 Y1]\n",
      "+ (0.15260766982051965) [X0 X1]\n"
     ]
    }
   ],
   "source": [
    "# Set alpha\n",
    "\n",
    "alph = 3\n",
    "\n",
    "# Set the order you'd like to go to\n",
    "\n",
    "dim = nbasis\n",
    "\n",
    "dev = qml.device(\"default.qubit\", wires=dim)\n",
    "\n",
    "# Define a general ansatz for arbitrary numbers of dimensions\n",
    "\n",
    "particles = 1\n",
    "\n",
    "ref_state = qml.qchem.hf_state(particles, dim)\n",
    "\n",
    "gen_ansatz = partial(qml.ParticleConservingU2, init_state=ref_state)\n",
    "\n",
    "layers = dim \n",
    "\n",
    "def ansatz(params,wires):\n",
    "    t0 = params[0]\n",
    "    qml.PauliX(wires=0)\n",
    "    qml.RY(t0, wires=1)\n",
    "    qml.CNOT(wires=[1,0])\n",
    "\n",
    "# generate the cost function\n",
    "@qml.qnode(dev)\n",
    "def prob_circuit(params,ansatz):\n",
    "    gen_ansatz(params, wires=dev.wires)\n",
    "    return qml.probs(wires=dev.wires)\n",
    "\n",
    "# Defining Hamiltonian\n",
    "\n",
    "mat_ele = tildeH(3)\n",
    "\n",
    "H = ham(dim, mat_ele)\n",
    "\n",
    "print(H)\n",
    "\n",
    "cost_fn = qml.ExpvalCost(gen_ansatz, H, dev)\n"
   ]
  },
  {
   "cell_type": "markdown",
   "metadata": {},
   "source": [
    "We're definitely on the right track, now to do the VQE.\n",
    "\n",
    "Let's set up our initial parameters."
   ]
  },
  {
   "cell_type": "code",
   "execution_count": 7,
   "metadata": {},
   "outputs": [
    {
     "name": "stdout",
     "output_type": "stream",
     "text": [
      "[[-0.82896311  0.72002798 -1.27167885]\n",
      " [-1.08739041  0.16555312  0.7669375 ]]\n"
     ]
    }
   ],
   "source": [
    "# Our parameter array\n",
    "\n",
    "init_params = np.random.uniform(low=-np.pi / 2, high=np.pi / 2, size=qml.ParticleConservingU2.shape(n_layers=layers, n_wires=dim))\n",
    "#init_params = np.array([2.5,])\n",
    "print(init_params)\n",
    "# Convergence information and step size\n",
    "\n",
    "max_iterations = 500\n",
    "conv_tol = 1e-05\n",
    "step_size = 0.1"
   ]
  },
  {
   "cell_type": "markdown",
   "metadata": {},
   "source": [
    "And now the VQE loop just as the other examples."
   ]
  },
  {
   "cell_type": "code",
   "execution_count": 8,
   "metadata": {},
   "outputs": [
    {
     "name": "stdout",
     "output_type": "stream",
     "text": [
      "It = 0,  Energy = 2.03957124,  Conv = 3.60879306, Time Elapsed = 0.038 s\n",
      "It = 1,  Energy = 1.78336354,  Conv = 0.25620770, Time Elapsed = 0.043 s\n",
      "It = 2,  Energy = 1.76839781,  Conv = 0.01496573, Time Elapsed = 0.035 s\n",
      "It = 3,  Energy = 1.76669929,  Conv = 0.00169851, Time Elapsed = 0.033 s\n",
      "It = 4,  Energy = 1.76624783,  Conv = 0.00045146, Time Elapsed = 0.036 s\n",
      "It = 5,  Energy = 1.76608994,  Conv = 0.00015789, Time Elapsed = 0.035 s\n",
      "It = 6,  Energy = 1.76603226,  Conv = 0.00005768, Time Elapsed = 0.034 s\n",
      "It = 7,  Energy = 1.76601108,  Conv = 0.00002118, Time Elapsed = 0.047 s\n",
      "It = 8,  Energy = 1.76600330,  Conv = 0.00000778, Time Elapsed = 0.039 s\n",
      "\n",
      "Final value of the energy = 1.76600330\n",
      "Number of iterations =  8\n"
     ]
    }
   ],
   "source": [
    "opt = qml.GradientDescentOptimizer(stepsize=step_size)\n",
    "\n",
    "params = init_params\n",
    "\n",
    "gd_param_history = [params]\n",
    "gd_cost_history = []\n",
    "\n",
    "accel = 0\n",
    "prev_conv = -1.0\n",
    "\n",
    "start = time.time()\n",
    "\n",
    "for n in range(max_iterations):\n",
    "    fac = (1.0)\n",
    "    opt = qml.GradientDescentOptimizer(stepsize=step_size)\n",
    "\n",
    "    # Take a step in parameter space and record your energy\n",
    "    params, prev_energy = opt.step_and_cost(cost_fn, params)\n",
    "\n",
    "    # This keeps track of our energy for plotting at comparisons\n",
    "    gd_param_history.append(params)\n",
    "    gd_cost_history.append(prev_energy)\n",
    "\n",
    "    # Here we see what the energy of our system is with the new parameters\n",
    "    energy = cost_fn(params)\n",
    "\n",
    "    # Calculate difference between new and old energies\n",
    "    conv = np.abs(energy - prev_energy)\n",
    "\n",
    "    if(energy - prev_energy > 0.0 and step_size > 0.001):\n",
    "        #print(\"Lowering!\")\n",
    "        accel = 0\n",
    "        step_size = 0.5*step_size\n",
    "\n",
    "    if(conv < prev_conv): accel += 1\n",
    "    prev_conv = conv\n",
    "    \n",
    "    if(accel > 10 and step_size < 1.0):\n",
    "        #print(\"Accelerating!\")\n",
    "        step_size = 1.1*step_size\n",
    "    end = time.time()\n",
    "\n",
    "    if n % 1 == 0:\n",
    "        print(\n",
    "            \"It = {:},  Energy = {:.8f},  Conv = {\"\n",
    "            \":.8f}, Time Elapsed = {:.3f} s\".format(n, energy, conv,end-start)\n",
    "        )\n",
    "        start = time.time()\n",
    "\n",
    "\n",
    "    if conv <= conv_tol:\n",
    "        break\n",
    "\n",
    "print()\n",
    "print(\"Final value of the energy = {:.8f}\".format(energy))\n",
    "print(\"Number of iterations = \", n)"
   ]
  },
  {
   "cell_type": "markdown",
   "metadata": {},
   "source": [
    "We converged! That's great, but how do we interpret these results? The value we converged to here is exactly the same as the eigenvalue we recovered when we did direct diagonalization, as you may expect.\n",
    "\n",
    "In order to uncover the coefficients of our basis elements, we need to do a little more and measure the probabilities of our system."
   ]
  },
  {
   "cell_type": "code",
   "execution_count": 9,
   "metadata": {},
   "outputs": [
    {
     "name": "stdout",
     "output_type": "stream",
     "text": [
      "a1 Coefficient:  0.9990878439471074\n",
      "a2 Coefficient:  0.04270222566940294\n"
     ]
    }
   ],
   "source": [
    "probs = prob_circuit(params,gen_ansatz)\n",
    "\n",
    "coeffs = np.sqrt(probs[1:3])\n",
    "\n",
    "print(\"a1 Coefficient: \",coeffs[0])\n",
    "print(\"a2 Coefficient: \",coeffs[1])"
   ]
  },
  {
   "cell_type": "markdown",
   "metadata": {},
   "source": [
    "Brilliant! It's exactly what we expected to see, and we can finish out by plotting our solution against the true value just for completion's sake."
   ]
  },
  {
   "cell_type": "code",
   "execution_count": 11,
   "metadata": {},
   "outputs": [
    {
     "name": "stdout",
     "output_type": "stream",
     "text": [
      "Finite Ele alpha = 3, lambda = 1.7320320573669001\n",
      "QC Galerkin alpha = 3, lambda = 1.766003299149098\n"
     ]
    },
    {
     "data": {
      "image/png": "[encoded data removed]",
      "text/plain": [
       "<Figure size 360x216 with 1 Axes>"
      ]
     },
     "metadata": {
      "needs_background": "light"
     },
     "output_type": "display_data"
    }
   ],
   "source": [
    "# Now we can construct our RBM for an alpha of our choosing. \n",
    "alpha_k = alph\n",
    "solGaler=phibuilder(coeffs)\n",
    "lamGaler=energy\n",
    "\n",
    "alpha_vals = [alpha_k]  \n",
    "\n",
    "T = np.zeros((len(alpha_vals),m)) \n",
    " \n",
    "T_evals = np.zeros(len(alpha_vals))\n",
    "\n",
    "for i,alpha_sample in enumerate(alpha_vals):\n",
    "    H = construct_H(V,x_array,mass,alpha_sample) # construct the Hamiltonian matrix for given alpha_sample.\n",
    "    evals, evects = solve(H,x_array,h) # solve the system for evals and evects.\n",
    "    T[i] = evects[i]/np.linalg.norm(evects[i]) # assign the nth evect to solution array T\n",
    "    T_evals[i] = evals[i] # assign the nth eigenvalue to the eigenvalue array T_eval.\n",
    "    print(f'Finite Ele alpha = {alpha_sample}, lambda = {evals[i]}')\n",
    "    \n",
    "print(f'QC Galerkin alpha = {alph}, lambda = {lamGaler}')\n",
    "\n",
    "    \n",
    "\n",
    "# Make plots of the numerical wavefunction \n",
    "fig, ax = plt.subplots(1,1,figsize=(5,3))\n",
    "for i in range(len(alpha_vals)):\n",
    "    \n",
    "    ax.plot(x_array,(T[i]),label= r'Finite element $\\alpha$ = '+str(alpha_vals[i]))\n",
    "\n",
    "ax.plot(x_array,(solGaler),label=r'Galerkin $\\alpha$ = '+str(alpha_vals[i]))    \n",
    "    \n",
    "\n",
    "ax.set_title('Numerical solutions')\n",
    "\n",
    "ax.legend()\n",
    "\n",
    "plt.show()"
   ]
  },
  {
   "cell_type": "markdown",
   "metadata": {},
   "source": [
    "Phew, that was an adventure! But we were able to successfully reproduce everything we could do on the classical computing side just fine. By utilizing the reduced basis method we were able to vastly reduce the dimensionality of solving our problem in this simple case. For our last adventure we'll try to pull together everything we've built in order to solve a tricky non-linear quantum many-body problem."
   ]
  }
 ],
 "metadata": {
  "interpreter": {
   "hash": "31f2aee4e71d21fbe5cf8b01ff0e069b9275f58929596ceb00d14d90e3e16cd6"
  },
  "kernelspec": {
   "display_name": "Python 3.8.10 64-bit",
   "language": "python",
   "name": "python3"
  },
  "language_info": {
   "codemirror_mode": {
    "name": "ipython",
    "version": 3
   },
   "file_extension": ".py",
   "mimetype": "text/x-python",
   "name": "python",
   "nbconvert_exporter": "python",
   "pygments_lexer": "ipython3",
   "version": "3.8.10"
  },
  "orig_nbformat": 4,
  "vscode": {
   "interpreter": {
    "hash": "e7370f93d1d0cde622a1f8e1c04877d8463912d04d973331ad4851f04de6915a"
   }
  }
 },
 "nbformat": 4,
 "nbformat_minor": 2
}
