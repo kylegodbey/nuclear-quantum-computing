{
 "cells": [
  {
   "cell_type": "markdown",
   "id": "0a6fa0af",
   "metadata": {},
   "source": [
    "# Quantum Harmonic Oscillator as a two level system\n",
    "\n",
    "Author(s): Pablo Giuliani, Kyle Godbey\n",
    "\n",
    "Maintainer: Pablo Giuliani\n",
    "\n",
    "Adapted from https://kylegodbey.github.io/nuclear-rbm/ho/1dHO.html with permision of Eric Flynn\n",
    "\n",
    "### Background\n",
    "\n",
    "Let us consider the Schrodinger equation for the 1-d Harmonic Oscillator:\n",
    "\n",
    "\\begin{align}\n",
    "&\\Big(- \\frac{d^{2}}{dx^{2}} + V_\\alpha (x)  - \\lambda \\Big) \\phi = 0, \\\\\n",
    "\\end{align}\n",
    "where $V_\\alpha(x)=\\alpha x^{2}$. This equation can be written a\n",
    "\n",
    "\\begin{align}\n",
    "&F_{\\alpha}\\Big[ \\phi_{\\alpha}(x) \\Big] = H_\\alpha\\phi - \\lambda \\phi=0 \n",
    "\\end{align}\n",
    " where $\\lambda = 2 m E$ is the eigenvalue with energy $E$ and $\\alpha = m^{2} \\omega^{2}$ is the harmonic oscilation parameter with oscilation frequency $\\omega$. We want to implement an algorithm in a quantum circuit to find solutions to this equation for many values of the parameter $\\alpha$. The currently available quantum computing systems have a very limited amount of qubits, for example, 7 in the case of the free version of the IBM services. This might make it problematic to implement such Schrodinger's equation in a finite element method approach since we would need to store the state $\\phi$ as a tall vector with many entries (usually 1,000 or more), which is not possible to directly represent with only 7 qubits.\n",
    " \n",
    "We approximate this equation using dimensionality reduction techniques, such as the Reduced Basis Method [CITE SOME BOOKS], as was done in [CITE OUR PAPER]. These techniques aim at reducing the redundant, or unnecessary, degrees of freedom of the system from many thousand to just a handful. This is done by first restricting the solution to the equation to lay in the span of a basis of $n$ states:\n",
    "\\begin{align}\n",
    "\\hat{\\phi}_{\\alpha}(x) = \\sum_{i=1}^{n} a_{i} \\phi_{i}(x) \n",
    "\\end{align}\n",
    "where $\\phi_{i}(x)$ are informed on previous solutions built on a classical computer to the Schrodinger equation for chosen values of $\\alpha$."
   ]
  },
  {
   "cell_type": "code",
   "execution_count": 1,
   "id": "3cac9aec",
   "metadata": {},
   "outputs": [],
   "source": [
    "import numpy as np\n",
    "import scipy as sci\n",
    "from scipy import optimize\n",
    "from scipy import special\n",
    "import matplotlib.pyplot as plt"
   ]
  },
  {
   "cell_type": "markdown",
   "id": "67506445",
   "metadata": {},
   "source": [
    "We first define some helper functions to return things like the potentials and Hamiltonian."
   ]
  },
  {
   "cell_type": "code",
   "execution_count": 2,
   "id": "b60a287c",
   "metadata": {},
   "outputs": [],
   "source": [
    "### NOTE: hbar = 1 in this demo\n",
    "### First define exact solutions to compare numerical solutions to.\n",
    "def V(x,alpha):\n",
    "    '''\n",
    "    1-d harmonic Oscillator potential\n",
    "\n",
    "    Parameters\n",
    "    ----------\n",
    "    x : float or nd array\n",
    "        position.\n",
    "    alpha : float\n",
    "        oscillator length parameter.\n",
    "\n",
    "    Returns\n",
    "    -------\n",
    "    float or ndarray\n",
    "        value of potential evaluated at x.\n",
    "\n",
    "    '''\n",
    "    return alpha*x**2\n",
    "def construct_H(V,grid,mass,alpha):\n",
    "    '''\n",
    "    Uses 2nd order finite difference scheme to construct a discretized differential H operator\n",
    "    Note: mass is fixed to 1 for this demo.\n",
    "\n",
    "    Parameters\n",
    "    ----------\n",
    "    V : TYPE\n",
    "        DESCRIPTION.\n",
    "        \n",
    "    alpha : TYPE\n",
    "        oscillator parameter alpha used in V(x) = alpha*x**2.\n",
    "\n",
    "    Returns\n",
    "    -------\n",
    "    H : ndarray\n",
    "        2d numpy array\n",
    "    '''\n",
    "    dim = len(grid)\n",
    "    off_diag = np.zeros(dim)\n",
    "    off_diag[1] = 1\n",
    "    H = -1*(-2*np.identity(dim) + sci.linalg.toeplitz(off_diag))/(mass*h**2) + np.diag(V(grid,alpha))\n",
    "    return H\n",
    "def solve(H,grid,h):\n",
    "    '''\n",
    "    Parameters\n",
    "    ----------\n",
    "    H : 2d ndarray\n",
    "        Hamiltonian Matrix.\n",
    "    grid : ndarray\n",
    "        Discretized 1d domain.\n",
    "    h : float\n",
    "        grid spacing.\n",
    "\n",
    "    Returns\n",
    "    -------\n",
    "    evals : ndarray\n",
    "        returns nd array of eigenvalues of H. \n",
    "    evects : ndarray\n",
    "        returns ndarray of eigenvectors of H.\n",
    "    Eigenvalues and eigenvectors are ordered in ascending order. \n",
    "    '''\n",
    "    evals,evects = np.linalg.eigh(H)\n",
    "    evects = evects.T\n",
    "    for i,evect in enumerate(evects):\n",
    "        #norm = np.sqrt(1/sci.integrate.simpson(evect*evect,grid))\n",
    "        norm = 1/(np.linalg.norm(np.dot(evect,evect)))\n",
    "        evects[i] = evects[i]*norm\n",
    "    return evals,evects\n",
    "\n",
    "def getSystem(H,psi_array,phi_array):\n",
    "    '''\n",
    "    Sets up system of equations for Galerkin projection <\\phi_{j},F_{k}(phi_{k})>\n",
    "\n",
    "    Parameters\n",
    "    ----------\n",
    "    H : ndarray\n",
    "        Hamiltonian matrix.\n",
    "    psi_array : ndarray\n",
    "        array of projector functions. Assumes rows are corresponding to discretized functions\n",
    "    phi_array : TYPE\n",
    "        DESCRIPTION.\n",
    "\n",
    "    Returns\n",
    "    -------\n",
    "    Function\n",
    "        Function that takes in a vector of parameters of the form (a_{1},a_{2},....,\\lambda_{\\alpha}) \n",
    "        and outputs of the system of equations. \\lambda_{\\alpha} is the eigenvalue of HO equation.\n",
    "    '''\n",
    "    ## \n",
    "    def system(a_vec):\n",
    "        '''\n",
    "        Parameters\n",
    "        ----------\n",
    "        a_vec : ndarray\n",
    "            vector of parameters (a_{k},\\lambda).\n",
    "\n",
    "        Returns\n",
    "        -------\n",
    "        results : ndarray\n",
    "            outputs of the Galerkin projection equations and normalization functions <\\hat{\\phi}|\\hat{\\phi}> = 1.\n",
    "            This systems can be solved using sci.optimize.fsolve or using your choice of method.\n",
    "        '''\n",
    "        results = np.zeros(len(a_vec))\n",
    "        results[-1] = -1 # from normalization\n",
    "        for i in np.arange(0,len(a_vec)-1,1):\n",
    "            for k in np.arange(0,len(a_vec)-1,1):\n",
    "                results[i] += a_vec[k]*np.dot(psi_array[i],np.matmul(H,phi_array[k])) - \\\n",
    "                a_vec[-1]*a_vec[k]*np.dot(psi_array[i],phi_array[k])\n",
    "        for k in np.arange(0,len(a_vec)-1,1):\n",
    "            for kp in np.arange(0,len(a_vec)-1,1):\n",
    "                results[-1] += a_vec[kp]*a_vec[k]*np.dot(psi_array[kp],phi_array[k])\n",
    "        return results\n",
    "    return system"
   ]
  },
  {
   "cell_type": "markdown",
   "id": "800f2717",
   "metadata": {},
   "source": [
    "Now we can define some parameters of our system, including our mesh."
   ]
  },
  {
   "cell_type": "code",
   "execution_count": 4,
   "id": "7fce6930",
   "metadata": {},
   "outputs": [
    {
     "name": "stdout",
     "output_type": "stream",
     "text": [
      "Number of grid points:  2001\n"
     ]
    }
   ],
   "source": [
    "#First define global variables\n",
    "h = 10**(-2) ### grid spacing for domain (Warning around 10**(-3) it starts to get slow).\n",
    "### HO global parameters \n",
    "n = 0 # principle quantum number to solve in HO\n",
    "mass = 1.0 # mass for the HO system\n",
    "# define the domain boundaries\n",
    "x_a = -10 # left boundary \n",
    "x_b = 10 # right boundary \n",
    "x_array = np.arange(x_a,x_b+h,h)\n",
    "m = len(x_array) \n",
    "print('Number of grid points: ',m)"
   ]
  },
  {
   "cell_type": "markdown",
   "id": "70bb0fe1",
   "metadata": {},
   "source": [
    "First select a set of values of $\\alpha$ to solve the SE with. These solutions will be used as the basis in the reduced basis model."
   ]
  },
  {
   "cell_type": "code",
   "execution_count": 5,
   "id": "dccef495",
   "metadata": {},
   "outputs": [],
   "source": [
    "# Select alpha values to use to solve SE exactly.\n",
    "alpha_vals = [.5,1,2,5,15]  #Here, we choose 3 values of alpha to solve exactly. This results in 3 basis functions\n",
    "# initialize solution arrays. T is the matrix that will hold wavefunction solutions. \n",
    "# T has the form T[i][j], i = alpha, j = solution components\n",
    "T = np.zeros((len(alpha_vals),m)) \n",
    "# T_evals holds the eigenvalues for each evect in T. \n",
    "T_evals = np.zeros(len(alpha_vals))"
   ]
  },
  {
   "cell_type": "code",
   "execution_count": 6,
   "id": "02325460",
   "metadata": {},
   "outputs": [
    {
     "name": "stdout",
     "output_type": "stream",
     "text": [
      "alpha = 0.5, lambda = 0.7071036561722082\n",
      "alpha = 1, lambda = 0.9999937499607756\n",
      "alpha = 2, lambda = 1.4142010622630583\n",
      "alpha = 5, lambda = 2.236036727063778\n",
      "alpha = 15, lambda = 3.872889593938531\n"
     ]
    },
    {
     "data": {
      "image/png": "[encoded data removed]",
      "text/plain": [
       "<Figure size 360x216 with 1 Axes>"
      ]
     },
     "metadata": {
      "needs_background": "light"
     },
     "output_type": "display_data"
    }
   ],
   "source": [
    "for i,alpha_sample in enumerate(alpha_vals):\n",
    "    H = construct_H(V,x_array,mass,alpha_sample) # construct the Hamiltonian matrix for given alpha_sample.\n",
    "    evals, evects = solve(H,x_array,h) # solve the system for evals and evects.\n",
    "    T[i] = evects[n]/np.linalg.norm(evects[n]) # assign the nth evect to solution array T\n",
    "    T_evals[i] = evals[n] # assign the nth eigenvalue to the eigenvalue array T_eval.\n",
    "    print(f'alpha = {alpha_sample}, lambda = {evals[n]}')\n",
    "    \n",
    "\n",
    "    \n",
    "\n",
    "# Make plots of the numerical wavefunction \n",
    "fig, ax = plt.subplots(1,1,figsize=(5,3))\n",
    "for i in range(len(alpha_vals)):\n",
    "    \n",
    "    ax.plot(x_array,(T[i]),label=r'$\\alpha$ = '+str(alpha_vals[i]))\n",
    "\n",
    "ax.set_title('Numerical solutions')\n",
    "\n",
    "ax.legend()\n",
    "\n",
    "plt.show()\n",
    "\n"
   ]
  },
  {
   "cell_type": "markdown",
   "id": "01756f6a",
   "metadata": {},
   "source": [
    "Creating an orthonormal basis of two elements and checking that our problem is well behaved (exemplified by a fast decay in singular values)"
   ]
  },
  {
   "cell_type": "code",
   "execution_count": 8,
   "id": "81365315",
   "metadata": {},
   "outputs": [
    {
     "data": {
      "image/png": "[encoded data removed]",
      "text/plain": [
       "<Figure size 864x288 with 2 Axes>"
      ]
     },
     "metadata": {
      "needs_background": "light"
     },
     "output_type": "display_data"
    }
   ],
   "source": [
    "U, s, Vh = np.linalg.svd(T)\n",
    "phi1=-1*Vh[0] #multiplying by -1 so they are positive at x=0, not necessary but the plots look better\n",
    "phi2=-1*Vh[1]\n",
    "n_comps = 2 # number of principle components to plot (i.e number of column vectors of SVD matrix V to plot)\n",
    "fig, ax = plt.subplots(1,2,figsize=(12,4))\n",
    "ax[0].semilogy(s/s[0],'o-')\n",
    "ax[0].set_title(r'Singular values of solution matrix $T$')\n",
    "ax[0].set_ylabel(r'$\\sigma$')\n",
    "\n",
    "ax[1].plot(x_array,phi1,label=str(1))\n",
    "ax[1].plot(x_array,phi2,label=str(2))\n",
    "ax[1].set_title(f'First {n_comps} principle components')\n",
    "ax[1].legend()\n",
    "plt.show()\n"
   ]
  },
  {
   "cell_type": "markdown",
   "id": "0ded3e36",
   "metadata": {},
   "source": [
    "We will now model an effective hamiltonian in which two \"particles\" interact, each one represents one of these two components."
   ]
  },
  {
   "cell_type": "markdown",
   "id": "8da842be",
   "metadata": {},
   "source": [
    "Here we explicitly construct $ \\hat{\\phi}_{\\alpha}= a_{1} \\phi_{1}+a_2\\phi_2$ and use the Galerkin method, that is, projecting $F_{\\alpha}\\big( \\hat{\\phi}_{\\alpha}(x) \\big)$ over $2$ linearly independent functions projecting functions $\\{ \\psi_{i}\\}_{i=1}^{2}$. \n",
    "\n",
    "\\begin{align}\n",
    "&\\langle \\psi{1}| F_{\\alpha}\\big( \\hat{\\phi}_{\\alpha}(x) \\big) \\rangle = 0 \\\\\n",
    "&\\langle \\psi{2}| F_{\\alpha}\\big( \\hat{\\phi}_{\\alpha}(x) \\big) \\rangle = 0 \n",
    "\\end{align}\n",
    "\n",
    "We can interpret this as enforcing the orthogonality of $F_{\\alpha}\\big( \\hat{\\phi}_{\\alpha}(x) \\big)$ to the subspace spanned by $\\{\\psi_{i}\\}$ that is, by finding $\\hat{\\phi}_{\\alpha}$ such that $F_{\\alpha}(\\hat{\\phi}_{\\alpha})$ is approximately zero up to the ability of the set $\\{\\psi_{i}\\}$. The choice of projecting functions $\\{ \\psi_{i} \\}$ is arbitrary, but here we choose the solution set $\\{ \\phi_{i} \\}$ to be our projecting functions to make our lives easier. Since $\\lambda$ is also unknown, we need an additional equation. This comes from the normalization conditions:\n",
    "\n",
    "\\begin{align}\n",
    "\\langle \\hat{\\phi}_{\\alpha_{k}}|\\hat{\\phi}_{\\alpha_{k}} \\rangle  = 1\n",
    "\\end{align}\n",
    "\n",
    "We can re-write the projecting equations taking advantage of the linear form of $F_\\alpha$ to obtain an effective 2-level system Hamiltonian. We note that:\n",
    "\n",
    "\\begin{align}\n",
    "&\\langle \\phi_{i}| F_{\\alpha}\\big( \\hat{\\phi}_{\\alpha}(x) \\big) \\rangle =  \\\\\n",
    "&\\langle \\phi_{i}|  a_1 H_\\alpha \\phi_1 + a_2 H_\\alpha \\phi_2 - a_1\\hat \\lambda \\phi_1 - a_2\\hat \\lambda \\phi_2\\rangle\n",
    "\\end{align}\n",
    "\n",
    "Since $\\langle \\phi_i|\\phi_j\\rangle = \\delta _{i,j}$, we arrive at the following matrix equation for the projecting equations:\n",
    "\n",
    "\\begin{equation}\n",
    "\\tilde H_\\alpha |a\\rangle = \\hat\\lambda |a\\rangle\n",
    "\\end{equation}\n",
    "\n",
    "where $|a\\rangle = \\{a_1,a_2\\}$ and \n",
    "\n",
    "\\begin{equation}\n",
    "\\tilde H_\\alpha = \\begin{bmatrix} \\langle \\phi_1|H_\\alpha|\\phi_1\\rangle & \\langle \\phi_1|H_\\alpha|\\phi_2\\rangle \\\\ \\langle \\phi_2|H_\\alpha|\\phi_1\\rangle & \\langle \\phi_2|H_\\alpha|\\phi_2\\rangle \\end{bmatrix}\n",
    "\\end{equation}\n",
    "\n",
    "while the normalization condition translates into:\n",
    "\n",
    "\\begin{equation}\n",
    "\\langle a|a \\rangle  = a_1^2+a_2^2= 1\n",
    "\\end{equation}\n",
    "\n",
    "\n",
    "Now we proceed to construct this Hamiltonian matrix for our problem at hand. We note that although $\\tilde H_\\alpha$ depends on $\\alpha$, the dependance is only in the potential part and it is affine (linear): $H_\\alpha=H_0+\\alpha H_1$, where $H_0= - \\frac{d^{2}}{dx^{2}}$ and $H_1= x^2$. We then decompose $\\tilde H_\\alpha= \\tilde H_0 + \\alpha \\tilde H_1$. We now construct these matrices:"
   ]
  },
  {
   "cell_type": "code",
   "execution_count": 9,
   "id": "d0d0c6cf",
   "metadata": {},
   "outputs": [
    {
     "name": "stdout",
     "output_type": "stream",
     "text": [
      "[[ 0.7770897  -1.24211884]\n",
      " [-1.24211884  4.31476477]]\n",
      "[[0.33403818 0.51577806]\n",
      " [0.51577806 1.5018725 ]]\n"
     ]
    }
   ],
   "source": [
    "dim0 = len(x_array)\n",
    "off_diag = np.zeros(dim0)\n",
    "off_diag[1] = 1\n",
    "\n",
    "H0=-1*(-2*np.identity(dim0) + sci.linalg.toeplitz(off_diag))/(mass*h**2) \n",
    "H1=np.diag(V(x_array,1))\n",
    "\n",
    "tildeH0=np.array([[0.0,0.0],[0.0,0.0]])\n",
    "tildeH1=np.array([[0.0,0.0],[0.0,0.0]])\n",
    "\n",
    "tildeH0[0][0]=np.dot(phi1,np.dot(H0,phi1))\n",
    "tildeH0[0][1]=np.dot(phi1,np.dot(H0,phi2))\n",
    "tildeH0[1][0]=np.dot(phi2,np.dot(H0,phi1))\n",
    "tildeH0[1][1]=np.dot(phi2,np.dot(H0,phi2))\n",
    "\n",
    "tildeH1[0][0]=np.dot(phi1,np.dot(H1,phi1))\n",
    "tildeH1[0][1]=np.dot(phi1,np.dot(H1,phi2))\n",
    "tildeH1[1][0]=np.dot(phi2,np.dot(H1,phi1))\n",
    "tildeH1[1][1]=np.dot(phi2,np.dot(H1,phi2))\n",
    "\n",
    "print(tildeH0)\n",
    "print(tildeH1)\n"
   ]
  },
  {
   "cell_type": "markdown",
   "id": "9fdb3590",
   "metadata": {},
   "source": [
    "With these two Hamiltonians, we can then combine them according to the equation above via these helper functions."
   ]
  },
  {
   "cell_type": "code",
   "execution_count": 10,
   "id": "c93d4a91",
   "metadata": {},
   "outputs": [],
   "source": [
    "def tildeH(alpha):\n",
    "    return tildeH0+alpha*tildeH1\n",
    "\n",
    "def systemSolver(alpha):\n",
    "    resultssystem= np.linalg.eig(tildeH(alpha))\n",
    "    if resultssystem[1][0][0]<0:\n",
    "        resultssystem[1][0]=resultssystem[1][0]*(-1)\n",
    "    if resultssystem[1][1][0]<0:\n",
    "        resultssystem[1][1]=resultssystem[1][1]*(-1)   \n",
    "    return resultssystem\n",
    "\n",
    "def phibuilder(alpha):\n",
    "    coefficients=systemSolver(alpha)[1][0]\n",
    "    return coefficients[0]*phi1+coefficients[1]*phi2"
   ]
  },
  {
   "cell_type": "markdown",
   "id": "2fb7a080",
   "metadata": {},
   "source": [
    "Let's print out our total Hamiltonian given $\\alpha=3$"
   ]
  },
  {
   "cell_type": "code",
   "execution_count": 14,
   "id": "77b5347f",
   "metadata": {},
   "outputs": [
    {
     "data": {
      "text/plain": [
       "array([[1.77920424, 0.30521534],\n",
       "       [0.30521534, 8.82038225]])"
      ]
     },
     "execution_count": 14,
     "metadata": {},
     "output_type": "execute_result"
    }
   ],
   "source": [
    "tildeH(3)"
   ]
  },
  {
   "cell_type": "markdown",
   "id": "3e08c009",
   "metadata": {},
   "source": [
    "Looks great! Now we can compute the coefficients of our basis functions via direct diagonalization, again with $\\alpha=3$."
   ]
  },
  {
   "cell_type": "code",
   "execution_count": 21,
   "id": "db1414d6",
   "metadata": {},
   "outputs": [
    {
     "name": "stdout",
     "output_type": "stream",
     "text": [
      "Eigenvalues:  [1.76599878 8.83358772]\n",
      "a1 Coefficient:  0.999065336295417\n",
      "a2 Coefficient:  0.04322561524056573\n"
     ]
    }
   ],
   "source": [
    "solution = systemSolver(3)\n",
    "print(\"Eigenvalues: \", solution[0])\n",
    "print(\"a1 Coefficient: \",solution[1][0][0])\n",
    "print(\"a2 Coefficient: \",solution[1][0][1])"
   ]
  },
  {
   "cell_type": "markdown",
   "id": "0b980930",
   "metadata": {},
   "source": [
    "Now we try our solution solver against the finite element computation to see how well our RBM solution is doing."
   ]
  },
  {
   "cell_type": "code",
   "execution_count": 16,
   "id": "a6495d62",
   "metadata": {},
   "outputs": [
    {
     "name": "stdout",
     "output_type": "stream",
     "text": [
      "alpha = 3, lambda = 1.7320320573669001\n"
     ]
    },
    {
     "data": {
      "image/png": "[encoded data removed]",
      "text/plain": [
       "<Figure size 360x216 with 1 Axes>"
      ]
     },
     "metadata": {
      "needs_background": "light"
     },
     "output_type": "display_data"
    }
   ],
   "source": [
    "# Now we can construct our RBM for an alpha of our choosing. \n",
    "alpha_k = 3\n",
    "solGaler=phibuilder(alpha_k)\n",
    "lamGaler=systemSolver(alpha_k)[0][0]\n",
    "\n",
    "alpha_vals = [alpha_k]  \n",
    "\n",
    "T = np.zeros((len(alpha_vals),m)) \n",
    " \n",
    "T_evals = np.zeros(len(alpha_vals))\n",
    "\n",
    "for i,alpha_sample in enumerate(alpha_vals):\n",
    "    H = construct_H(V,x_array,mass,alpha_sample) # construct the Hamiltonian matrix for given alpha_sample.\n",
    "    evals, evects = solve(H,x_array,h) # solve the system for evals and evects.\n",
    "    T[i] = evects[n]/np.linalg.norm(evects[n]) # assign the nth evect to solution array T\n",
    "    T_evals[i] = evals[n] # assign the nth eigenvalue to the eigenvalue array T_eval.\n",
    "    print(f'alpha = {alpha_sample}, lambda = {evals[n]}')\n",
    "    \n",
    "\n",
    "    \n",
    "\n",
    "# Make plots of the numerical wavefunction \n",
    "fig, ax = plt.subplots(1,1,figsize=(5,3))\n",
    "for i in range(len(alpha_vals)):\n",
    "    \n",
    "    ax.plot(x_array,(T[i]),label= r'Finite element $\\alpha$ = '+str(alpha_vals[i]))\n",
    "\n",
    "ax.plot(x_array,(phi1),label=r'Galerkin $\\alpha$ = '+str(alpha_vals[i]))    \n",
    "    \n",
    "\n",
    "ax.set_title('Numerical solutions')\n",
    "\n",
    "ax.legend()\n",
    "\n",
    "plt.show()\n",
    "\n"
   ]
  },
  {
   "cell_type": "markdown",
   "id": "666cdd57",
   "metadata": {},
   "source": [
    "Excellent! Of course, if we take more basis functions we will better reproduce the finite element solution, but the procedure remains largely the same. Now that we've laid the groundwork for representing our complicated coordinate space problems in a natural reduced basis, we can explore how this translates to a representation on a quantum computer."
   ]
  }
 ],
 "metadata": {
  "kernelspec": {
   "display_name": "Python 3.10.4 64-bit",
   "language": "python",
   "name": "python3"
  },
  "language_info": {
   "codemirror_mode": {
    "name": "ipython",
    "version": 3
   },
   "file_extension": ".py",
   "mimetype": "text/x-python",
   "name": "python",
   "nbconvert_exporter": "python",
   "pygments_lexer": "ipython3",
   "version": "3.10.4"
  },
  "vscode": {
   "interpreter": {
    "hash": "e7370f93d1d0cde622a1f8e1c04877d8463912d04d973331ad4851f04de6915a"
   }
  }
 },
 "nbformat": 4,
 "nbformat_minor": 5
}
