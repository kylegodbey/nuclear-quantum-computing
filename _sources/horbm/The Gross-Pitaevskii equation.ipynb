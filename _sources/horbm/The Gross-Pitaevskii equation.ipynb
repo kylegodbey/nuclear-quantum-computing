{
 "cells": [
  {
   "cell_type": "markdown",
   "id": "0a6fa0af",
   "metadata": {},
   "source": [
    "# Final challenge: Solving the Gross-Pitaevskii Equation\n",
    "\n",
    "Parts adapted from https://arxiv.org/pdf/2203.05284.pdf with permission from the authors.\n",
    "\n",
    "### Background\n",
    "\n",
    "The [Gross](https://link.springer.com/article/10.1007/BF02731494)-[Pitaevskii](http://jetp.ras.ru/cgi-bin/dn/e_013_02_0451.pdf) (GP) equation (also [here](https://epubs.siam.org/doi/10.1137/20M1313106) for a RBM application) is a nonlinear Schrödinger equation that approximately describes the low-energy properties of dilute Bose-Einstein condensates. Using a self-consistent mean field approximation, the many-body wavefunction is reduced to a description in terms of a single complex-valued wavefunction $\\phi(\\vec{r})$. We work with the [one-dimensional Gross-Pitaevskii equation](https://journals.aps.org/pra/abstract/10.1103/PhysRevA.62.063610) with a harmonic trapping potential by letting $F_\\alpha$ be:\n",
    "\n",
    "\\begin{equation}\n",
    "  F_{q,\\kappa}(\\phi)= -\\phi''+\\kappa x^2\\phi+q|\\phi|^2\\phi-\\lambda_{q,\\kappa}\\phi=0,\n",
    "\\end{equation}\n",
    "where the parameters are now $\\alpha=\\{\\kappa, q\\}$, which are proportional to the strength of the harmonic trapping and the self-coupling of the wavefunction,respectively, while $\\lambda_{q,\\kappa}$ is proportional to the ground state energ. $\\phi(x)$ is a single variable function that depends on $x$ and it is normalized to unity.\n",
    "\n",
    "To be able to solve this problem in a quantum computer with few qbits we follow the same procedure as with the Harmonic Oscillator problem and cast the equations in the reduced basis. We once again expand our solution in a basis of $n$ elements:\n",
    "\\begin{align}\n",
    "\\hat{\\phi}_{\\alpha}(x) = \\sum_{i=1}^{n} a_{i} \\phi_{i}(x) \n",
    "\\end{align}\n",
    "where $\\phi_{i}(x)$ are informed on previous solutions built on a classical computer to the non-linear Schrodinger equation for chosen values of $\\alpha=\\{\\kappa,q\\}$. \n",
    "\n",
    "The main challenge now resides in the fact that we can't write $F_{\\alpha}$ in terms of linear operators since the \"Hamiltonian\" is dependent on the actual solution $\\phi(x)$: $H_\\alpha \\equiv H_\\alpha[\\phi]=(-\\frac{d^2}{dx^2}+\\kappa x^2 +q|\\phi|^2)$. The Galerkin projection equations are general enough that this problem can be [tackled directly](https://arxiv.org/pdf/2203.05284.pdf), which leads to a series of non-linear equations (up to fourth powers) in the unknown coefficients $a_i$ and the approximated eigenvalue $\\hat\\lambda$. \n",
    "\n",
    "In order to tackle this problem in a quantum circuit with the machinery we have developed up to this point we propose an approach that allows one to avoid having to solve a non-linear problem by instead solving a linear one many times in an iteratively scheme. This is the approach frequently used in many Density Functional Theory implementations [CITE]. We make a guess, which we call $\\phi_0$, on the solution of the original non-linear problem. We now iteratively find the solution $\\phi_{n}$ to a linear Schrodinger equation with Hamiltonian $H_\\alpha[\\phi_{n-1}]$. If the original guess $\\phi_0$ was close enough to the true solution, then with enough iterations we should reach self consistency and obtain a wave function such that $F_\\alpha [\\phi]= H_\\alpha[\\phi]\\phi -\\lambda \\phi=0$. \n",
    "\n",
    "In the following we implement this iterative approach to solve the GP equation first in a classical computer, using a basis with two states. We then proceed to design solution for a quantum computer."
   ]
  },
  {
   "cell_type": "code",
   "execution_count": 7,
   "id": "3cac9aec",
   "metadata": {},
   "outputs": [],
   "source": [
    "import numpy as np\n",
    "import scipy as sci\n",
    "from scipy import optimize\n",
    "from scipy import special\n",
    "import matplotlib.pyplot as plt"
   ]
  },
  {
   "cell_type": "code",
   "execution_count": 8,
   "id": "b60a287c",
   "metadata": {},
   "outputs": [],
   "source": [
    "### NOTE: hbar = 1 in this demo\n",
    "\n",
    "def V(x,kappa):\n",
    "    '''\n",
    "    1-d harmonic Oscillator potential\n",
    "\n",
    "    Parameters\n",
    "    ----------\n",
    "    x : float or nd array\n",
    "        position.\n",
    "    alpha : float\n",
    "        oscillator length parameter.\n",
    "\n",
    "    Returns\n",
    "    -------\n",
    "    float or ndarray\n",
    "        value of potential evaluated at x.\n",
    "\n",
    "    '''\n",
    "    return kappa*x**2\n",
    "\n",
    "\n",
    " \n",
    "\n",
    "def construct_H(grid,mass,kappa,q,PHIgrid):\n",
    "   #PHIgrid is the value of the guess for the nonlinear part at each location\n",
    "    dim = len(grid)\n",
    "    off_diag = np.zeros(dim)\n",
    "    off_diag[1] = 1\n",
    "    H = -1*(-2*np.identity(dim) + sci.linalg.toeplitz(off_diag))/(mass*h**2) + np.diag(V(grid,kappa))+ q*np.diag(PHIgrid**2)\n",
    "    \n",
    "    return H\n",
    "\n",
    "\n"
   ]
  },
  {
   "cell_type": "code",
   "execution_count": 22,
   "id": "ad22c320",
   "metadata": {},
   "outputs": [
    {
     "name": "stdout",
     "output_type": "stream",
     "text": [
      "Number of grid points:  201\n"
     ]
    }
   ],
   "source": [
    "#First define global variables\n",
    "h =  1*10**(-1) ### grid spacing for domain (Warning around 10**(-3) it starts to get slow).\n",
    "### HO global parameters \n",
    "n = 0 # principle quantum number to solve in HO\n",
    "mass = 1.0 # mass for the HO system\n",
    "# define the domain boundaries\n",
    "x_a = -10 # left boundary \n",
    "x_b = 10 # right boundary \n",
    "x_array = np.arange(x_a,x_b+h,h)\n",
    "m = len(x_array) \n",
    "print('Number of grid points: ',m)\n",
    "\n",
    "\n",
    "def solve(H,grid,h):\n",
    "    '''\n",
    "    Parameters\n",
    "    ----------\n",
    "    H : 2d ndarray\n",
    "        Hamiltonian Matrix.\n",
    "    grid : ndarray\n",
    "        Discretized 1d domain.\n",
    "    h : float\n",
    "        grid spacing.\n",
    "\n",
    "    Returns\n",
    "    -------\n",
    "    evals : ndarray\n",
    "        returns nd array of eigenvalues of H. \n",
    "    evects : ndarray\n",
    "        returns ndarray of eigenvectors of H.\n",
    "    Eigenvalues and eigenvectors are ordered in ascending order. \n",
    "    '''\n",
    "    evals,evects = np.linalg.eigh(H)\n",
    "    evects = evects.T\n",
    "    for i,evect in enumerate(evects):\n",
    "        #norm = np.sqrt(1/sci.integrate.simpson(evect*evect,grid))\n",
    "        norm = 1/(np.linalg.norm(evect))  #We need to check these normalizations in the other jupyter book!\n",
    "        evects[i] = evects[i]*norm/np.sqrt(h)\n",
    "    return evals,evects\n",
    "\n",
    "\n",
    "def IterativeSolver(grid,q,kappa,maxIterations):\n",
    "    Hn = construct_H(grid,1,kappa,0,np.zeros(len(x_array))) # First Hamiltonian with the q interaction put to zero\n",
    "    PHIn=solve(Hn,grid,h)[1][0]\n",
    "    ListOfPhiOlds=[np.copy(PHIn),np.copy(PHIn),np.copy(PHIn),np.copy(PHIn),np.copy(PHIn),np.copy(PHIn)]\n",
    "    \n",
    "    for IJ in range(maxIterations):\n",
    "        if IJ<maxIterations/2:\n",
    "            qeff=q*(IJ/maxIterations)*2\n",
    "        else:\n",
    "            qeff=q\n",
    "        Hn=construct_H(grid,1,kappa,qeff,(ListOfPhiOlds[-1]+ListOfPhiOlds[-2]+ListOfPhiOlds[-3]+ListOfPhiOlds[-4]+ListOfPhiOlds[-5]+ListOfPhiOlds[-6])/6.0)\n",
    "        SOL=solve(Hn,grid,h)\n",
    "        \n",
    "        PHIn=SOL[1][0]\n",
    "        ListOfPhiOlds.append(np.copy(PHIn))\n",
    "        \n",
    "        \n",
    "            \n",
    "    # print(\"max iterations:\" ,IJ) \n",
    "    # return ListOfPhiOlds\n",
    "    return SOL\n",
    "    \n",
    "    \n",
    "\n",
    "\n",
    "\n",
    "\n",
    "def getSystem(H,psi_array,phi_array):\n",
    "    '''\n",
    "    Sets up syetem of equations for Galerkin projection <\\phi_{j},F_{k}(phi_{k})>\n",
    "\n",
    "    Parameters\n",
    "    ----------\n",
    "    H : ndarray\n",
    "        Hamiltonian matrix.\n",
    "    psi_array : ndarray\n",
    "        array of projector functions. Assumes rows are corresponding to discretized functions\n",
    "    phi_array : TYPE\n",
    "        DESCRIPTION.\n",
    "\n",
    "    Returns\n",
    "    -------\n",
    "    Function\n",
    "        Function that takes in a vector of parameters of the form (a_{1},a_{2},....,\\lambda_{\\alpha}) \n",
    "        and outputs of the system of equations. \\lambda_{\\alpha} is the eigenvalue of HO equation.\n",
    "    '''\n",
    "    ## \n",
    "    def system(a_vec):\n",
    "        '''\n",
    "        Parameters\n",
    "        ----------\n",
    "        a_vec : ndarray\n",
    "            vector of parameters (a_{k},\\lambda).\n",
    "\n",
    "        Returns\n",
    "        -------\n",
    "        results : ndarray\n",
    "            outputs of the Galerkin projection equations and normalization functions <\\hat{\\phi}|\\hat{\\phi}> = 1.\n",
    "            This systems can be solved using sci.optimize.fsolve or using your choice of method.\n",
    "        '''\n",
    "        results = np.zeros(len(a_vec))\n",
    "        results[-1] = -1 # from normalization\n",
    "        for i in np.arange(0,len(a_vec)-1,1):\n",
    "            for k in np.arange(0,len(a_vec)-1,1):\n",
    "                results[i] += a_vec[k]*np.dot(psi_array[i],np.matmul(H,phi_array[k])) - \\\n",
    "                a_vec[-1]*a_vec[k]*np.dot(psi_array[i],phi_array[k])\n",
    "        for k in np.arange(0,len(a_vec)-1,1):\n",
    "            for kp in np.arange(0,len(a_vec)-1,1):\n",
    "                results[-1] += a_vec[kp]*a_vec[k]*np.dot(psi_array[kp],phi_array[k])\n",
    "        return results\n",
    "    return system\n",
    "\n",
    "    \n"
   ]
  },
  {
   "cell_type": "code",
   "execution_count": 23,
   "id": "7fce6930",
   "metadata": {},
   "outputs": [],
   "source": [
    "# #First define global variables\n",
    "# h = 5*10**(-2) ### grid spacing for domain (Warning around 10**(-3) it starts to get slow).\n",
    "# ### HO global parameters \n",
    "# n = 0 # principle quantum number to solve in HO\n",
    "# mass = 1.0 # mass for the HO system\n",
    "# # define the domain boundaries\n",
    "# x_a = -10 # left boundary \n",
    "# x_b = 10 # right boundary \n",
    "# x_array = np.arange(x_a,x_b+h,h)\n",
    "# m = len(x_array) \n",
    "# print('Number of grid points: ',m)\n"
   ]
  },
  {
   "cell_type": "code",
   "execution_count": 24,
   "id": "7806ead3",
   "metadata": {},
   "outputs": [
    {
     "data": {
      "image/png": "[encoded data removed]",
      "text/plain": [
       "<Figure size 432x288 with 1 Axes>"
      ]
     },
     "metadata": {
      "needs_background": "light"
     },
     "output_type": "display_data"
    },
    {
     "name": "stdout",
     "output_type": "stream",
     "text": [
      "4.022841278511245\n"
     ]
    }
   ],
   "source": [
    "solution0=IterativeSolver(x_array,0,1,1)\n",
    "solution=IterativeSolver(x_array,10,1,1000)\n",
    "\n",
    "\n",
    "plt.plot(x_array, solution0[1][0], color=\"blue\",label = 'q=0, kappa=1')\n",
    "plt.plot(x_array, abs(solution[1][0]), color=\"red\",label = 'q=10, kappa=1')\n",
    "plt.legend()\n",
    "plt.show()\n",
    "print(solution[0][0])"
   ]
  },
  {
   "cell_type": "markdown",
   "id": "70bb0fe1",
   "metadata": {},
   "source": [
    "First select a set of values of $\\alpha$ to solve the SE with. These solutions will be used as the basis in the reduced basis model."
   ]
  },
  {
   "cell_type": "code",
   "execution_count": 25,
   "id": "dccef495",
   "metadata": {},
   "outputs": [],
   "source": [
    "# Select alpha values to use to solve SE exactly.\n",
    "alpha_vals = [[0,1],[1,1],[0,2],[5,1],[10,1]]  #[q,kappa] Here, we choose 5 values of alpha to solve exactly. This results in 3 basis functions\n",
    "# initialize solution arrays. T is the matrix that will hold wavefunction solutions. \n",
    "# T has the form T[i][j], i = alpha, j = solution components\n",
    "T = np.zeros((len(alpha_vals),m)) \n",
    "# T_evals holds the eigenvalues for each evect in T. \n",
    "T_evals = np.zeros(len(alpha_vals))"
   ]
  },
  {
   "cell_type": "code",
   "execution_count": 26,
   "id": "02325460",
   "metadata": {},
   "outputs": [
    {
     "name": "stdout",
     "output_type": "stream",
     "text": [
      "alpha = [0, 1], lambda = 0.9993746086405191\n",
      "alpha = [1, 1], lambda = 1.3830689347074987\n",
      "alpha = [0, 2], lambda = 1.4129624545775832\n",
      "alpha = [5, 1], lambda = 2.6896595245510793\n",
      "alpha = [10, 1], lambda = 4.022841278511271\n"
     ]
    },
    {
     "data": {
      "image/png": "[encoded data removed]",
      "text/plain": [
       "<Figure size 360x216 with 1 Axes>"
      ]
     },
     "metadata": {
      "needs_background": "light"
     },
     "output_type": "display_data"
    }
   ],
   "source": [
    "for i,alpha_sample in enumerate(alpha_vals):\n",
    "    \n",
    "    evals, evects = IterativeSolver(x_array,alpha_sample[0],alpha_sample[1],700) # solve the system for evals and evects.\n",
    "    T[i] = evects[n]/np.linalg.norm(evects[n]) # assign the nth evect to solution array T\n",
    "    T_evals[i] = evals[n] # assign the nth eigenvalue to the eigenvalue array T_eval.\n",
    "    print(f'alpha = {alpha_sample}, lambda = {evals[n]}')\n",
    "    \n",
    "\n",
    "    \n",
    "\n",
    "# Make plots of the numerical wavefunction \n",
    "fig, ax = plt.subplots(1,1,figsize=(5,3))\n",
    "for i in range(len(alpha_vals)):\n",
    "    \n",
    "    ax.plot(x_array,(T[i]),label=r'$\\alpha$ = '+str(alpha_vals[i]))\n",
    "\n",
    "ax.set_title('Numerical solutions')\n",
    "\n",
    "ax.legend()\n",
    "\n",
    "plt.show()\n",
    "\n"
   ]
  },
  {
   "cell_type": "markdown",
   "id": "01756f6a",
   "metadata": {},
   "source": [
    "### Creating an orthonormal basis of two elements and checking that our problem is well behaved (fast decay in singular values)"
   ]
  },
  {
   "cell_type": "code",
   "execution_count": 27,
   "id": "81365315",
   "metadata": {},
   "outputs": [
    {
     "data": {
      "image/png": "[encoded data removed]",
      "text/plain": [
       "<Figure size 864x288 with 2 Axes>"
      ]
     },
     "metadata": {
      "needs_background": "light"
     },
     "output_type": "display_data"
    }
   ],
   "source": [
    "U, s, Vh = np.linalg.svd(T)\n",
    "phi1=-1*Vh[0] #multiplying by -1 so they are positive at x=0, not necessary but the plots look better\n",
    "phi2=1*Vh[1]\n",
    "n_comps = 2 # number of principle components to plot (i.e number of column vectors of SVD matrix V to plot)\n",
    "fig, ax = plt.subplots(1,2,figsize=(12,4))\n",
    "ax[0].semilogy(s/s[0],'o-')\n",
    "ax[0].set_title(r'Singular values of solution matrix $T$')\n",
    "ax[0].set_ylabel(r'$\\sigma$')\n",
    "\n",
    "ax[1].plot(x_array,phi1,label=str(1))\n",
    "ax[1].plot(x_array,phi2,label=str(2))\n",
    "ax[1].set_title(f'First {n_comps} principle components')\n",
    "ax[1].legend()\n",
    "plt.show()\n"
   ]
  },
  {
   "cell_type": "markdown",
   "id": "0ded3e36",
   "metadata": {},
   "source": [
    "### We will now model an effective hamiltonian in which two \"particles\" interact, each one represents one of these two components."
   ]
  },
  {
   "cell_type": "markdown",
   "id": "8da842be",
   "metadata": {},
   "source": [
    "This discussion retraces everything we did before for the Harmonic Oscillator. The main difference is that now the Hamiltonian effectively depends on the solution $H_\\alpha \\equiv H_\\alpha[\\phi]$, but since we are aiming at solving the problem iteratively, at each stage we have a fixed linear Hamiltonian.\n",
    "\n",
    "Here we explicitly construct $ \\hat{\\phi}_{\\alpha}= a_{1} \\phi_{1}+a_2\\phi_2$ and use the Galerkin method, that is, projecting $F_{\\alpha}\\big( \\hat{\\phi}_{\\alpha}(x) \\big)$ over $2$ linearly independent functions projecting functions $\\{ \\psi_{i}\\}_{i=1}^{2}$. \n",
    "\n",
    "\\begin{align}\n",
    "&\\langle \\psi{1}| F_{\\alpha}\\big( \\hat{\\phi}_{\\alpha}(x) \\big) \\rangle = 0 \\\\\n",
    "&\\langle \\psi{2}| F_{\\alpha}\\big( \\hat{\\phi}_{\\alpha}(x) \\big) \\rangle = 0 \n",
    "\\end{align}\n",
    "\n",
    "We can interpret this as enforcing the orthogonality of $F_{\\alpha}\\big( \\hat{\\phi}_{\\alpha}(x) \\big)$ to the subspace spanned by $\\{\\psi_{i}\\}$ that is, by finding $\\hat{\\phi}_{\\alpha}$ such that $F_{\\alpha}(\\hat{\\phi}_{\\alpha})$ is approximately zero up to the ability of the set $\\{\\psi_{i}\\}$. The choice of projecting functions $\\{ \\psi_{i} \\}$ is arbitrary, but here we choose the solution set $\\{ \\phi_{i} \\}$ to be our projecting functions to make our lives easier. Since $\\lambda$ is also unknown, we need an additional equation. This comes from the normalization conditions:\n",
    "\n",
    "\\begin{align}\n",
    "\\langle \\hat{\\phi}_{\\alpha_{k}}|\\hat{\\phi}_{\\alpha_{k}} \\rangle  = 1\n",
    "\\end{align}\n",
    "\n",
    "We can re-write the projecting equations taking advantage of the linear form of $F_\\alpha$ to obtain an effective 2-level system Hamiltonian. We note that:\n",
    "\n",
    "\\begin{align}\n",
    "&\\langle \\phi_{i}| F_{\\alpha}\\big( \\hat{\\phi}_{\\alpha}(x) \\big) \\rangle =  \\\\\n",
    "&\\langle \\phi_{i}|  a_1 H_\\alpha \\phi_1 + a_2 H_\\alpha \\phi_2 - a_1\\hat \\lambda \\phi_1 - a_2\\hat \\lambda \\phi_2\\rangle\n",
    "\\end{align}\n",
    "\n",
    "Since $\\langle \\phi_i|\\phi_j\\rangle = \\delta _{i,j}$, we arrive at the following matrix equation for the projecting equations:\n",
    "\n",
    "\\begin{equation}\n",
    "\\tilde H_\\alpha |a\\rangle = \\hat\\lambda |a\\rangle\n",
    "\\end{equation}\n",
    "\n",
    "where $|a\\rangle = \\{a_1,a_2\\}$ and \n",
    "\n",
    "\\begin{equation}\n",
    "\\tilde H_\\alpha = \\begin{bmatrix} \\langle \\phi_1|H_\\alpha|\\phi_1\\rangle & \\langle \\phi_1|H_\\alpha|\\phi_2\\rangle \\\\ \\langle \\phi_2|H_\\alpha|\\phi_1\\rangle & \\langle \\phi_2|H_\\alpha|\\phi_2\\rangle \\end{bmatrix}\n",
    "\\end{equation}\n",
    "\n",
    "while the normalization condition translates into:\n",
    "\n",
    "\\begin{equation}\n",
    "\\langle a|a \\rangle  = a_1^2+a_2^2= 1\n",
    "\\end{equation}\n",
    "\n",
    "\n",
    "Now we proceed to construct this Hamiltonian matrix for our problem at hand. We note that although $\\tilde H_\\alpha$ depennds on $\\alpha$, the dependance is only in the tow potential parts and it is affine (linear): $H_\\alpha=H_0+\\kappa H_1 +q H_2$, where $H_0= - \\frac{d^{2}}{dx^{2}}$, $H_1= x^2$, and $H_2=|\\phi(x)|^2$. We then decompose $\\tilde H_\\alpha= \\tilde H_0 + \\kappa \\tilde H_1+ q \\tilde H_2$. We now construct these matrices, $H_2$ being a function that must be constructed every time:"
   ]
  },
  {
   "cell_type": "code",
   "execution_count": 28,
   "id": "d0d0c6cf",
   "metadata": {},
   "outputs": [
    {
     "name": "stdout",
     "output_type": "stream",
     "text": [
      "H0= [[ 0.42023097 -0.58365092]\n",
      " [-0.58365092  2.61560759]]\n",
      "H1= [[0.59436083 0.82835933]\n",
      " [0.82835933 2.3627665 ]]\n",
      "H2= [[ 0.36584365 -0.13715205]\n",
      " [-0.13715205  0.16958109]]\n"
     ]
    }
   ],
   "source": [
    "dim0 = len(x_array)\n",
    "off_diag = np.zeros(dim0)\n",
    "off_diag[1] = 1\n",
    "\n",
    "H0=-1*(-2*np.identity(dim0) + sci.linalg.toeplitz(off_diag))/(mass*h**2) \n",
    "H1=np.diag(V(x_array,1))\n",
    "\n",
    "tildeH0=np.array([[0.0,0.0],[0.0,0.0]])\n",
    "tildeH1=np.array([[0.0,0.0],[0.0,0.0]])\n",
    "\n",
    "tildeH0[0][0]=np.dot(phi1,np.dot(H0,phi1))\n",
    "tildeH0[0][1]=np.dot(phi1,np.dot(H0,phi2))\n",
    "tildeH0[1][0]=np.dot(phi2,np.dot(H0,phi1))\n",
    "tildeH0[1][1]=np.dot(phi2,np.dot(H0,phi2))\n",
    "\n",
    "tildeH1[0][0]=np.dot(phi1,np.dot(H1,phi1))\n",
    "tildeH1[0][1]=np.dot(phi1,np.dot(H1,phi2))\n",
    "tildeH1[1][0]=np.dot(phi2,np.dot(H1,phi1))\n",
    "tildeH1[1][1]=np.dot(phi2,np.dot(H1,phi2))\n",
    "\n",
    "H2_11=np.diag(phi1**2)\n",
    "H2_12=np.diag(phi1*phi2)\n",
    "H2_22=np.diag(phi2**2)\n",
    "\n",
    "tildeH2_11=np.array([[0.0,0.0],[0.0,0.0]])\n",
    "tildeH2_11[0][0]=np.dot(phi1,np.dot(H2_11,phi1))\n",
    "tildeH2_11[0][1]=np.dot(phi1,np.dot(H2_11,phi2))\n",
    "tildeH2_11[1][0]=np.dot(phi2,np.dot(H2_11,phi1))\n",
    "tildeH2_11[1][1]=np.dot(phi2,np.dot(H2_11,phi2))\n",
    "\n",
    "\n",
    "\n",
    "\n",
    "tildeH2_12=np.array([[0.0,0.0],[0.0,0.0]])\n",
    "tildeH2_12[0][0]=np.dot(phi1,np.dot(H2_12,phi1))\n",
    "tildeH2_12[0][1]=np.dot(phi1,np.dot(H2_12,phi2))\n",
    "tildeH2_12[1][0]=np.dot(phi2,np.dot(H2_12,phi1))\n",
    "tildeH2_12[1][1]=np.dot(phi2,np.dot(H2_12,phi2))\n",
    "\n",
    "\n",
    "tildeH2_22=np.array([[0.0,0.0],[0.0,0.0]])\n",
    "tildeH2_22[0][0]=np.dot(phi1,np.dot(H2_22,phi1))\n",
    "tildeH2_22[0][1]=np.dot(phi1,np.dot(H2_22,phi2))\n",
    "tildeH2_22[1][0]=np.dot(phi2,np.dot(H2_22,phi1))\n",
    "tildeH2_22[1][1]=np.dot(phi2,np.dot(H2_22,phi2))\n",
    "\n",
    "def tildeH2(coeffs):\n",
    "    # H2=np.diag(PHIList**2)\n",
    "    \n",
    "    \n",
    "    # tildeH2=np.array([[0.0,0.0],[0.0,0.0]])\n",
    "\n",
    "    # tildeH2[0][0]=np.dot(phi1,np.dot(H2,phi1))\n",
    "    # tildeH2[0][1]=np.dot(phi1,np.dot(H2,phi2))\n",
    "    # tildeH2[1][0]=np.dot(phi2,np.dot(H2,phi1))\n",
    "    # tildeH2[1][1]=np.dot(phi2,np.dot(H2,phi2))\n",
    "    # return tildeH2\n",
    "\n",
    "\n",
    "    return (coeffs[0]**2*tildeH2_11+2*coeffs[0]*coeffs[1]*tildeH2_12+coeffs[1]**2*tildeH2_22)/h\n",
    "    \n",
    "\n",
    "\n",
    "\n",
    "print('H0=', tildeH0)\n",
    "print('H1=',tildeH1)\n",
    "\n",
    "print('H2=',tildeH2([1,0]))\n"
   ]
  },
  {
   "cell_type": "code",
   "execution_count": 96,
   "id": "c93d4a91",
   "metadata": {},
   "outputs": [],
   "source": [
    "def tildeH(alpha,coeffs):\n",
    "    return tildeH0+alpha[1]*tildeH1+alpha[0]*tildeH2(coeffs)\n",
    "\n",
    "def systemSolver(alpha,coeffs):\n",
    "    resultssystem= np.linalg.eig(tildeH(alpha,coeffs))\n",
    "    # if resultssystem[1][0][0]<0:\n",
    "    #     resultssystem[1][0]=resultssystem[1][0]*(-1)\n",
    "    # if resultssystem[1][1][0]<0:\n",
    "    #     resultssystem[1][1]=resultssystem[1][1]*(-1)   \n",
    "    return [resultssystem[0],np.transpose(resultssystem[1])]\n",
    "\n",
    "def phibuilderFromCoeffs(coefficients):\n",
    "    coefficients0=[coefficients[0]/(np.linalg.norm(coefficients))/np.sqrt(h),coefficients[1]/(np.linalg.norm(coefficients))/np.sqrt(h)]\n",
    "    return coefficients0[0]*phi1+coefficients0[1]*phi2\n",
    "\n",
    "def ItetariveRBMsolver(alpha,maxIterations):\n",
    "    sol0=systemSolver([0,alpha[1]],[1,0])\n",
    "    # sol0=systemSolver([alpha[0],alpha[1]],[0.9913,0.131144])\n",
    "    \n",
    "    ListOfPhiOlds=[np.copy(sol0[1][0]),np.copy(sol0[1][0]),np.copy(sol0[1][0]),np.copy(sol0[1][0]),np.copy(sol0[1][0]),np.copy(sol0[1][0])]\n",
    "    for IJ in range(maxIterations):\n",
    "        if IJ<maxIterations/2:\n",
    "        # if IJ<0:\n",
    "            qeff=alpha[0]*(IJ/maxIterations)*2\n",
    "        else:\n",
    "            qeff=alpha[0]\n",
    "        \n",
    "        sol0=systemSolver([qeff,alpha[1]],  \n",
    "        (ListOfPhiOlds[-1]+ListOfPhiOlds[-2]+ListOfPhiOlds[-3]+ListOfPhiOlds[-4]+ListOfPhiOlds[-5]+ListOfPhiOlds[-6])/6.0\n",
    "        )\n",
    "\n",
    "\n",
    "        ListOfPhiOlds.append(np.copy(sol0[1][0]))\n",
    "    return sol0\n",
    "\n",
    "\n"
   ]
  },
  {
   "cell_type": "code",
   "execution_count": 99,
   "id": "77b5347f",
   "metadata": {},
   "outputs": [
    {
     "name": "stdout",
     "output_type": "stream",
     "text": [
      "[array([3.25022029, 6.2374432 ]), array([[-0.9913355 , -0.13135421],\n",
      "       [ 0.13135421, -0.9913355 ]])]\n"
     ]
    }
   ],
   "source": [
    "print(ItetariveRBMsolver([7,1],1000))"
   ]
  },
  {
   "cell_type": "code",
   "execution_count": null,
   "id": "17756c10",
   "metadata": {},
   "outputs": [],
   "source": []
  },
  {
   "cell_type": "markdown",
   "id": "0b980930",
   "metadata": {},
   "source": [
    "Now we try our solution solver against the finite element computation:"
   ]
  },
  {
   "cell_type": "code",
   "execution_count": 100,
   "id": "9e38e6de",
   "metadata": {},
   "outputs": [],
   "source": [
    "# Now we can construct our RBM for an alpha of our choosing. \n",
    "alpha_k = [7,1]\n",
    "solFinite=IterativeSolver(x_array,alpha_k[0],alpha_k[1],1000)[1][0]"
   ]
  },
  {
   "cell_type": "code",
   "execution_count": 103,
   "id": "a6495d62",
   "metadata": {},
   "outputs": [
    {
     "data": {
      "image/png": "[encoded data removed]",
      "text/plain": [
       "<Figure size 360x216 with 1 Axes>"
      ]
     },
     "metadata": {
      "needs_background": "light"
     },
     "output_type": "display_data"
    }
   ],
   "source": [
    "\n",
    "solFull=ItetariveRBMsolver(alpha_k,1000)\n",
    "solGaler=phibuilderFromCoeffs(solFull[1][0])\n",
    "lamGaler=solFull[0][0]\n",
    "\n",
    "\n",
    "    \n",
    "\n",
    "# Make plots of the numerical wavefunction \n",
    "fig, ax = plt.subplots(1,1,figsize=(5,3))\n",
    "\n",
    "\n",
    "ax.plot(x_array,solFinite,label=r'Finite element method $\\alpha$ = '+str(alpha_k))\n",
    "ax.plot(x_array,-solGaler,label= r'Galerkin $\\alpha$ = '+str(alpha_k))\n",
    "\n",
    "ax.set_title('Numerical solutions')\n",
    "\n",
    "ax.legend()\n",
    "\n",
    "plt.show()\n",
    "\n"
   ]
  },
  {
   "cell_type": "code",
   "execution_count": null,
   "id": "920c330f",
   "metadata": {},
   "outputs": [],
   "source": []
  }
 ],
 "metadata": {
  "kernelspec": {
   "display_name": "Python 3.10.4 64-bit",
   "language": "python",
   "name": "python3"
  },
  "language_info": {
   "codemirror_mode": {
    "name": "ipython",
    "version": 3
   },
   "file_extension": ".py",
   "mimetype": "text/x-python",
   "name": "python",
   "nbconvert_exporter": "python",
   "pygments_lexer": "ipython3",
   "version": "3.10.4"
  },
  "vscode": {
   "interpreter": {
    "hash": "916dbcbb3f70747c44a77c7bcd40155683ae19c65e1c03b4aa3499c5328201f1"
   }
  }
 },
 "nbformat": 4,
 "nbformat_minor": 5
}
